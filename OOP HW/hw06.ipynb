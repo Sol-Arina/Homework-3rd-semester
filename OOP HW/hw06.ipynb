{
 "cells": [
  {
   "cell_type": "markdown",
   "id": "3aeca3a5-940d-4215-80f8-6388eb48e484",
   "metadata": {},
   "source": [
    "#### Задача 1. \n",
    "\n",
    "С помощью модуля time реализуйте декоратор, который будет высчитывать время выполнения функции."
   ]
  },
  {
   "cell_type": "code",
   "execution_count": 27,
   "id": "877c0370",
   "metadata": {},
   "outputs": [],
   "source": [
    "import time"
   ]
  },
  {
   "cell_type": "code",
   "execution_count": 31,
   "id": "ae317c56-0fe9-461e-a7fc-4f4821a4aac6",
   "metadata": {},
   "outputs": [],
   "source": [
    "def timeit(func):\n",
    "    print('i am decorator')\n",
    "    def wrapper(*args, **kwargs):\n",
    "        print('wrapper: i time your function')\n",
    "        start = time.time()  \n",
    "        result = func(*args, **kwargs)  \n",
    "        finish = time.time()  \n",
    "        timespent = finish - start  \n",
    "        print(f'{func.__name__} выполнилась за {timespent} секунд')\n",
    "        return result\n",
    "    return wrapper"
   ]
  },
  {
   "cell_type": "code",
   "execution_count": 32,
   "id": "e7216d9b",
   "metadata": {},
   "outputs": [
    {
     "name": "stdout",
     "output_type": "stream",
     "text": [
      "i am decorator\n"
     ]
    }
   ],
   "source": [
    "@timeit\n",
    "def importantfunction(seconds):\n",
    "    print('функция выполняется')\n",
    "    time.sleep(seconds) \n",
    "    return 'готово!'"
   ]
  },
  {
   "cell_type": "code",
   "execution_count": 33,
   "id": "3c7441b6",
   "metadata": {},
   "outputs": [
    {
     "name": "stdout",
     "output_type": "stream",
     "text": [
      "wrapper: i time your function\n",
      "функция выполняется\n",
      "importantfunction выполнилась за 2.0057168006896973 секунд\n",
      "готово!\n"
     ]
    }
   ],
   "source": [
    "x = importantfunction(2)\n",
    "print(x)"
   ]
  },
  {
   "cell_type": "markdown",
   "id": "bb1c47da-f6d7-4aec-b94b-fed9014def15",
   "metadata": {},
   "source": [
    "#### Задача 2. \n",
    "\n",
    "Перепишите класс Token с использованием декоратора dataclass."
   ]
  },
  {
   "cell_type": "code",
   "execution_count": 37,
   "id": "bb5b18a4",
   "metadata": {},
   "outputs": [],
   "source": [
    "from dataclasses import dataclass"
   ]
  },
  {
   "cell_type": "code",
   "execution_count": 39,
   "id": "313a477f-c41d-454b-8367-69377d5ba96c",
   "metadata": {},
   "outputs": [],
   "source": [
    "@dataclass\n",
    "class Token:\n",
    "    sentence: str\n",
    "    place: int = 0\n",
    "    lemma: str = None\n",
    "    neighbour: dict = None\n",
    "\n",
    "    def placeinsent(self, word, sentence):\n",
    "        s = sentence.split()\n",
    "        for i in s:\n",
    "            if i == word:\n",
    "                self.place = s.index(i)\n",
    "        print(f'{word} idx = {self.place + 1}')\n",
    "\n",
    "    def setlemma(self, sentence, idx):\n",
    "        s = sentence.split()\n",
    "        self.lemma = s[idx]\n",
    "        print(self.lemma)\n",
    "\n",
    "    def getnbor(self, word):\n",
    "        words = self.sentence.split()\n",
    "        idx = words.index(word)\n",
    "\n",
    "        leftnbor = words[idx - 1] if idx > 0 else None\n",
    "        rightnbor = words[idx + 1] if idx < len(words) - 1 else None\n",
    "\n",
    "        self.neighbour = {'left': leftnbor, 'right': rightnbor}\n",
    "\n",
    "        return self.neighbour"
   ]
  },
  {
   "cell_type": "code",
   "execution_count": 40,
   "id": "e867500f",
   "metadata": {},
   "outputs": [
    {
     "name": "stdout",
     "output_type": "stream",
     "text": [
      "Vasya idx = 4\n"
     ]
    }
   ],
   "source": [
    "sent = 'My name is Vasya'\n",
    "token = Token(sent)\n",
    "token.placeinsent('Vasya', sent)"
   ]
  },
  {
   "cell_type": "code",
   "execution_count": 41,
   "id": "0276820a",
   "metadata": {},
   "outputs": [
    {
     "data": {
      "text/plain": [
       "{'left': 'My', 'right': 'is'}"
      ]
     },
     "execution_count": 41,
     "metadata": {},
     "output_type": "execute_result"
    }
   ],
   "source": [
    "token.getnbor('name')"
   ]
  },
  {
   "cell_type": "code",
   "execution_count": 42,
   "id": "003c2ad6",
   "metadata": {},
   "outputs": [
    {
     "name": "stdout",
     "output_type": "stream",
     "text": [
      "Vasya\n"
     ]
    }
   ],
   "source": [
    "token.setlemma(sent, 3)"
   ]
  },
  {
   "cell_type": "code",
   "execution_count": 43,
   "id": "9c3a6e1a",
   "metadata": {},
   "outputs": [
    {
     "data": {
      "text/plain": [
       "'Vasya'"
      ]
     },
     "execution_count": 43,
     "metadata": {},
     "output_type": "execute_result"
    }
   ],
   "source": [
    "token.lemma"
   ]
  },
  {
   "cell_type": "markdown",
   "id": "b62e85a9-0a1d-4b69-a779-f1c7ac67ea9f",
   "metadata": {},
   "source": [
    "#### Задача 3.\n",
    "\n",
    "Расширьте декоратор таким образом, чтобы а) элементов в кортеже могло быть сколько угодно и они суммировались все б) декоратор был рекурсивным и умел отыскивать самые вложенные кортежи/списки и складывать их элементы, например: \n",
    "[[1, 2], [3, 4]], [[3, 4]] = 17\n",
    "При этом вложенные числа должны быть все на одном уровне (то есть, не может оказаться, чтобы в списке был и список, и число)."
   ]
  },
  {
   "cell_type": "code",
   "execution_count": 44,
   "id": "48c61f1c",
   "metadata": {},
   "outputs": [],
   "source": [
    "def decorator(tuplesum):\n",
    "    print('decorator')\n",
    "    def wrapper(*args):\n",
    "        print('wrapper: я открываю вложенные списки и складываю числа')\n",
    "\n",
    "        def openandsum(item):\n",
    "            if isinstance(item, (list, tuple)):\n",
    "                return sum(openandsum(item2) for item2 in item)\n",
    "            return item\n",
    "\n",
    "        totalsum = sum(openandsum(arg) for arg in args)\n",
    "        return totalsum # здесь хранится сумма\n",
    "\n",
    "    return wrapper"
   ]
  },
  {
   "cell_type": "code",
   "execution_count": 45,
   "id": "d00ced91",
   "metadata": {},
   "outputs": [
    {
     "name": "stdout",
     "output_type": "stream",
     "text": [
      "decorator\n"
     ]
    }
   ],
   "source": [
    "@decorator\n",
    "def tuplesum(*args): # блин теперь получается, что целевая функция ничего не делает\n",
    "    return args"
   ]
  },
  {
   "cell_type": "code",
   "execution_count": 46,
   "id": "dc565254",
   "metadata": {},
   "outputs": [
    {
     "name": "stdout",
     "output_type": "stream",
     "text": [
      "wrapper: я открываю вложенные списки и складываю числа\n"
     ]
    }
   ],
   "source": [
    "result = tuplesum([[1, 2], [3, 4]], [[3, 4]]) # 17"
   ]
  },
  {
   "cell_type": "code",
   "execution_count": 47,
   "id": "37c2d28d",
   "metadata": {},
   "outputs": [
    {
     "name": "stdout",
     "output_type": "stream",
     "text": [
      "сумма чисел в списке = 17\n"
     ]
    }
   ],
   "source": [
    "print(f'сумма чисел в списке = {result}')"
   ]
  }
 ],
 "metadata": {
  "kernelspec": {
   "display_name": "Python 3",
   "language": "python",
   "name": "python3"
  },
  "language_info": {
   "codemirror_mode": {
    "name": "ipython",
    "version": 3
   },
   "file_extension": ".py",
   "mimetype": "text/x-python",
   "name": "python",
   "nbconvert_exporter": "python",
   "pygments_lexer": "ipython3",
   "version": "3.9.13"
  }
 },
 "nbformat": 4,
 "nbformat_minor": 5
}
