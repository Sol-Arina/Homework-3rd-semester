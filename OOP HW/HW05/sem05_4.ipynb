{
 "cells": [
  {
   "cell_type": "markdown",
   "id": "21b6624b-2f75-4a85-a02d-eefdc83e14e5",
   "metadata": {},
   "source": [
    "#### Задача 4. \n",
    "\n",
    "Добавьте к третьей задаче код, который будет перехватывать ваше исключение и требовать ввести правильное значение (в цикле, например). "
   ]
  },
  {
   "cell_type": "code",
   "execution_count": 7,
   "id": "9f6c42b3",
   "metadata": {},
   "outputs": [],
   "source": [
    "class Descriptor1:\n",
    "    '''дескриптор для зарплаты'''\n",
    "    def __init__(self, value):\n",
    "        self.value = value\n",
    "\n",
    "    def __set_name__(self, owner, name):\n",
    "        self.name = name    \n",
    "\n",
    "    def __get__(self, instance, owner=None):\n",
    "        return self.value\n",
    "    \n",
    "    def __set__(self, instance, value):\n",
    "        while True:\n",
    "            try:\n",
    "                if not isinstance(value, int):\n",
    "                    raise ValueError(f'{value} не является числом')\n",
    "                elif value <= 1:\n",
    "                    raise AttributeError(f'нельзя ставить зп меньше 1!!')\n",
    "                else:\n",
    "                    self.value = value\n",
    "                    break  \n",
    "            except (ValueError, AttributeError) as error:\n",
    "                print(f'ошибка {error}')\n",
    "                value = int(input(f'введите нормальное значение зарплаты: '))\n",
    "                \n",
    "\n",
    "class Descriptor2:\n",
    "    '''дескриптор для working hours'''\n",
    "    def __init__(self, value):\n",
    "        self.value = value\n",
    "\n",
    "    def __set_name__(self, owner, name):\n",
    "        self.name = name    \n",
    "\n",
    "    def __get__(self, instance, owner=None):\n",
    "        return self.value\n",
    "    \n",
    "    def __set__(self, instance, value):\n",
    "        while True:\n",
    "            try:\n",
    "                if not isinstance(value, int):\n",
    "                    raise ValueError(f'{value} не является числом')\n",
    "                elif value > 8:\n",
    "                    raise AttributeError(f'нельзя ставить часы больше 8!!')\n",
    "                else:\n",
    "                    self.value = value\n",
    "                    break  \n",
    "            except (ValueError, AttributeError) as error:\n",
    "                print(f'ошибка {error}')\n",
    "                value = int(input(f'введите приемлимые часы работы: '))\n",
    "\n",
    "\n",
    "class Linguist:\n",
    "    salary = Descriptor1(123)\n",
    "    hours = Descriptor2(5)\n",
    "    def __init__(self, name, lastname, age):\n",
    "       self.name = name\n",
    "       self.lastname = lastname \n",
    "       self.age = age  "
   ]
  },
  {
   "cell_type": "code",
   "execution_count": 8,
   "id": "7d55484b",
   "metadata": {},
   "outputs": [],
   "source": [
    "ling3 = Linguist('jhgfgxdv', 'egrfwedw', 50)"
   ]
  },
  {
   "cell_type": "code",
   "execution_count": 10,
   "id": "d4287889",
   "metadata": {},
   "outputs": [
    {
     "name": "stdout",
     "output_type": "stream",
     "text": [
      "ошибка nhbgdfvsd не является числом\n",
      "ошибка нельзя ставить зп меньше 1!!\n",
      "ошибка нельзя ставить зп меньше 1!!\n"
     ]
    }
   ],
   "source": [
    "ling3.salary = 'nhbgdfvsd'"
   ]
  },
  {
   "cell_type": "code",
   "execution_count": 11,
   "id": "b9f13429",
   "metadata": {},
   "outputs": [
    {
     "data": {
      "text/plain": [
       "500"
      ]
     },
     "execution_count": 11,
     "metadata": {},
     "output_type": "execute_result"
    }
   ],
   "source": [
    "ling3.salary # последнее записанное значение правильное"
   ]
  }
 ],
 "metadata": {
  "kernelspec": {
   "display_name": "Python 3",
   "language": "python",
   "name": "python3"
  },
  "language_info": {
   "codemirror_mode": {
    "name": "ipython",
    "version": 3
   },
   "file_extension": ".py",
   "mimetype": "text/x-python",
   "name": "python",
   "nbconvert_exporter": "python",
   "pygments_lexer": "ipython3",
   "version": "3.9.13"
  }
 },
 "nbformat": 4,
 "nbformat_minor": 5
}
