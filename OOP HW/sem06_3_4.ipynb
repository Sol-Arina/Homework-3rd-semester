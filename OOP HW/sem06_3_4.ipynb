{
 "cells": [
  {
   "cell_type": "markdown",
   "id": "68c85a1a-261b-4da7-b22c-acbad39ab2e8",
   "metadata": {},
   "source": [
    "#### Задача 3. \n",
    "\n",
    "Напишите декоратор-класс, который будет пытаться вызывать функцию повторно, если во время ее выполнения возникла какая-то ошибка (представим себе, что у нас есть функции API, которые иногда возвращают ошибку при сбое соединения: тогда нужно подождать и повторно их вызвать). "
   ]
  },
  {
   "cell_type": "code",
   "execution_count": 6,
   "id": "a56cb7a2",
   "metadata": {},
   "outputs": [],
   "source": [
    "import time\n",
    "import random"
   ]
  },
  {
   "cell_type": "code",
   "execution_count": 18,
   "id": "9f948e76-c358-4bcb-a9c8-4f2495dc43fa",
   "metadata": {},
   "outputs": [],
   "source": [
    "class callfunction:\n",
    "    def __init__(self, tryagain=0, wait=0):\n",
    "        self.tryagain = tryagain\n",
    "        self.wait = wait\n",
    "\n",
    "    def __call__(self, func):\n",
    "        def wrapper(*args, **kwargs):\n",
    "            tries = 0\n",
    "            while tries < self.tryagain:\n",
    "                print('подключение...')\n",
    "                try:\n",
    "                    return func(*args, **kwargs)\n",
    "                except Exception as e:\n",
    "                    tries += 1\n",
    "                    if tries == self.tryagain:\n",
    "                        raise\n",
    "                    time.sleep(self.wait)\n",
    "                    print('попробуем ещё')\n",
    "        return wrapper\n",
    "    "
   ]
  },
  {
   "cell_type": "code",
   "execution_count": 21,
   "id": "12b639b4",
   "metadata": {},
   "outputs": [
    {
     "name": "stdout",
     "output_type": "stream",
     "text": [
      "подключение...\n",
      "попробуем ещё\n",
      "подключение...\n",
      "подключились!\n"
     ]
    }
   ],
   "source": [
    "@callfunction(tryagain=5, wait=3)\n",
    "def callingAPI():\n",
    "    if random.random() < 0.5: \n",
    "        raise ConnectionError('не получилось подключиться')\n",
    "    return 'подключились!'\n",
    "\n",
    "res = callingAPI()\n",
    "print(res)"
   ]
  },
  {
   "cell_type": "markdown",
   "id": "ba14cf2f-22d1-4bab-9693-02246f533dc0",
   "metadata": {},
   "source": [
    "#### Задача 4. \n",
    "\n",
    "Допустим, у нас есть функция, которая возвращает сумму своих аргументов. Напишите декоратор, который будет позволять такой функции складывать попарно элементы в кортежах, которые передаются списком, то есть, список [(1, 2), (3, 4)] вернет [3, 7]."
   ]
  },
  {
   "cell_type": "code",
   "execution_count": 5,
   "id": "ffbcbb55-1422-42b1-a736-cd80614f866c",
   "metadata": {},
   "outputs": [],
   "source": [
    "def decorator(tuplesum): \n",
    "    print('decorator')\n",
    "    def wrapper(tuple):\n",
    "        print('wrapper: i put tuple sums in []')\n",
    "        return [tuplesum(a, b) for a, b in tuple] # modified res\n",
    "    return wrapper "
   ]
  },
  {
   "cell_type": "code",
   "execution_count": 6,
   "id": "a5131fbe",
   "metadata": {},
   "outputs": [
    {
     "name": "stdout",
     "output_type": "stream",
     "text": [
      "decorator\n"
     ]
    }
   ],
   "source": [
    "@decorator\n",
    "def tuplesum(x, y):  # это целевая функция\n",
    "    print(f'now i open and sum tuples')\n",
    "    return x + y\n"
   ]
  },
  {
   "cell_type": "code",
   "execution_count": 7,
   "id": "e90ca5e3",
   "metadata": {},
   "outputs": [
    {
     "name": "stdout",
     "output_type": "stream",
     "text": [
      "wrapper: i put tuple sums in []\n",
      "now i open and sum tuples\n",
      "now i open and sum tuples\n",
      "now i open and sum tuples\n"
     ]
    }
   ],
   "source": [
    "mylist = [(1, 2), (3, 4), (5, 6)]\n",
    "\n",
    "tuplesums = tuplesum(mylist)"
   ]
  },
  {
   "cell_type": "code",
   "execution_count": 8,
   "id": "854e8fa0",
   "metadata": {},
   "outputs": [
    {
     "name": "stdout",
     "output_type": "stream",
     "text": [
      "[3, 7, 11]\n"
     ]
    }
   ],
   "source": [
    "print(tuplesums)"
   ]
  }
 ],
 "metadata": {
  "kernelspec": {
   "display_name": "Python 3",
   "language": "python",
   "name": "python3"
  },
  "language_info": {
   "codemirror_mode": {
    "name": "ipython",
    "version": 3
   },
   "file_extension": ".py",
   "mimetype": "text/x-python",
   "name": "python",
   "nbconvert_exporter": "python",
   "pygments_lexer": "ipython3",
   "version": "3.9.13"
  }
 },
 "nbformat": 4,
 "nbformat_minor": 5
}
