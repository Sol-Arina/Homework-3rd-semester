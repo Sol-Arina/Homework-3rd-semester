{
 "cells": [
  {
   "cell_type": "markdown",
   "id": "3912546a-7e05-459d-9677-ec831065eeb6",
   "metadata": {},
   "source": [
    "#### Задача 1. \n",
    "\n",
    "Напишите метакласс с логированием: при определении любого нового класса в файл (путь к которому хранится в статическом атрибуте метакласса) записывается имя этого класса, его суперклассы и атрибуты. "
   ]
  },
  {
   "cell_type": "code",
   "execution_count": 38,
   "id": "af0d1736-d64f-4d35-afd3-f0993f595d1a",
   "metadata": {},
   "outputs": [],
   "source": [
    "class Metalog(type):\n",
    "    st = r'C:\\Users\\PC\\Desktop\\log.txt'\n",
    "    def __new__(cls, name, bases, dct):\n",
    "        x = super().__new__(cls, name, bases, dct)\n",
    "        with open(cls.st, 'a', encoding='utf8') as file:\n",
    "            for k, v in dct.items():\n",
    "                file.write(f'{k}: {v}')\n",
    "            print('log created in log.txt')\n",
    "        return x    "
   ]
  },
  {
   "cell_type": "code",
   "execution_count": 39,
   "id": "51e4ebee",
   "metadata": {},
   "outputs": [
    {
     "name": "stdout",
     "output_type": "stream",
     "text": [
      "log created in log.txt\n"
     ]
    }
   ],
   "source": [
    "class Logclass(metaclass=Metalog):\n",
    "    x = 32\n",
    "    y = 'yuhnjjnkml'\n",
    "    def somemethod(self):\n",
    "        pass"
   ]
  },
  {
   "cell_type": "code",
   "execution_count": 40,
   "id": "169fc8cf",
   "metadata": {},
   "outputs": [
    {
     "name": "stdout",
     "output_type": "stream",
     "text": [
      "log created in log.txt\n"
     ]
    }
   ],
   "source": [
    "class Logclass1(metaclass=Metalog):\n",
    "    x = 32\n",
    "    y = 'yuhnjjnkml'\n",
    "    def somemethod(self):\n",
    "        pass"
   ]
  },
  {
   "cell_type": "markdown",
   "id": "941a875a-a499-40a7-a719-de7f5faf5335",
   "metadata": {},
   "source": [
    "#### Задача 2. \n",
    "\n",
    "Напишите метакласс, который любому новому классу будет добавлять метод sayHello(\\*args, \\*\\*kwargs). "
   ]
  },
  {
   "cell_type": "code",
   "execution_count": 41,
   "id": "abbb5388-fec9-404b-a968-5a0f3bebfbec",
   "metadata": {},
   "outputs": [],
   "source": [
    "class Meta(type):\n",
    "    def __new__(cls, name, bases, dct):\n",
    "        dct['sayHello'] = lambda *args, **kwargs: print('hello')\n",
    "        x = super().__new__(cls, name, bases, dct)\n",
    "        return x\n"
   ]
  },
  {
   "cell_type": "code",
   "execution_count": 42,
   "id": "0aaf3621",
   "metadata": {},
   "outputs": [],
   "source": [
    "class Human(metaclass=Meta):\n",
    "    def __init__(self, name, age):\n",
    "        self.name = name\n",
    "        self.age = age"
   ]
  },
  {
   "cell_type": "code",
   "execution_count": 43,
   "id": "c2027d32",
   "metadata": {},
   "outputs": [],
   "source": [
    "h = Human('Vasya', 110)"
   ]
  },
  {
   "cell_type": "code",
   "execution_count": 44,
   "id": "f6250ec3",
   "metadata": {},
   "outputs": [
    {
     "name": "stdout",
     "output_type": "stream",
     "text": [
      "hello\n"
     ]
    }
   ],
   "source": [
    "h.sayHello()"
   ]
  },
  {
   "cell_type": "markdown",
   "id": "fbef0a1a-e89c-44c6-8fb6-bf12eed79f4b",
   "metadata": {},
   "source": [
    "#### Задача 3. \n",
    "\n",
    "Напишите метакласс, который позволяет своим классам иметь только атрибуты name, surname, age и никаких других. "
   ]
  },
  {
   "cell_type": "code",
   "execution_count": 45,
   "id": "c903ced6",
   "metadata": {},
   "outputs": [],
   "source": [
    "class Meta(type):\n",
    "    def __new__(cls, name, bases, dct):\n",
    "        dct['__slots__'] = ('name', 'surname', 'age')\n",
    "        return super().__new__(cls, name, bases, dct)"
   ]
  },
  {
   "cell_type": "code",
   "execution_count": 46,
   "id": "ae543db8",
   "metadata": {},
   "outputs": [],
   "source": [
    "class Person(metaclass=Meta):\n",
    "        def __init__(self, name, surname, age):\n",
    "            name = name\n",
    "            surname = surname\n",
    "            age = age"
   ]
  },
  {
   "cell_type": "code",
   "execution_count": 47,
   "id": "a1a10dde",
   "metadata": {},
   "outputs": [],
   "source": [
    "p = Person('Karen', 'O', 45)"
   ]
  },
  {
   "cell_type": "code",
   "execution_count": 48,
   "id": "212cc502",
   "metadata": {},
   "outputs": [
    {
     "ename": "AttributeError",
     "evalue": "'Person' object has no attribute 'children'",
     "output_type": "error",
     "traceback": [
      "\u001b[1;31m---------------------------------------------------------------------------\u001b[0m",
      "\u001b[1;31mAttributeError\u001b[0m                            Traceback (most recent call last)",
      "Cell \u001b[1;32mIn[48], line 1\u001b[0m\n\u001b[1;32m----> 1\u001b[0m \u001b[43mp\u001b[49m\u001b[38;5;241;43m.\u001b[39;49m\u001b[43mchildren\u001b[49m \u001b[38;5;241m=\u001b[39m \u001b[38;5;241m1\u001b[39m\n",
      "\u001b[1;31mAttributeError\u001b[0m: 'Person' object has no attribute 'children'"
     ]
    }
   ],
   "source": [
    "p.children = 1"
   ]
  },
  {
   "cell_type": "markdown",
   "id": "50fd191e-dd8a-4bda-9229-529b126ceb3b",
   "metadata": {},
   "source": [
    "#### Задача 4 (2 балла). \n",
    "\n",
    "Приготовимся в большом проекте создать игру-стратегию (графику потом дизайнеры добавят). Наша игра будет называться Dawn of Man, и задачей игрока будет управлять поселением первобытных людей, которые в процессе набирают очки знаний и открывают новые технологии. Наши люди - это отдельные юниты, которые умеют взаимодействовать с элементами окружающей среды: у них будут какие-то инструменты для создания еды, оружия и прочего (например, какой-нибудь навес, под которым человек садится, набрав палок и камней, и ваяет себе палку-копалку). \n",
    "\n",
    "Наша задача - набросать черновик для игры: создать абстрактные классы для людей, объектов, с которыми они взаимодействуют, чтобы создавать вещи, и собственно вещей. Возможно, имеет смысл также предусмотреть черновик-класс для животных, на которых люди будут охотиться. \n",
    "\n",
    "Попробуйте также создать конкретный класс для кого-нибудь из них. "
   ]
  },
  {
   "cell_type": "code",
   "execution_count": 49,
   "id": "6e644cce-f06e-4d69-b451-935915630b3a",
   "metadata": {},
   "outputs": [],
   "source": [
    "from abc import ABC, abstractmethod"
   ]
  },
  {
   "cell_type": "code",
   "execution_count": 59,
   "id": "b8ffdad1",
   "metadata": {},
   "outputs": [],
   "source": [
    "class Human(ABC):\n",
    "    '''прародитель всех людей'''\n",
    "    def __init__(self, name, age):\n",
    "        self.name = name\n",
    "        self.age = age\n",
    "    @abstractmethod\n",
    "    def gather():\n",
    "        pass\n",
    "    @abstractmethod\n",
    "    def hunt():\n",
    "        pass\n",
    "    @abstractmethod\n",
    "    def makethings():\n",
    "        pass\n",
    "\n",
    "\n",
    "class Tool(ABC):\n",
    "    '''мать всех инструментов'''\n",
    "    def __repr__(self):\n",
    "        return f\"Tool(name='{self.name}')\"\n",
    "    \n",
    "    @abstractmethod\n",
    "    def beused(self):\n",
    "        pass    \n",
    "\n",
    "\n",
    "class Animal(ABC):\n",
    "    '''прародитель всех животных'''\n",
    "    def __repr__(self):\n",
    "        return f\"Animal(name='{self.name}')\"\n",
    "    \n",
    "    @abstractmethod\n",
    "    def eat(self):\n",
    "        pass\n",
    "    @abstractmethod\n",
    "    def run(self):\n",
    "        pass\n",
    "    @abstractmethod\n",
    "    def alive(self):\n",
    "        pass   \n",
    "\n",
    "\n",
    "class Rock(Tool):\n",
    "    '''камень - дитя инструмента'''\n",
    "    def __init__(self, name):\n",
    "        self.name = name\n",
    "        self.durability = 50\n",
    "    def beused(self):\n",
    "        print('rock is used')\n",
    "        \n",
    "\n",
    "class Stick(Tool):\n",
    "    '''палка - дитя инструмента'''\n",
    "    def __init__(self, name):\n",
    "        self.name = name\n",
    "        self.durability = 20\n",
    "    def beused(self):\n",
    "        print('stick is used')\n",
    "       \n",
    "\n",
    "class Huntergatherer(Human):\n",
    "    '''охотник, по совместительству собиратель'''\n",
    "    def __init__(self, name, age):\n",
    "        super().__init__(self, name)\n",
    "        self.name = name\n",
    "        self.age = age\n",
    "        self.sack = Sack()\n",
    "        self.food = []\n",
    "        self.xp = 0\n",
    "\n",
    "    def gather(self, fruit):\n",
    "        print(f'Hunter-gatherer {self.name} gathered {fruit}')\n",
    "\n",
    "    def hunt(self, animal):\n",
    "        for tool in self.sack:\n",
    "            if tool.durability > 60:\n",
    "                print(f'Hunter-gatherer {self.name} hunts {animal} with {tool} successfully')\n",
    "                self.food.append(animal.meat)\n",
    "                self.xp += 15 \n",
    "                print(f'{self.name} добыл еду, это {animal.meat}')\n",
    "                print(f'опыт: {self.xp}')\n",
    "\n",
    "    def showsack(self):\n",
    "        print('Все предметы в мешке:')\n",
    "        for tool in self.sack:\n",
    "            print(tool.name)    \n",
    "\n",
    "    def makethings(self):\n",
    "        if self.sack:\n",
    "            print('i make a better stick')\n",
    "            newstick = Stick('better stick')\n",
    "            newstick.durability = 70\n",
    "            self.sack.add_tool(newstick)\n",
    "            print(f'{newstick} добавлен в мешок')\n",
    "            self.xp += 5\n",
    "            print(f'опыт: {self.xp}')\n",
    "\n",
    "\n",
    "class Sack:\n",
    "    '''мешок охотника собирателя'''\n",
    "    def __init__(self):\n",
    "        self.collection = []\n",
    "\n",
    "    def add_tool(self, tool):\n",
    "        self.collection.append(tool)\n",
    "\n",
    "    def __iter__(self):\n",
    "        return iter(self.collection)\n",
    "\n",
    "    def __reversed__(self):\n",
    "        return iter(self.collection[::-1])\n",
    "    \n",
    "\n",
    "class Deer(Animal):\n",
    "    '''олень'''\n",
    "    def __init__(self, name):\n",
    "        self.name = name\n",
    "        self.meat = 'veal'\n",
    "\n",
    "    def eat(self):\n",
    "        pass\n",
    "    \n",
    "    def run(self):\n",
    "        pass\n",
    "    \n",
    "    def alive(self):\n",
    "        pass       "
   ]
  },
  {
   "cell_type": "code",
   "execution_count": 60,
   "id": "7b3b9f1d",
   "metadata": {},
   "outputs": [],
   "source": [
    "human = Huntergatherer('Vasya', 15)"
   ]
  },
  {
   "cell_type": "code",
   "execution_count": 61,
   "id": "933fa41d",
   "metadata": {},
   "outputs": [],
   "source": [
    "rock = Rock('rock')\n",
    "stick = Stick('stick')"
   ]
  },
  {
   "cell_type": "code",
   "execution_count": 62,
   "id": "9487ba28",
   "metadata": {},
   "outputs": [],
   "source": [
    "human.sack.add_tool(rock)"
   ]
  },
  {
   "cell_type": "code",
   "execution_count": 63,
   "id": "7f873c3f",
   "metadata": {},
   "outputs": [],
   "source": [
    "human.sack.add_tool(stick)"
   ]
  },
  {
   "cell_type": "code",
   "execution_count": 64,
   "id": "02cf9aa3",
   "metadata": {},
   "outputs": [
    {
     "name": "stdout",
     "output_type": "stream",
     "text": [
      "i make a better stick\n",
      "Tool(name='better stick') добавлен в мешок\n",
      "опыт: 5\n"
     ]
    }
   ],
   "source": [
    "human.makethings()"
   ]
  },
  {
   "cell_type": "code",
   "execution_count": 65,
   "id": "f23ca439",
   "metadata": {},
   "outputs": [
    {
     "name": "stdout",
     "output_type": "stream",
     "text": [
      "Все предметы в мешке:\n",
      "rock\n",
      "stick\n",
      "better stick\n"
     ]
    }
   ],
   "source": [
    "human.showsack()"
   ]
  },
  {
   "cell_type": "code",
   "execution_count": 66,
   "id": "945abf39",
   "metadata": {},
   "outputs": [],
   "source": [
    "deer = Deer('олень')"
   ]
  },
  {
   "cell_type": "code",
   "execution_count": 67,
   "id": "5aea01a7",
   "metadata": {},
   "outputs": [
    {
     "name": "stdout",
     "output_type": "stream",
     "text": [
      "Hunter-gatherer Vasya hunts Animal(name='олень') with Tool(name='better stick') successfully\n",
      "Vasya добыл еду, это veal\n",
      "опыт: 20\n"
     ]
    }
   ],
   "source": [
    "human.hunt(deer)"
   ]
  }
 ],
 "metadata": {
  "kernelspec": {
   "display_name": "Python 3",
   "language": "python",
   "name": "python3"
  },
  "language_info": {
   "codemirror_mode": {
    "name": "ipython",
    "version": 3
   },
   "file_extension": ".py",
   "mimetype": "text/x-python",
   "name": "python",
   "nbconvert_exporter": "python",
   "pygments_lexer": "ipython3",
   "version": "3.9.13"
  }
 },
 "nbformat": 4,
 "nbformat_minor": 5
}
