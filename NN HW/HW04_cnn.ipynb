{
  "cells": [
    {
      "cell_type": "markdown",
      "metadata": {
        "id": "ZQ8sPi8XC64S"
      },
      "source": [
        "# Домашнее задание 4 \n",
        "\n",
        "### Выберите любой датасет с картинками с kaggle (можно собрать свой!) и обучите на нем свертку-классификатор."
      ]
    },
    {
      "cell_type": "markdown",
      "metadata": {
        "id": "xev5dOB6DFHG"
      },
      "source": [
        "Я увидела датасет с покемонами, захотелось https://www.kaggle.com/datasets/vishalsubbiah/pokemon-images-and-types/data"
      ]
    },
    {
      "cell_type": "code",
      "execution_count": 1,
      "metadata": {
        "colab": {
          "base_uri": "https://localhost:8080/"
        },
        "id": "CdD_6uK3DAv-",
        "outputId": "14870e75-4843-4bda-a276-ec008fc6c6fe"
      },
      "outputs": [
        {
          "name": "stdout",
          "output_type": "stream",
          "text": [
            "Requirement already satisfied: torchvision in /usr/local/lib/python3.10/dist-packages (0.20.1+cu121)\n",
            "Collecting torchmetrics\n",
            "  Downloading torchmetrics-1.6.1-py3-none-any.whl.metadata (21 kB)\n",
            "Requirement already satisfied: numpy in /usr/local/lib/python3.10/dist-packages (from torchvision) (1.26.4)\n",
            "Requirement already satisfied: torch==2.5.1 in /usr/local/lib/python3.10/dist-packages (from torchvision) (2.5.1+cu121)\n",
            "Requirement already satisfied: pillow!=8.3.*,>=5.3.0 in /usr/local/lib/python3.10/dist-packages (from torchvision) (11.0.0)\n",
            "Requirement already satisfied: filelock in /usr/local/lib/python3.10/dist-packages (from torch==2.5.1->torchvision) (3.16.1)\n",
            "Requirement already satisfied: typing-extensions>=4.8.0 in /usr/local/lib/python3.10/dist-packages (from torch==2.5.1->torchvision) (4.12.2)\n",
            "Requirement already satisfied: networkx in /usr/local/lib/python3.10/dist-packages (from torch==2.5.1->torchvision) (3.4.2)\n",
            "Requirement already satisfied: jinja2 in /usr/local/lib/python3.10/dist-packages (from torch==2.5.1->torchvision) (3.1.4)\n",
            "Requirement already satisfied: fsspec in /usr/local/lib/python3.10/dist-packages (from torch==2.5.1->torchvision) (2024.10.0)\n",
            "Requirement already satisfied: sympy==1.13.1 in /usr/local/lib/python3.10/dist-packages (from torch==2.5.1->torchvision) (1.13.1)\n",
            "Requirement already satisfied: mpmath<1.4,>=1.1.0 in /usr/local/lib/python3.10/dist-packages (from sympy==1.13.1->torch==2.5.1->torchvision) (1.3.0)\n",
            "Requirement already satisfied: packaging>17.1 in /usr/local/lib/python3.10/dist-packages (from torchmetrics) (24.2)\n",
            "Collecting lightning-utilities>=0.8.0 (from torchmetrics)\n",
            "  Downloading lightning_utilities-0.11.9-py3-none-any.whl.metadata (5.2 kB)\n",
            "Requirement already satisfied: setuptools in /usr/local/lib/python3.10/dist-packages (from lightning-utilities>=0.8.0->torchmetrics) (75.1.0)\n",
            "Requirement already satisfied: MarkupSafe>=2.0 in /usr/local/lib/python3.10/dist-packages (from jinja2->torch==2.5.1->torchvision) (3.0.2)\n",
            "Downloading torchmetrics-1.6.1-py3-none-any.whl (927 kB)\n",
            "\u001b[2K   \u001b[90m━━━━━━━━━━━━━━━━━━━━━━━━━━━━━━━━━━━━━━━━\u001b[0m \u001b[32m927.3/927.3 kB\u001b[0m \u001b[31m18.1 MB/s\u001b[0m eta \u001b[36m0:00:00\u001b[0m\n",
            "\u001b[?25hDownloading lightning_utilities-0.11.9-py3-none-any.whl (28 kB)\n",
            "Installing collected packages: lightning-utilities, torchmetrics\n",
            "Successfully installed lightning-utilities-0.11.9 torchmetrics-1.6.1\n"
          ]
        }
      ],
      "source": [
        "!pip install torchvision torchmetrics"
      ]
    },
    {
      "cell_type": "code",
      "execution_count": 127,
      "metadata": {
        "id": "r4ZJUU5jDA5Z"
      },
      "outputs": [],
      "source": [
        "import torch\n",
        "import torch.nn as nn\n",
        "import torch.nn.functional as F\n",
        "import torch.optim as optim\n",
        "import matplotlib.pyplot as plt\n",
        "import numpy as np\n",
        "from torchvision import datasets, transforms\n",
        "from torch.utils.data import Dataset, DataLoader\n",
        "from torchvision.transforms import Compose, Normalize, ToTensor\n",
        "\n",
        "from torchmetrics import Accuracy as VAccuracy\n",
        "from tqdm import tqdm\n",
        "import random\n",
        "\n",
        "import pandas as pd\n",
        "from PIL import Image\n",
        "import os\n",
        "from sklearn.preprocessing import LabelEncoder"
      ]
    },
    {
      "cell_type": "code",
      "execution_count": 128,
      "metadata": {
        "id": "8TfwiyuupRJT"
      },
      "outputs": [],
      "source": [
        "def set_random_seed(seed):\n",
        "    torch.backends.cudnn.deterministic = True\n",
        "    torch.manual_seed(seed)\n",
        "    torch.cuda.manual_seed(seed)\n",
        "    np.random.seed(seed)\n",
        "    random.seed(seed)"
      ]
    },
    {
      "cell_type": "code",
      "execution_count": 4,
      "metadata": {
        "colab": {
          "base_uri": "https://localhost:8080/"
        },
        "id": "an_xtOHCDDyV",
        "outputId": "9890f62d-7d03-4b16-aca4-4ef827ebda9f"
      },
      "outputs": [
        {
          "name": "stdout",
          "output_type": "stream",
          "text": [
            "Requirement already satisfied: kaggle in /usr/local/lib/python3.10/dist-packages (1.6.17)\n",
            "Requirement already satisfied: six>=1.10 in /usr/local/lib/python3.10/dist-packages (from kaggle) (1.17.0)\n",
            "Requirement already satisfied: certifi>=2023.7.22 in /usr/local/lib/python3.10/dist-packages (from kaggle) (2024.12.14)\n",
            "Requirement already satisfied: python-dateutil in /usr/local/lib/python3.10/dist-packages (from kaggle) (2.8.2)\n",
            "Requirement already satisfied: requests in /usr/local/lib/python3.10/dist-packages (from kaggle) (2.32.3)\n",
            "Requirement already satisfied: tqdm in /usr/local/lib/python3.10/dist-packages (from kaggle) (4.67.1)\n",
            "Requirement already satisfied: python-slugify in /usr/local/lib/python3.10/dist-packages (from kaggle) (8.0.4)\n",
            "Requirement already satisfied: urllib3 in /usr/local/lib/python3.10/dist-packages (from kaggle) (2.2.3)\n",
            "Requirement already satisfied: bleach in /usr/local/lib/python3.10/dist-packages (from kaggle) (6.2.0)\n",
            "Requirement already satisfied: webencodings in /usr/local/lib/python3.10/dist-packages (from bleach->kaggle) (0.5.1)\n",
            "Requirement already satisfied: text-unidecode>=1.3 in /usr/local/lib/python3.10/dist-packages (from python-slugify->kaggle) (1.3)\n",
            "Requirement already satisfied: charset-normalizer<4,>=2 in /usr/local/lib/python3.10/dist-packages (from requests->kaggle) (3.4.0)\n",
            "Requirement already satisfied: idna<4,>=2.5 in /usr/local/lib/python3.10/dist-packages (from requests->kaggle) (3.10)\n",
            "cp: cannot create regular file '/root/.kaggle/kaggle.json': No such file or directory\n",
            "Traceback (most recent call last):\n",
            "  File \"/usr/local/bin/kaggle\", line 5, in <module>\n",
            "    from kaggle.cli import main\n",
            "  File \"/usr/local/lib/python3.10/dist-packages/kaggle/__init__.py\", line 7, in <module>\n",
            "    api.authenticate()\n",
            "  File \"/usr/local/lib/python3.10/dist-packages/kaggle/api/kaggle_api_extended.py\", line 407, in authenticate\n",
            "    raise IOError('Could not find {}. Make sure it\\'s located in'\n",
            "OSError: Could not find kaggle.json. Make sure it's located in /root/.config/kaggle. Or use the environment method. See setup instructions at https://github.com/Kaggle/kaggle-api/\n",
            "chmod: cannot access '/root/.kaggle/kaggle.json': No such file or directory\n",
            "Dataset URL: https://www.kaggle.com/datasets/vishalsubbiah/pokemon-images-and-types\n",
            "License(s): Attribution 4.0 International (CC BY 4.0)\n",
            "Downloading pokemon-images-and-types.zip to /content\n",
            "  0% 0.00/3.68M [00:00<?, ?B/s]\n",
            "100% 3.68M/3.68M [00:00<00:00, 165MB/s]\n",
            "Archive:  pokemon-images-and-types.zip\n",
            "  inflating: images/abomasnow.png    \n",
            "  inflating: images/abra.png         \n",
            "  inflating: images/absol.png        \n",
            "  inflating: images/accelgor.png     \n",
            "  inflating: images/aegislash-blade.png  \n",
            "  inflating: images/aerodactyl.png   \n",
            "  inflating: images/aggron.png       \n",
            "  inflating: images/aipom.png        \n",
            "  inflating: images/alakazam.png     \n",
            "  inflating: images/alomomola.png    \n",
            "  inflating: images/altaria.png      \n",
            "  inflating: images/amaura.png       \n",
            "  inflating: images/ambipom.png      \n",
            "  inflating: images/amoonguss.png    \n",
            "  inflating: images/ampharos.png     \n",
            "  inflating: images/anorith.png      \n",
            "  inflating: images/araquanid.png    \n",
            "  inflating: images/arbok.png        \n",
            "  inflating: images/arcanine.png     \n",
            "  inflating: images/arceus.png       \n",
            "  inflating: images/archen.png       \n",
            "  inflating: images/archeops.png     \n",
            "  inflating: images/ariados.png      \n",
            "  inflating: images/armaldo.png      \n",
            "  inflating: images/aromatisse.png   \n",
            "  inflating: images/aron.png         \n",
            "  inflating: images/articuno.png     \n",
            "  inflating: images/audino.png       \n",
            "  inflating: images/aurorus.png      \n",
            "  inflating: images/avalugg.png      \n",
            "  inflating: images/axew.png         \n",
            "  inflating: images/azelf.png        \n",
            "  inflating: images/azumarill.png    \n",
            "  inflating: images/azurill.png      \n",
            "  inflating: images/bagon.png        \n",
            "  inflating: images/baltoy.png       \n",
            "  inflating: images/banette.png      \n",
            "  inflating: images/barbaracle.png   \n",
            "  inflating: images/barboach.png     \n",
            "  inflating: images/basculin-red-striped.png  \n",
            "  inflating: images/bastiodon.png    \n",
            "  inflating: images/bayleef.png      \n",
            "  inflating: images/beartic.png      \n",
            "  inflating: images/beautifly.png    \n",
            "  inflating: images/beedrill.png     \n",
            "  inflating: images/beheeyem.png     \n",
            "  inflating: images/beldum.png       \n",
            "  inflating: images/bellossom.png    \n",
            "  inflating: images/bellsprout.png   \n",
            "  inflating: images/bergmite.png     \n",
            "  inflating: images/bewear.png       \n",
            "  inflating: images/bibarel.png      \n",
            "  inflating: images/bidoof.png       \n",
            "  inflating: images/binacle.png      \n",
            "  inflating: images/bisharp.png      \n",
            "  inflating: images/blacephalon.png  \n",
            "  inflating: images/blastoise.png    \n",
            "  inflating: images/blaziken.png     \n",
            "  inflating: images/blissey.png      \n",
            "  inflating: images/blitzle.png      \n",
            "  inflating: images/boldore.png      \n",
            "  inflating: images/bonsly.png       \n",
            "  inflating: images/bouffalant.png   \n",
            "  inflating: images/bounsweet.png    \n",
            "  inflating: images/braixen.png      \n",
            "  inflating: images/braviary.png     \n",
            "  inflating: images/breloom.png      \n",
            "  inflating: images/brionne.png      \n",
            "  inflating: images/bronzong.png     \n",
            "  inflating: images/bronzor.png      \n",
            "  inflating: images/bruxish.png      \n",
            "  inflating: images/budew.png        \n",
            "  inflating: images/buizel.png       \n",
            "  inflating: images/bulbasaur.png    \n",
            "  inflating: images/buneary.png      \n",
            "  inflating: images/bunnelby.png     \n",
            "  inflating: images/burmy.png        \n",
            "  inflating: images/butterfree.png   \n",
            "  inflating: images/buzzwole.png     \n",
            "  inflating: images/cacnea.png       \n",
            "  inflating: images/cacturne.png     \n",
            "  inflating: images/camerupt.png     \n",
            "  inflating: images/carbink.png      \n",
            "  inflating: images/carnivine.png    \n",
            "  inflating: images/carracosta.png   \n",
            "  inflating: images/carvanha.png     \n",
            "  inflating: images/cascoon.png      \n",
            "  inflating: images/castform.png     \n",
            "  inflating: images/caterpie.png     \n",
            "  inflating: images/celebi.png       \n",
            "  inflating: images/celesteela.png   \n",
            "  inflating: images/chandelure.png   \n",
            "  inflating: images/chansey.png      \n",
            "  inflating: images/charizard.png    \n",
            "  inflating: images/charjabug.png    \n",
            "  inflating: images/charmander.png   \n",
            "  inflating: images/charmeleon.png   \n",
            "  inflating: images/chatot.png       \n",
            "  inflating: images/cherrim.png      \n",
            "  inflating: images/cherubi.png      \n",
            "  inflating: images/chesnaught.png   \n",
            "  inflating: images/chespin.png      \n",
            "  inflating: images/chikorita.png    \n",
            "  inflating: images/chimchar.png     \n",
            "  inflating: images/chimecho.png     \n",
            "  inflating: images/chinchou.png     \n",
            "  inflating: images/chingling.png    \n",
            "  inflating: images/cinccino.png     \n",
            "  inflating: images/clamperl.png     \n",
            "  inflating: images/clauncher.png    \n",
            "  inflating: images/clawitzer.png    \n",
            "  inflating: images/claydol.png      \n",
            "  inflating: images/clefable.png     \n",
            "  inflating: images/clefairy.png     \n",
            "  inflating: images/cleffa.png       \n",
            "  inflating: images/cloyster.png     \n",
            "  inflating: images/cobalion.png     \n",
            "  inflating: images/cofagrigus.png   \n",
            "  inflating: images/combee.png       \n",
            "  inflating: images/combusken.png    \n",
            "  inflating: images/comfey.png       \n",
            "  inflating: images/conkeldurr.png   \n",
            "  inflating: images/corphish.png     \n",
            "  inflating: images/corsola.png      \n",
            "  inflating: images/cosmoem.png      \n",
            "  inflating: images/cosmog.png       \n",
            "  inflating: images/cottonee.png     \n",
            "  inflating: images/crabominable.png  \n",
            "  inflating: images/crabrawler.png   \n",
            "  inflating: images/cradily.png      \n",
            "  inflating: images/cranidos.png     \n",
            "  inflating: images/crawdaunt.png    \n",
            "  inflating: images/cresselia.png    \n",
            "  inflating: images/croagunk.png     \n",
            "  inflating: images/crobat.png       \n",
            "  inflating: images/croconaw.png     \n",
            "  inflating: images/crustle.png      \n",
            "  inflating: images/cryogonal.png    \n",
            "  inflating: images/cubchoo.png      \n",
            "  inflating: images/cubone.png       \n",
            "  inflating: images/cutiefly.png     \n",
            "  inflating: images/cyndaquil.png    \n",
            "  inflating: images/darkrai.png      \n",
            "  inflating: images/darmanitan-standard.png  \n",
            "  inflating: images/dartrix.png      \n",
            "  inflating: images/darumaka.png     \n",
            "  inflating: images/decidueye.png    \n",
            "  inflating: images/dedenne.png      \n",
            "  inflating: images/deerling.png     \n",
            "  inflating: images/deino.png        \n",
            "  inflating: images/delcatty.png     \n",
            "  inflating: images/delibird.png     \n",
            "  inflating: images/delphox.png      \n",
            "  inflating: images/deoxys-normal.png  \n",
            "  inflating: images/dewgong.png      \n",
            "  inflating: images/dewott.png       \n",
            "  inflating: images/dewpider.png     \n",
            "  inflating: images/dhelmise.png     \n",
            "  inflating: images/dialga.png       \n",
            "  inflating: images/diancie.png      \n",
            "  inflating: images/diggersby.png    \n",
            "  inflating: images/diglett.png      \n",
            "  inflating: images/ditto.png        \n",
            "  inflating: images/dodrio.png       \n",
            "  inflating: images/doduo.png        \n",
            "  inflating: images/donphan.png      \n",
            "  inflating: images/doublade.png     \n",
            "  inflating: images/dragalge.png     \n",
            "  inflating: images/dragonair.png    \n",
            "  inflating: images/dragonite.png    \n",
            "  inflating: images/drampa.png       \n",
            "  inflating: images/drapion.png      \n",
            "  inflating: images/dratini.png      \n",
            "  inflating: images/drifblim.png     \n",
            "  inflating: images/drifloon.png     \n",
            "  inflating: images/drilbur.png      \n",
            "  inflating: images/drowzee.png      \n",
            "  inflating: images/druddigon.png    \n",
            "  inflating: images/ducklett.png     \n",
            "  inflating: images/dugtrio.png      \n",
            "  inflating: images/dunsparce.png    \n",
            "  inflating: images/duosion.png      \n",
            "  inflating: images/durant.png       \n",
            "  inflating: images/dusclops.png     \n",
            "  inflating: images/dusknoir.png     \n",
            "  inflating: images/duskull.png      \n",
            "  inflating: images/dustox.png       \n",
            "  inflating: images/dwebble.png      \n",
            "  inflating: images/eelektrik.png    \n",
            "  inflating: images/eelektross.png   \n",
            "  inflating: images/eevee.png        \n",
            "  inflating: images/ekans.png        \n",
            "  inflating: images/electabuzz.png   \n",
            "  inflating: images/electivire.png   \n",
            "  inflating: images/electrike.png    \n",
            "  inflating: images/electrode.png    \n",
            "  inflating: images/elekid.png       \n",
            "  inflating: images/elgyem.png       \n",
            "  inflating: images/emboar.png       \n",
            "  inflating: images/emolga.png       \n",
            "  inflating: images/empoleon.png     \n",
            "  inflating: images/entei.png        \n",
            "  inflating: images/escavalier.png   \n",
            "  inflating: images/espeon.png       \n",
            "  inflating: images/espurr.png       \n",
            "  inflating: images/excadrill.png    \n",
            "  inflating: images/exeggcute.png    \n",
            "  inflating: images/exeggutor.png    \n",
            "  inflating: images/exploud.png      \n",
            "  inflating: images/farfetchd.png    \n",
            "  inflating: images/fearow.png       \n",
            "  inflating: images/feebas.png       \n",
            "  inflating: images/fennekin.png     \n",
            "  inflating: images/feraligatr.png   \n",
            "  inflating: images/ferroseed.png    \n",
            "  inflating: images/ferrothorn.png   \n",
            "  inflating: images/finneon.png      \n",
            "  inflating: images/flaaffy.png      \n",
            "  inflating: images/flabebe.png      \n",
            "  inflating: images/flareon.png      \n",
            "  inflating: images/fletchinder.png  \n",
            "  inflating: images/fletchling.png   \n",
            "  inflating: images/floatzel.png     \n",
            "  inflating: images/floette.png      \n",
            "  inflating: images/florges.png      \n",
            "  inflating: images/flygon.png       \n",
            "  inflating: images/fomantis.png     \n",
            "  inflating: images/foongus.png      \n",
            "  inflating: images/forretress.png   \n",
            "  inflating: images/fraxure.png      \n",
            "  inflating: images/frillish.png     \n",
            "  inflating: images/froakie.png      \n",
            "  inflating: images/frogadier.png    \n",
            "  inflating: images/froslass.png     \n",
            "  inflating: images/furfrou.png      \n",
            "  inflating: images/furret.png       \n",
            "  inflating: images/gabite.png       \n",
            "  inflating: images/gallade.png      \n",
            "  inflating: images/galvantula.png   \n",
            "  inflating: images/garbodor.png     \n",
            "  inflating: images/garchomp.png     \n",
            "  inflating: images/gardevoir.png    \n",
            "  inflating: images/gastly.png       \n",
            "  inflating: images/gastrodon.png    \n",
            "  inflating: images/genesect.png     \n",
            "  inflating: images/gengar.png       \n",
            "  inflating: images/geodude.png      \n",
            "  inflating: images/gible.png        \n",
            "  inflating: images/gigalith.png     \n",
            "  inflating: images/girafarig.png    \n",
            "  inflating: images/giratina-altered.png  \n",
            "  inflating: images/glaceon.png      \n",
            "  inflating: images/glalie.png       \n",
            "  inflating: images/glameow.png      \n",
            "  inflating: images/gligar.png       \n",
            "  inflating: images/gliscor.png      \n",
            "  inflating: images/gloom.png        \n",
            "  inflating: images/gogoat.png       \n",
            "  inflating: images/golbat.png       \n",
            "  inflating: images/goldeen.png      \n",
            "  inflating: images/golduck.png      \n",
            "  inflating: images/golem.png        \n",
            "  inflating: images/golett.png       \n",
            "  inflating: images/golisopod.png    \n",
            "  inflating: images/golurk.png       \n",
            "  inflating: images/goodra.png       \n",
            "  inflating: images/goomy.png        \n",
            "  inflating: images/gorebyss.png     \n",
            "  inflating: images/gothita.png      \n",
            "  inflating: images/gothitelle.png   \n",
            "  inflating: images/gothorita.png    \n",
            "  inflating: images/gourgeist-average.png  \n",
            "  inflating: images/granbull.png     \n",
            "  inflating: images/graveler.png     \n",
            "  inflating: images/greninja.png     \n",
            "  inflating: images/grimer.png       \n",
            "  inflating: images/grotle.png       \n",
            "  inflating: images/groudon.png      \n",
            "  inflating: images/grovyle.png      \n",
            "  inflating: images/growlithe.png    \n",
            "  inflating: images/grubbin.png      \n",
            "  inflating: images/grumpig.png      \n",
            "  inflating: images/gulpin.png       \n",
            "  inflating: images/gumshoos.png     \n",
            "  inflating: images/gurdurr.png      \n",
            "  inflating: images/guzzlord.png     \n",
            "  inflating: images/gyarados.png     \n",
            "  inflating: images/hakamo-o.png     \n",
            "  inflating: images/happiny.png      \n",
            "  inflating: images/hariyama.png     \n",
            "  inflating: images/haunter.png      \n",
            "  inflating: images/hawlucha.png     \n",
            "  inflating: images/haxorus.png      \n",
            "  inflating: images/heatmor.png      \n",
            "  inflating: images/heatran.png      \n",
            "  inflating: images/heliolisk.png    \n",
            "  inflating: images/helioptile.png   \n",
            "  inflating: images/heracross.png    \n",
            "  inflating: images/herdier.png      \n",
            "  inflating: images/hippopotas.png   \n",
            "  inflating: images/hippowdon.png    \n",
            "  inflating: images/hitmonchan.png   \n",
            "  inflating: images/hitmonlee.png    \n",
            "  inflating: images/hitmontop.png    \n",
            "  inflating: images/ho-oh.png        \n",
            "  inflating: images/honchkrow.png    \n",
            "  inflating: images/honedge.png      \n",
            "  inflating: images/hoopa-confined.png  \n",
            "  inflating: images/hoothoot.png     \n",
            "  inflating: images/hoppip.png       \n",
            "  inflating: images/horsea.png       \n",
            "  inflating: images/houndoom.png     \n",
            "  inflating: images/houndour.png     \n",
            "  inflating: images/huntail.png      \n",
            "  inflating: images/hydreigon.png    \n",
            "  inflating: images/hypno.png        \n",
            "  inflating: images/igglybuff.png    \n",
            "  inflating: images/illumise.png     \n",
            "  inflating: images/incineroar.png   \n",
            "  inflating: images/infernape.png    \n",
            "  inflating: images/inkay.png        \n",
            "  inflating: images/ivysaur.png      \n",
            "  inflating: images/jangmo-o.png     \n",
            "  inflating: images/jellicent.png    \n",
            "  inflating: images/jigglypuff.png   \n",
            "  inflating: images/jirachi.png      \n",
            "  inflating: images/jolteon.png      \n",
            "  inflating: images/joltik.png       \n",
            "  inflating: images/jumpluff.png     \n",
            "  inflating: images/jynx.png         \n",
            "  inflating: images/kabuto.png       \n",
            "  inflating: images/kabutops.png     \n",
            "  inflating: images/kadabra.png      \n",
            "  inflating: images/kakuna.png       \n",
            "  inflating: images/kangaskhan.png   \n",
            "  inflating: images/karrablast.png   \n",
            "  inflating: images/kartana.png      \n",
            "  inflating: images/kecleon.png      \n",
            "  inflating: images/keldeo-ordinary.png  \n",
            "  inflating: images/kingdra.png      \n",
            "  inflating: images/kingler.png      \n",
            "  inflating: images/kirlia.png       \n",
            "  inflating: images/klang.png        \n",
            "  inflating: images/klefki.png       \n",
            "  inflating: images/klink.png        \n",
            "  inflating: images/klinklang.png    \n",
            "  inflating: images/koffing.png      \n",
            "  inflating: images/komala.png       \n",
            "  inflating: images/kommo-o.png      \n",
            "  inflating: images/krabby.png       \n",
            "  inflating: images/kricketot.png    \n",
            "  inflating: images/kricketune.png   \n",
            "  inflating: images/krokorok.png     \n",
            "  inflating: images/krookodile.png   \n",
            "  inflating: images/kyogre.png       \n",
            "  inflating: images/kyurem.png       \n",
            "  inflating: images/lairon.png       \n",
            "  inflating: images/lampent.png      \n",
            "  inflating: images/landorus-incarnate.png  \n",
            "  inflating: images/lanturn.png      \n",
            "  inflating: images/lapras.png       \n",
            "  inflating: images/larvesta.png     \n",
            "  inflating: images/larvitar.png     \n",
            "  inflating: images/latias.png       \n",
            "  inflating: images/latios.png       \n",
            "  inflating: images/leafeon.png      \n",
            "  inflating: images/leavanny.png     \n",
            "  inflating: images/ledian.png       \n",
            "  inflating: images/ledyba.png       \n",
            "  inflating: images/lickilicky.png   \n",
            "  inflating: images/lickitung.png    \n",
            "  inflating: images/liepard.png      \n",
            "  inflating: images/lileep.png       \n",
            "  inflating: images/lilligant.png    \n",
            "  inflating: images/lillipup.png     \n",
            "  inflating: images/linoone.png      \n",
            "  inflating: images/litleo.png       \n",
            "  inflating: images/litten.png       \n",
            "  inflating: images/litwick.png      \n",
            "  inflating: images/lombre.png       \n",
            "  inflating: images/lopunny.png      \n",
            "  inflating: images/lotad.png        \n",
            "  inflating: images/loudred.png      \n",
            "  inflating: images/lucario.png      \n",
            "  inflating: images/ludicolo.png     \n",
            "  inflating: images/lugia.png        \n",
            "  inflating: images/lumineon.png     \n",
            "  inflating: images/lunala.png       \n",
            "  inflating: images/lunatone.png     \n",
            "  inflating: images/lurantis.png     \n",
            "  inflating: images/luvdisc.png      \n",
            "  inflating: images/luxio.png        \n",
            "  inflating: images/luxray.png       \n",
            "  inflating: images/lycanroc-midday.png  \n",
            "  inflating: images/machamp.png      \n",
            "  inflating: images/machoke.png      \n",
            "  inflating: images/machop.png       \n",
            "  inflating: images/magby.png        \n",
            "  inflating: images/magcargo.png     \n",
            "  inflating: images/magearna.png     \n",
            "  inflating: images/magikarp.png     \n",
            "  inflating: images/magmar.png       \n",
            "  inflating: images/magmortar.png    \n",
            "  inflating: images/magnemite.png    \n",
            "  inflating: images/magneton.png     \n",
            "  inflating: images/magnezone.png    \n",
            "  inflating: images/makuhita.png     \n",
            "  inflating: images/malamar.png      \n",
            "  inflating: images/mamoswine.png    \n",
            "  inflating: images/manaphy.png      \n",
            "  inflating: images/mandibuzz.png    \n",
            "  inflating: images/manectric.png    \n",
            "  inflating: images/mankey.png       \n",
            "  inflating: images/mantine.png      \n",
            "  inflating: images/mantyke.png      \n",
            "  inflating: images/maractus.png     \n",
            "  inflating: images/mareanie.png     \n",
            "  inflating: images/mareep.png       \n",
            "  inflating: images/marill.png       \n",
            "  inflating: images/marowak.png      \n",
            "  inflating: images/marshadow.png    \n",
            "  inflating: images/marshtomp.png    \n",
            "  inflating: images/masquerain.png   \n",
            "  inflating: images/mawile.png       \n",
            "  inflating: images/medicham.png     \n",
            "  inflating: images/meditite.png     \n",
            "  inflating: images/meganium.png     \n",
            "  inflating: images/melmetal.png     \n",
            "  inflating: images/meloetta-aria.png  \n",
            "  inflating: images/meltan.png       \n",
            "  inflating: images/meowstic-male.png  \n",
            "  inflating: images/meowth.png       \n",
            "  inflating: images/mesprit.png      \n",
            "  inflating: images/metagross.png    \n",
            "  inflating: images/metang.png       \n",
            "  inflating: images/metapod.png      \n",
            "  inflating: images/mew.png          \n",
            "  inflating: images/mewtwo.png       \n",
            "  inflating: images/mienfoo.png      \n",
            "  inflating: images/mienshao.png     \n",
            "  inflating: images/mightyena.png    \n",
            "  inflating: images/milotic.png      \n",
            "  inflating: images/miltank.png      \n",
            "  inflating: images/mime-jr.png      \n",
            "  inflating: images/mimikyu.png      \n",
            "  inflating: images/minccino.png     \n",
            "  inflating: images/minior-meteor.png  \n",
            "  inflating: images/minun.png        \n",
            "  inflating: images/misdreavus.png   \n",
            "  inflating: images/mismagius.png    \n",
            "  inflating: images/moltres.png      \n",
            "  inflating: images/monferno.png     \n",
            "  inflating: images/morelull.png     \n",
            "  inflating: images/mothim.png       \n",
            "  inflating: images/mr-mime.png      \n",
            "  inflating: images/mudbray.png      \n",
            "  inflating: images/mudkip.png       \n",
            "  inflating: images/mudsdale.png     \n",
            "  inflating: images/muk.png          \n",
            "  inflating: images/munchlax.png     \n",
            "  inflating: images/munna.png        \n",
            "  inflating: images/murkrow.png      \n",
            "  inflating: images/musharna.png     \n",
            "  inflating: images/naganadel.png    \n",
            "  inflating: images/natu.png         \n",
            "  inflating: images/necrozma.png     \n",
            "  inflating: images/nidoking.png     \n",
            "  inflating: images/nidoqueen.png    \n",
            "  inflating: images/nidoran-f.png    \n",
            "  inflating: images/nidoran-m.png    \n",
            "  inflating: images/nidorina.png     \n",
            "  inflating: images/nidorino.png     \n",
            "  inflating: images/nihilego.png     \n",
            "  inflating: images/nincada.png      \n",
            "  inflating: images/ninetales.png    \n",
            "  inflating: images/ninjask.png      \n",
            "  inflating: images/noctowl.png      \n",
            "  inflating: images/noibat.png       \n",
            "  inflating: images/noivern.png      \n",
            "  inflating: images/nosepass.png     \n",
            "  inflating: images/numel.png        \n",
            "  inflating: images/nuzleaf.png      \n",
            "  inflating: images/octillery.png    \n",
            "  inflating: images/oddish.png       \n",
            "  inflating: images/omanyte.png      \n",
            "  inflating: images/omastar.png      \n",
            "  inflating: images/onix.png         \n",
            "  inflating: images/oranguru.png     \n",
            "  inflating: images/oricorio-baile.png  \n",
            "  inflating: images/oshawott.png     \n",
            "  inflating: images/pachirisu.png    \n",
            "  inflating: images/palkia.png       \n",
            "  inflating: images/palossand.png    \n",
            "  inflating: images/palpitoad.png    \n",
            "  inflating: images/pancham.png      \n",
            "  inflating: images/pangoro.png      \n",
            "  inflating: images/panpour.png      \n",
            "  inflating: images/pansage.png      \n",
            "  inflating: images/pansear.png      \n",
            "  inflating: images/paras.png        \n",
            "  inflating: images/parasect.png     \n",
            "  inflating: images/passimian.png    \n",
            "  inflating: images/patrat.png       \n",
            "  inflating: images/pawniard.png     \n",
            "  inflating: images/pelipper.png     \n",
            "  inflating: images/persian.png      \n",
            "  inflating: images/petilil.png      \n",
            "  inflating: images/phanpy.png       \n",
            "  inflating: images/phantump.png     \n",
            "  inflating: images/pheromosa.png    \n",
            "  inflating: images/phione.png       \n",
            "  inflating: images/pichu.png        \n",
            "  inflating: images/pidgeot.png      \n",
            "  inflating: images/pidgeotto.png    \n",
            "  inflating: images/pidgey.png       \n",
            "  inflating: images/pidove.png       \n",
            "  inflating: images/pignite.png      \n",
            "  inflating: images/pikachu.png      \n",
            "  inflating: images/pikipek.png      \n",
            "  inflating: images/piloswine.png    \n",
            "  inflating: images/pineco.png       \n",
            "  inflating: images/pinsir.png       \n",
            "  inflating: images/piplup.png       \n",
            "  inflating: images/plusle.png       \n",
            "  inflating: images/poipole.png      \n",
            "  inflating: images/politoed.png     \n",
            "  inflating: images/poliwag.png      \n",
            "  inflating: images/poliwhirl.png    \n",
            "  inflating: images/poliwrath.png    \n",
            "  inflating: images/ponyta.png       \n",
            "  inflating: images/poochyena.png    \n",
            "  inflating: images/popplio.png      \n",
            "  inflating: images/porygon-z.png    \n",
            "  inflating: images/porygon.png      \n",
            "  inflating: images/porygon2.png     \n",
            "  inflating: images/primarina.png    \n",
            "  inflating: images/primeape.png     \n",
            "  inflating: images/prinplup.png     \n",
            "  inflating: images/probopass.png    \n",
            "  inflating: images/psyduck.png      \n",
            "  inflating: images/pumpkaboo-average.png  \n",
            "  inflating: images/pupitar.png      \n",
            "  inflating: images/purrloin.png     \n",
            "  inflating: images/purugly.png      \n",
            "  inflating: images/pyroar.png       \n",
            "  inflating: images/pyukumuku.png    \n",
            "  inflating: images/quagsire.png     \n",
            "  inflating: images/quilava.png      \n",
            "  inflating: images/quilladin.png    \n",
            "  inflating: images/qwilfish.png     \n",
            "  inflating: images/raichu.png       \n",
            "  inflating: images/raikou.png       \n",
            "  inflating: images/ralts.png        \n",
            "  inflating: images/rampardos.png    \n",
            "  inflating: images/rapidash.png     \n",
            "  inflating: images/raticate.png     \n",
            "  inflating: images/rattata.png      \n",
            "  inflating: images/rayquaza.png     \n",
            "  inflating: images/regice.png       \n",
            "  inflating: images/regigigas.png    \n",
            "  inflating: images/regirock.png     \n",
            "  inflating: images/registeel.png    \n",
            "  inflating: images/relicanth.png    \n",
            "  inflating: images/remoraid.png     \n",
            "  inflating: images/reshiram.png     \n",
            "  inflating: images/reuniclus.png    \n",
            "  inflating: images/rhydon.png       \n",
            "  inflating: images/rhyhorn.png      \n",
            "  inflating: images/rhyperior.png    \n",
            "  inflating: images/ribombee.png     \n",
            "  inflating: images/riolu.png        \n",
            "  inflating: images/rockruff.png     \n",
            "  inflating: images/roggenrola.png   \n",
            "  inflating: images/roselia.png      \n",
            "  inflating: images/roserade.png     \n",
            "  inflating: images/rotom.png        \n",
            "  inflating: images/rowlet.png       \n",
            "  inflating: images/rufflet.png      \n",
            "  inflating: images/sableye.png      \n",
            "  inflating: images/salamence.png    \n",
            "  inflating: images/salandit.png     \n",
            "  inflating: images/salazzle.png     \n",
            "  inflating: images/samurott.png     \n",
            "  inflating: images/sandile.png      \n",
            "  inflating: images/sandshrew.png    \n",
            "  inflating: images/sandslash.png    \n",
            "  inflating: images/sandygast.png    \n",
            "  inflating: images/sawk.png         \n",
            "  inflating: images/sawsbuck.png     \n",
            "  inflating: images/scatterbug.png   \n",
            "  inflating: images/sceptile.png     \n",
            "  inflating: images/scizor.png       \n",
            "  inflating: images/scolipede.png    \n",
            "  inflating: images/scrafty.png      \n",
            "  inflating: images/scraggy.png      \n",
            "  inflating: images/scyther.png      \n",
            "  inflating: images/seadra.png       \n",
            "  inflating: images/seaking.png      \n",
            "  inflating: images/sealeo.png       \n",
            "  inflating: images/seedot.png       \n",
            "  inflating: images/seel.png         \n",
            "  inflating: images/seismitoad.png   \n",
            "  inflating: images/sentret.png      \n",
            "  inflating: images/serperior.png    \n",
            "  inflating: images/servine.png      \n",
            "  inflating: images/seviper.png      \n",
            "  inflating: images/sewaddle.png     \n",
            "  inflating: images/sharpedo.png     \n",
            "  inflating: images/shaymin-land.png  \n",
            "  inflating: images/shedinja.png     \n",
            "  inflating: images/shelgon.png      \n",
            "  inflating: images/shellder.png     \n",
            "  inflating: images/shellos.png      \n",
            "  inflating: images/shelmet.png      \n",
            "  inflating: images/shieldon.png     \n",
            "  inflating: images/shiftry.png      \n",
            "  inflating: images/shiinotic.png    \n",
            "  inflating: images/shinx.png        \n",
            "  inflating: images/shroomish.png    \n",
            "  inflating: images/shuckle.png      \n",
            "  inflating: images/shuppet.png      \n",
            "  inflating: images/sigilyph.png     \n",
            "  inflating: images/silcoon.png      \n",
            "  inflating: images/silvally.png     \n",
            "  inflating: images/simipour.png     \n",
            "  inflating: images/simisage.png     \n",
            "  inflating: images/simisear.png     \n",
            "  inflating: images/skarmory.png     \n",
            "  inflating: images/skiddo.png       \n",
            "  inflating: images/skiploom.png     \n",
            "  inflating: images/skitty.png       \n",
            "  inflating: images/skorupi.png      \n",
            "  inflating: images/skrelp.png       \n",
            "  inflating: images/skuntank.png     \n",
            "  inflating: images/slaking.png      \n",
            "  inflating: images/slakoth.png      \n",
            "  inflating: images/sliggoo.png      \n",
            "  inflating: images/slowbro.png      \n",
            "  inflating: images/slowking.png     \n",
            "  inflating: images/slowpoke.png     \n",
            "  inflating: images/slugma.png       \n",
            "  inflating: images/slurpuff.png     \n",
            "  inflating: images/smeargle.png     \n",
            "  inflating: images/smoochum.png     \n",
            "  inflating: images/sneasel.png      \n",
            "  inflating: images/snivy.png        \n",
            "  inflating: images/snorlax.png      \n",
            "  inflating: images/snorunt.png      \n",
            "  inflating: images/snover.png       \n",
            "  inflating: images/snubbull.png     \n",
            "  inflating: images/solgaleo.png     \n",
            "  inflating: images/solosis.png      \n",
            "  inflating: images/solrock.png      \n",
            "  inflating: images/spearow.png      \n",
            "  inflating: images/spewpa.png       \n",
            "  inflating: images/spheal.png       \n",
            "  inflating: images/spinarak.png     \n",
            "  inflating: images/spinda.png       \n",
            "  inflating: images/spiritomb.png    \n",
            "  inflating: images/spoink.png       \n",
            "  inflating: images/spritzee.png     \n",
            "  inflating: images/squirtle.png     \n",
            "  inflating: images/stakataka.png    \n",
            "  inflating: images/stantler.png     \n",
            "  inflating: images/staraptor.png    \n",
            "  inflating: images/staravia.png     \n",
            "  inflating: images/starly.png       \n",
            "  inflating: images/starmie.png      \n",
            "  inflating: images/staryu.png       \n",
            "  inflating: images/steelix.png      \n",
            "  inflating: images/steenee.png      \n",
            "  inflating: images/stoutland.png    \n",
            "  inflating: images/stufful.png      \n",
            "  inflating: images/stunfisk.png     \n",
            "  inflating: images/stunky.png       \n",
            "  inflating: images/sudowoodo.png    \n",
            "  inflating: images/suicune.png      \n",
            "  inflating: images/sunflora.png     \n",
            "  inflating: images/sunkern.png      \n",
            "  inflating: images/surskit.png      \n",
            "  inflating: images/swablu.png       \n",
            "  inflating: images/swadloon.png     \n",
            "  inflating: images/swalot.png       \n",
            "  inflating: images/swampert.png     \n",
            "  inflating: images/swanna.png       \n",
            "  inflating: images/swellow.png      \n",
            "  inflating: images/swinub.png       \n",
            "  inflating: images/swirlix.png      \n",
            "  inflating: images/swoobat.png      \n",
            "  inflating: images/sylveon.png      \n",
            "  inflating: images/taillow.png      \n",
            "  inflating: images/talonflame.png   \n",
            "  inflating: images/tangela.png      \n",
            "  inflating: images/tangrowth.png    \n",
            "  inflating: images/tapu-bulu.png    \n",
            "  inflating: images/tapu-fini.png    \n",
            "  inflating: images/tapu-koko.png    \n",
            "  inflating: images/tapu-lele.png    \n",
            "  inflating: images/tauros.png       \n",
            "  inflating: images/teddiursa.png    \n",
            "  inflating: images/tentacool.png    \n",
            "  inflating: images/tentacruel.png   \n",
            "  inflating: images/tepig.png        \n",
            "  inflating: images/terrakion.png    \n",
            "  inflating: images/throh.png        \n",
            "  inflating: images/thundurus-incarnate.png  \n",
            "  inflating: images/timburr.png      \n",
            "  inflating: images/tirtouga.png     \n",
            "  inflating: images/togedemaru.png   \n",
            "  inflating: images/togekiss.png     \n",
            "  inflating: images/togepi.png       \n",
            "  inflating: images/togetic.png      \n",
            "  inflating: images/torchic.png      \n",
            "  inflating: images/torkoal.png      \n",
            "  inflating: images/tornadus-incarnate.png  \n",
            "  inflating: images/torracat.png     \n",
            "  inflating: images/torterra.png     \n",
            "  inflating: images/totodile.png     \n",
            "  inflating: images/toucannon.png    \n",
            "  inflating: images/toxapex.png      \n",
            "  inflating: images/toxicroak.png    \n",
            "  inflating: images/tranquill.png    \n",
            "  inflating: images/trapinch.png     \n",
            "  inflating: images/treecko.png      \n",
            "  inflating: images/trevenant.png    \n",
            "  inflating: images/tropius.png      \n",
            "  inflating: images/trubbish.png     \n",
            "  inflating: images/trumbeak.png     \n",
            "  inflating: images/tsareena.png     \n",
            "  inflating: images/turtonator.png   \n",
            "  inflating: images/turtwig.png      \n",
            "  inflating: images/tympole.png      \n",
            "  inflating: images/tynamo.png       \n",
            "  inflating: images/type-null.png    \n",
            "  inflating: images/typhlosion.png   \n",
            "  inflating: images/tyranitar.png    \n",
            "  inflating: images/tyrantrum.png    \n",
            "  inflating: images/tyrogue.png      \n",
            "  inflating: images/tyrunt.png       \n",
            "  inflating: images/umbreon.png      \n",
            "  inflating: images/unfezant.png     \n",
            "  inflating: images/unown.png        \n",
            "  inflating: images/ursaring.png     \n",
            "  inflating: images/uxie.png         \n",
            "  inflating: images/vanillish.png    \n",
            "  inflating: images/vanillite.png    \n",
            "  inflating: images/vanilluxe.png    \n",
            "  inflating: images/vaporeon.png     \n",
            "  inflating: images/venipede.png     \n",
            "  inflating: images/venomoth.png     \n",
            "  inflating: images/venonat.png      \n",
            "  inflating: images/venusaur.png     \n",
            "  inflating: images/vespiquen.png    \n",
            "  inflating: images/vibrava.png      \n",
            "  inflating: images/victini.png      \n",
            "  inflating: images/victreebel.png   \n",
            "  inflating: images/vigoroth.png     \n",
            "  inflating: images/vikavolt.png     \n",
            "  inflating: images/vileplume.png    \n",
            "  inflating: images/virizion.png     \n",
            "  inflating: images/vivillon.png     \n",
            "  inflating: images/volbeat.png      \n",
            "  inflating: images/volcanion.png    \n",
            "  inflating: images/volcarona.png    \n",
            "  inflating: images/voltorb.png      \n",
            "  inflating: images/vullaby.png      \n",
            "  inflating: images/vulpix.png       \n",
            "  inflating: images/wailmer.png      \n",
            "  inflating: images/wailord.png      \n",
            "  inflating: images/walrein.png      \n",
            "  inflating: images/wartortle.png    \n",
            "  inflating: images/watchog.png      \n",
            "  inflating: images/weavile.png      \n",
            "  inflating: images/weedle.png       \n",
            "  inflating: images/weepinbell.png   \n",
            "  inflating: images/weezing.png      \n",
            "  inflating: images/whimsicott.png   \n",
            "  inflating: images/whirlipede.png   \n",
            "  inflating: images/whiscash.png     \n",
            "  inflating: images/whismur.png      \n",
            "  inflating: images/wigglytuff.png   \n",
            "  inflating: images/wimpod.png       \n",
            "  inflating: images/wingull.png      \n",
            "  inflating: images/wishiwashi-solo.png  \n",
            "  inflating: images/wobbuffet.png    \n",
            "  inflating: images/woobat.png       \n",
            "  inflating: images/wooper.png       \n",
            "  inflating: images/wormadam-plant.png  \n",
            "  inflating: images/wurmple.png      \n",
            "  inflating: images/wynaut.png       \n",
            "  inflating: images/xatu.png         \n",
            "  inflating: images/xerneas.png      \n",
            "  inflating: images/xurkitree.png    \n",
            "  inflating: images/yamask.png       \n",
            "  inflating: images/yanma.png        \n",
            "  inflating: images/yanmega.png      \n",
            "  inflating: images/yungoos.png      \n",
            "  inflating: images/yveltal.png      \n",
            "  inflating: images/zangoose.png     \n",
            "  inflating: images/zapdos.png       \n",
            "  inflating: images/zebstrika.png    \n",
            "  inflating: images/zekrom.png       \n",
            "  inflating: images/zeraora.png      \n",
            "  inflating: images/zigzagoon.png    \n",
            "  inflating: images/zoroark.png      \n",
            "  inflating: images/zorua.png        \n",
            "  inflating: images/zubat.png        \n",
            "  inflating: images/zweilous.png     \n",
            "  inflating: images/zygarde-50.png   \n",
            "  inflating: pokemon.csv             \n"
          ]
        }
      ],
      "source": [
        "!pip install kaggle\n",
        "import json\n",
        "token = {\"username\":\"arinasolomentseva\",\"key\":\"c1046d81b159df5cc61a44d4546f7103\"}\n",
        "\n",
        "with open('/content/kaggle.json', 'w') as file:\n",
        "    json.dump(token, file)\n",
        "\n",
        "!cp /content/kaggle.json ~/.kaggle/kaggle.json\n",
        "\n",
        "!kaggle config set -n path -v{/content}\n",
        "\n",
        "!chmod 600 /root/.kaggle/kaggle.json\n",
        "\n",
        "!kaggle datasets download -d vishalsubbiah/pokemon-images-and-types\n",
        "\n",
        "!unzip \\*.zip"
      ]
    },
    {
      "cell_type": "code",
      "execution_count": 136,
      "metadata": {
        "colab": {
          "base_uri": "https://localhost:8080/",
          "height": 434
        },
        "id": "9gGyYibAzxxn",
        "outputId": "eee695e1-89e5-4ccb-d980-a629ad4186c7"
      },
      "outputs": [
        {
          "data": {
            "image/png": "[encoded data removed]",
            "text/plain": [
              "<Figure size 640x480 with 1 Axes>"
            ]
          },
          "metadata": {},
          "output_type": "display_data"
        }
      ],
      "source": [
        "img4 = Image.open('images/espeon.png')\n",
        "plt.imshow(img4)\n",
        "plt.show()"
      ]
    },
    {
      "cell_type": "code",
      "execution_count": 137,
      "metadata": {
        "colab": {
          "base_uri": "https://localhost:8080/",
          "height": 434
        },
        "id": "YYXWiW6Gzz1M",
        "outputId": "cb848eeb-6504-44ec-848f-2ab416605974"
      },
      "outputs": [
        {
          "data": {
            "image/png": "[encoded data removed]",
            "text/plain": [
              "<Figure size 640x480 with 1 Axes>"
            ]
          },
          "metadata": {},
          "output_type": "display_data"
        }
      ],
      "source": [
        "img = Image.open('images/umbreon.png')\n",
        "plt.imshow(img)\n",
        "plt.show()"
      ]
    },
    {
      "cell_type": "code",
      "execution_count": 140,
      "metadata": {
        "colab": {
          "base_uri": "https://localhost:8080/",
          "height": 434
        },
        "id": "zT7ftZVNz6u_",
        "outputId": "e040b266-9177-483f-d070-6f8ad5d92ba7"
      },
      "outputs": [
        {
          "data": {
            "image/png": "[encoded data removed]",
            "text/plain": [
              "<Figure size 640x480 with 1 Axes>"
            ]
          },
          "metadata": {},
          "output_type": "display_data"
        }
      ],
      "source": [
        "img = Image.open('images/vaporeon.png')\n",
        "plt.imshow(img)\n",
        "plt.show()"
      ]
    },
    {
      "cell_type": "code",
      "execution_count": 141,
      "metadata": {
        "colab": {
          "base_uri": "https://localhost:8080/",
          "height": 434
        },
        "id": "Y1Y9N-Xr0UNo",
        "outputId": "f159b80c-da5c-453f-805e-75ca8207852a"
      },
      "outputs": [
        {
          "data": {
            "image/png": "[encoded data removed]",
            "text/plain": [
              "<Figure size 640x480 with 1 Axes>"
            ]
          },
          "metadata": {},
          "output_type": "display_data"
        }
      ],
      "source": [
        "img2 = Image.open('images/bulbasaur.png')\n",
        "plt.imshow(img2)\n",
        "plt.show()"
      ]
    },
    {
      "cell_type": "code",
      "execution_count": 142,
      "metadata": {
        "colab": {
          "base_uri": "https://localhost:8080/",
          "height": 434
        },
        "id": "alpjH1di0mdN",
        "outputId": "5ed454db-da96-461e-8352-f1569e7da976"
      },
      "outputs": [
        {
          "data": {
            "image/png": "[encoded data removed]",
            "text/plain": [
              "<Figure size 640x480 with 1 Axes>"
            ]
          },
          "metadata": {},
          "output_type": "display_data"
        }
      ],
      "source": [
        "img3 = Image.open('images/torchic.png')\n",
        "plt.imshow(img3)\n",
        "plt.show()"
      ]
    },
    {
      "cell_type": "code",
      "execution_count": 143,
      "metadata": {
        "colab": {
          "base_uri": "https://localhost:8080/",
          "height": 424
        },
        "id": "AuW0MoygDD0w",
        "outputId": "1bbc90c3-d063-48ce-d1b4-5f7a07b2d696"
      },
      "outputs": [
        {
          "data": {
            "application/vnd.google.colaboratory.intrinsic+json": {
              "summary": "{\n  \"name\": \"data\",\n  \"rows\": 809,\n  \"fields\": [\n    {\n      \"column\": \"Name\",\n      \"properties\": {\n        \"dtype\": \"string\",\n        \"num_unique_values\": 809,\n        \"samples\": [\n          \"aurorus\",\n          \"hariyama\",\n          \"houndour\"\n        ],\n        \"semantic_type\": \"\",\n        \"description\": \"\"\n      }\n    },\n    {\n      \"column\": \"Type1\",\n      \"properties\": {\n        \"dtype\": \"category\",\n        \"num_unique_values\": 18,\n        \"samples\": [\n          \"Grass\",\n          \"Fire\",\n          \"Fairy\"\n        ],\n        \"semantic_type\": \"\",\n        \"description\": \"\"\n      }\n    },\n    {\n      \"column\": \"Type2\",\n      \"properties\": {\n        \"dtype\": \"category\",\n        \"num_unique_values\": 18,\n        \"samples\": [\n          \"Poison\",\n          \"Flying\",\n          \"Ice\"\n        ],\n        \"semantic_type\": \"\",\n        \"description\": \"\"\n      }\n    },\n    {\n      \"column\": \"Evolution\",\n      \"properties\": {\n        \"dtype\": \"category\",\n        \"num_unique_values\": 32,\n        \"samples\": [\n          \"poliwrath\",\n          \"raichu\",\n          \"persian\"\n        ],\n        \"semantic_type\": \"\",\n        \"description\": \"\"\n      }\n    }\n  ]\n}",
              "type": "dataframe",
              "variable_name": "data"
            },
            "text/html": [
              "\n",
              "  <div id=\"df-7e1b9975-1cc1-4b78-bbd7-f4621424ea47\" class=\"colab-df-container\">\n",
              "    <div>\n",
              "<style scoped>\n",
              "    .dataframe tbody tr th:only-of-type {\n",
              "        vertical-align: middle;\n",
              "    }\n",
              "\n",
              "    .dataframe tbody tr th {\n",
              "        vertical-align: top;\n",
              "    }\n",
              "\n",
              "    .dataframe thead th {\n",
              "        text-align: right;\n",
              "    }\n",
              "</style>\n",
              "<table border=\"1\" class=\"dataframe\">\n",
              "  <thead>\n",
              "    <tr style=\"text-align: right;\">\n",
              "      <th></th>\n",
              "      <th>Name</th>\n",
              "      <th>Type1</th>\n",
              "      <th>Type2</th>\n",
              "      <th>Evolution</th>\n",
              "    </tr>\n",
              "  </thead>\n",
              "  <tbody>\n",
              "    <tr>\n",
              "      <th>0</th>\n",
              "      <td>bulbasaur</td>\n",
              "      <td>Grass</td>\n",
              "      <td>Poison</td>\n",
              "      <td>ivysaur</td>\n",
              "    </tr>\n",
              "    <tr>\n",
              "      <th>1</th>\n",
              "      <td>ivysaur</td>\n",
              "      <td>Grass</td>\n",
              "      <td>Poison</td>\n",
              "      <td>venusaur</td>\n",
              "    </tr>\n",
              "    <tr>\n",
              "      <th>2</th>\n",
              "      <td>venusaur</td>\n",
              "      <td>Grass</td>\n",
              "      <td>Poison</td>\n",
              "      <td>NaN</td>\n",
              "    </tr>\n",
              "    <tr>\n",
              "      <th>3</th>\n",
              "      <td>charmander</td>\n",
              "      <td>Fire</td>\n",
              "      <td>NaN</td>\n",
              "      <td>charmeleon</td>\n",
              "    </tr>\n",
              "    <tr>\n",
              "      <th>4</th>\n",
              "      <td>charmeleon</td>\n",
              "      <td>Fire</td>\n",
              "      <td>NaN</td>\n",
              "      <td>charizard</td>\n",
              "    </tr>\n",
              "    <tr>\n",
              "      <th>...</th>\n",
              "      <td>...</td>\n",
              "      <td>...</td>\n",
              "      <td>...</td>\n",
              "      <td>...</td>\n",
              "    </tr>\n",
              "    <tr>\n",
              "      <th>804</th>\n",
              "      <td>stakataka</td>\n",
              "      <td>Rock</td>\n",
              "      <td>Steel</td>\n",
              "      <td>NaN</td>\n",
              "    </tr>\n",
              "    <tr>\n",
              "      <th>805</th>\n",
              "      <td>blacephalon</td>\n",
              "      <td>Fire</td>\n",
              "      <td>Ghost</td>\n",
              "      <td>NaN</td>\n",
              "    </tr>\n",
              "    <tr>\n",
              "      <th>806</th>\n",
              "      <td>zeraora</td>\n",
              "      <td>Electric</td>\n",
              "      <td>NaN</td>\n",
              "      <td>NaN</td>\n",
              "    </tr>\n",
              "    <tr>\n",
              "      <th>807</th>\n",
              "      <td>meltan</td>\n",
              "      <td>Steel</td>\n",
              "      <td>NaN</td>\n",
              "      <td>NaN</td>\n",
              "    </tr>\n",
              "    <tr>\n",
              "      <th>808</th>\n",
              "      <td>melmetal</td>\n",
              "      <td>Steel</td>\n",
              "      <td>NaN</td>\n",
              "      <td>NaN</td>\n",
              "    </tr>\n",
              "  </tbody>\n",
              "</table>\n",
              "<p>809 rows × 4 columns</p>\n",
              "</div>\n",
              "    <div class=\"colab-df-buttons\">\n",
              "\n",
              "  <div class=\"colab-df-container\">\n",
              "    <button class=\"colab-df-convert\" onclick=\"convertToInteractive('df-7e1b9975-1cc1-4b78-bbd7-f4621424ea47')\"\n",
              "            title=\"Convert this dataframe to an interactive table.\"\n",
              "            style=\"display:none;\">\n",
              "\n",
              "  <svg xmlns=\"http://www.w3.org/2000/svg\" height=\"24px\" viewBox=\"0 -960 960 960\">\n",
              "    <path d=\"M120-120v-720h720v720H120Zm60-500h600v-160H180v160Zm220 220h160v-160H400v160Zm0 220h160v-160H400v160ZM180-400h160v-160H180v160Zm440 0h160v-160H620v160ZM180-180h160v-160H180v160Zm440 0h160v-160H620v160Z\"/>\n",
              "  </svg>\n",
              "    </button>\n",
              "\n",
              "  <style>\n",
              "    .colab-df-container {\n",
              "      display:flex;\n",
              "      gap: 12px;\n",
              "    }\n",
              "\n",
              "    .colab-df-convert {\n",
              "      background-color: #E8F0FE;\n",
              "      border: none;\n",
              "      border-radius: 50%;\n",
              "      cursor: pointer;\n",
              "      display: none;\n",
              "      fill: #1967D2;\n",
              "      height: 32px;\n",
              "      padding: 0 0 0 0;\n",
              "      width: 32px;\n",
              "    }\n",
              "\n",
              "    .colab-df-convert:hover {\n",
              "      background-color: #E2EBFA;\n",
              "      box-shadow: 0px 1px 2px rgba(60, 64, 67, 0.3), 0px 1px 3px 1px rgba(60, 64, 67, 0.15);\n",
              "      fill: #174EA6;\n",
              "    }\n",
              "\n",
              "    .colab-df-buttons div {\n",
              "      margin-bottom: 4px;\n",
              "    }\n",
              "\n",
              "    [theme=dark] .colab-df-convert {\n",
              "      background-color: #3B4455;\n",
              "      fill: #D2E3FC;\n",
              "    }\n",
              "\n",
              "    [theme=dark] .colab-df-convert:hover {\n",
              "      background-color: #434B5C;\n",
              "      box-shadow: 0px 1px 3px 1px rgba(0, 0, 0, 0.15);\n",
              "      filter: drop-shadow(0px 1px 2px rgba(0, 0, 0, 0.3));\n",
              "      fill: #FFFFFF;\n",
              "    }\n",
              "  </style>\n",
              "\n",
              "    <script>\n",
              "      const buttonEl =\n",
              "        document.querySelector('#df-7e1b9975-1cc1-4b78-bbd7-f4621424ea47 button.colab-df-convert');\n",
              "      buttonEl.style.display =\n",
              "        google.colab.kernel.accessAllowed ? 'block' : 'none';\n",
              "\n",
              "      async function convertToInteractive(key) {\n",
              "        const element = document.querySelector('#df-7e1b9975-1cc1-4b78-bbd7-f4621424ea47');\n",
              "        const dataTable =\n",
              "          await google.colab.kernel.invokeFunction('convertToInteractive',\n",
              "                                                    [key], {});\n",
              "        if (!dataTable) return;\n",
              "\n",
              "        const docLinkHtml = 'Like what you see? Visit the ' +\n",
              "          '<a target=\"_blank\" href=https://colab.research.google.com/notebooks/data_table.ipynb>data table notebook</a>'\n",
              "          + ' to learn more about interactive tables.';\n",
              "        element.innerHTML = '';\n",
              "        dataTable['output_type'] = 'display_data';\n",
              "        await google.colab.output.renderOutput(dataTable, element);\n",
              "        const docLink = document.createElement('div');\n",
              "        docLink.innerHTML = docLinkHtml;\n",
              "        element.appendChild(docLink);\n",
              "      }\n",
              "    </script>\n",
              "  </div>\n",
              "\n",
              "\n",
              "<div id=\"df-b6407fae-da18-47ae-a767-fbc5e92a2e76\">\n",
              "  <button class=\"colab-df-quickchart\" onclick=\"quickchart('df-b6407fae-da18-47ae-a767-fbc5e92a2e76')\"\n",
              "            title=\"Suggest charts\"\n",
              "            style=\"display:none;\">\n",
              "\n",
              "<svg xmlns=\"http://www.w3.org/2000/svg\" height=\"24px\"viewBox=\"0 0 24 24\"\n",
              "     width=\"24px\">\n",
              "    <g>\n",
              "        <path d=\"M19 3H5c-1.1 0-2 .9-2 2v14c0 1.1.9 2 2 2h14c1.1 0 2-.9 2-2V5c0-1.1-.9-2-2-2zM9 17H7v-7h2v7zm4 0h-2V7h2v10zm4 0h-2v-4h2v4z\"/>\n",
              "    </g>\n",
              "</svg>\n",
              "  </button>\n",
              "\n",
              "<style>\n",
              "  .colab-df-quickchart {\n",
              "      --bg-color: #E8F0FE;\n",
              "      --fill-color: #1967D2;\n",
              "      --hover-bg-color: #E2EBFA;\n",
              "      --hover-fill-color: #174EA6;\n",
              "      --disabled-fill-color: #AAA;\n",
              "      --disabled-bg-color: #DDD;\n",
              "  }\n",
              "\n",
              "  [theme=dark] .colab-df-quickchart {\n",
              "      --bg-color: #3B4455;\n",
              "      --fill-color: #D2E3FC;\n",
              "      --hover-bg-color: #434B5C;\n",
              "      --hover-fill-color: #FFFFFF;\n",
              "      --disabled-bg-color: #3B4455;\n",
              "      --disabled-fill-color: #666;\n",
              "  }\n",
              "\n",
              "  .colab-df-quickchart {\n",
              "    background-color: var(--bg-color);\n",
              "    border: none;\n",
              "    border-radius: 50%;\n",
              "    cursor: pointer;\n",
              "    display: none;\n",
              "    fill: var(--fill-color);\n",
              "    height: 32px;\n",
              "    padding: 0;\n",
              "    width: 32px;\n",
              "  }\n",
              "\n",
              "  .colab-df-quickchart:hover {\n",
              "    background-color: var(--hover-bg-color);\n",
              "    box-shadow: 0 1px 2px rgba(60, 64, 67, 0.3), 0 1px 3px 1px rgba(60, 64, 67, 0.15);\n",
              "    fill: var(--button-hover-fill-color);\n",
              "  }\n",
              "\n",
              "  .colab-df-quickchart-complete:disabled,\n",
              "  .colab-df-quickchart-complete:disabled:hover {\n",
              "    background-color: var(--disabled-bg-color);\n",
              "    fill: var(--disabled-fill-color);\n",
              "    box-shadow: none;\n",
              "  }\n",
              "\n",
              "  .colab-df-spinner {\n",
              "    border: 2px solid var(--fill-color);\n",
              "    border-color: transparent;\n",
              "    border-bottom-color: var(--fill-color);\n",
              "    animation:\n",
              "      spin 1s steps(1) infinite;\n",
              "  }\n",
              "\n",
              "  @keyframes spin {\n",
              "    0% {\n",
              "      border-color: transparent;\n",
              "      border-bottom-color: var(--fill-color);\n",
              "      border-left-color: var(--fill-color);\n",
              "    }\n",
              "    20% {\n",
              "      border-color: transparent;\n",
              "      border-left-color: var(--fill-color);\n",
              "      border-top-color: var(--fill-color);\n",
              "    }\n",
              "    30% {\n",
              "      border-color: transparent;\n",
              "      border-left-color: var(--fill-color);\n",
              "      border-top-color: var(--fill-color);\n",
              "      border-right-color: var(--fill-color);\n",
              "    }\n",
              "    40% {\n",
              "      border-color: transparent;\n",
              "      border-right-color: var(--fill-color);\n",
              "      border-top-color: var(--fill-color);\n",
              "    }\n",
              "    60% {\n",
              "      border-color: transparent;\n",
              "      border-right-color: var(--fill-color);\n",
              "    }\n",
              "    80% {\n",
              "      border-color: transparent;\n",
              "      border-right-color: var(--fill-color);\n",
              "      border-bottom-color: var(--fill-color);\n",
              "    }\n",
              "    90% {\n",
              "      border-color: transparent;\n",
              "      border-bottom-color: var(--fill-color);\n",
              "    }\n",
              "  }\n",
              "</style>\n",
              "\n",
              "  <script>\n",
              "    async function quickchart(key) {\n",
              "      const quickchartButtonEl =\n",
              "        document.querySelector('#' + key + ' button');\n",
              "      quickchartButtonEl.disabled = true;  // To prevent multiple clicks.\n",
              "      quickchartButtonEl.classList.add('colab-df-spinner');\n",
              "      try {\n",
              "        const charts = await google.colab.kernel.invokeFunction(\n",
              "            'suggestCharts', [key], {});\n",
              "      } catch (error) {\n",
              "        console.error('Error during call to suggestCharts:', error);\n",
              "      }\n",
              "      quickchartButtonEl.classList.remove('colab-df-spinner');\n",
              "      quickchartButtonEl.classList.add('colab-df-quickchart-complete');\n",
              "    }\n",
              "    (() => {\n",
              "      let quickchartButtonEl =\n",
              "        document.querySelector('#df-b6407fae-da18-47ae-a767-fbc5e92a2e76 button');\n",
              "      quickchartButtonEl.style.display =\n",
              "        google.colab.kernel.accessAllowed ? 'block' : 'none';\n",
              "    })();\n",
              "  </script>\n",
              "</div>\n",
              "    </div>\n",
              "  </div>\n"
            ],
            "text/plain": [
              "            Name     Type1   Type2   Evolution\n",
              "0      bulbasaur     Grass  Poison     ivysaur\n",
              "1        ivysaur     Grass  Poison    venusaur\n",
              "2       venusaur     Grass  Poison         NaN\n",
              "3     charmander      Fire     NaN  charmeleon\n",
              "4     charmeleon      Fire     NaN   charizard\n",
              "..           ...       ...     ...         ...\n",
              "804    stakataka      Rock   Steel         NaN\n",
              "805  blacephalon      Fire   Ghost         NaN\n",
              "806      zeraora  Electric     NaN         NaN\n",
              "807       meltan     Steel     NaN         NaN\n",
              "808     melmetal     Steel     NaN         NaN\n",
              "\n",
              "[809 rows x 4 columns]"
            ]
          },
          "execution_count": 143,
          "metadata": {},
          "output_type": "execute_result"
        }
      ],
      "source": [
        "data = pd.read_csv('pokemon.csv')\n",
        "data"
      ]
    },
    {
      "cell_type": "code",
      "execution_count": 144,
      "metadata": {
        "colab": {
          "base_uri": "https://localhost:8080/",
          "height": 680
        },
        "id": "L7BLIhL-DD4S",
        "outputId": "d64e3e62-792b-4810-bb19-d9b016efb63e"
      },
      "outputs": [
        {
          "data": {
            "text/html": [
              "<div>\n",
              "<style scoped>\n",
              "    .dataframe tbody tr th:only-of-type {\n",
              "        vertical-align: middle;\n",
              "    }\n",
              "\n",
              "    .dataframe tbody tr th {\n",
              "        vertical-align: top;\n",
              "    }\n",
              "\n",
              "    .dataframe thead th {\n",
              "        text-align: right;\n",
              "    }\n",
              "</style>\n",
              "<table border=\"1\" class=\"dataframe\">\n",
              "  <thead>\n",
              "    <tr style=\"text-align: right;\">\n",
              "      <th></th>\n",
              "      <th>count</th>\n",
              "    </tr>\n",
              "    <tr>\n",
              "      <th>Type1</th>\n",
              "      <th></th>\n",
              "    </tr>\n",
              "  </thead>\n",
              "  <tbody>\n",
              "    <tr>\n",
              "      <th>Water</th>\n",
              "      <td>114</td>\n",
              "    </tr>\n",
              "    <tr>\n",
              "      <th>Normal</th>\n",
              "      <td>105</td>\n",
              "    </tr>\n",
              "    <tr>\n",
              "      <th>Grass</th>\n",
              "      <td>78</td>\n",
              "    </tr>\n",
              "    <tr>\n",
              "      <th>Bug</th>\n",
              "      <td>72</td>\n",
              "    </tr>\n",
              "    <tr>\n",
              "      <th>Psychic</th>\n",
              "      <td>53</td>\n",
              "    </tr>\n",
              "    <tr>\n",
              "      <th>Fire</th>\n",
              "      <td>53</td>\n",
              "    </tr>\n",
              "    <tr>\n",
              "      <th>Rock</th>\n",
              "      <td>46</td>\n",
              "    </tr>\n",
              "    <tr>\n",
              "      <th>Electric</th>\n",
              "      <td>40</td>\n",
              "    </tr>\n",
              "    <tr>\n",
              "      <th>Poison</th>\n",
              "      <td>34</td>\n",
              "    </tr>\n",
              "    <tr>\n",
              "      <th>Ground</th>\n",
              "      <td>32</td>\n",
              "    </tr>\n",
              "    <tr>\n",
              "      <th>Dark</th>\n",
              "      <td>29</td>\n",
              "    </tr>\n",
              "    <tr>\n",
              "      <th>Fighting</th>\n",
              "      <td>29</td>\n",
              "    </tr>\n",
              "    <tr>\n",
              "      <th>Dragon</th>\n",
              "      <td>27</td>\n",
              "    </tr>\n",
              "    <tr>\n",
              "      <th>Ghost</th>\n",
              "      <td>27</td>\n",
              "    </tr>\n",
              "    <tr>\n",
              "      <th>Steel</th>\n",
              "      <td>26</td>\n",
              "    </tr>\n",
              "    <tr>\n",
              "      <th>Ice</th>\n",
              "      <td>23</td>\n",
              "    </tr>\n",
              "    <tr>\n",
              "      <th>Fairy</th>\n",
              "      <td>18</td>\n",
              "    </tr>\n",
              "    <tr>\n",
              "      <th>Flying</th>\n",
              "      <td>3</td>\n",
              "    </tr>\n",
              "  </tbody>\n",
              "</table>\n",
              "</div><br><label><b>dtype:</b> int64</label>"
            ],
            "text/plain": [
              "Type1\n",
              "Water       114\n",
              "Normal      105\n",
              "Grass        78\n",
              "Bug          72\n",
              "Psychic      53\n",
              "Fire         53\n",
              "Rock         46\n",
              "Electric     40\n",
              "Poison       34\n",
              "Ground       32\n",
              "Dark         29\n",
              "Fighting     29\n",
              "Dragon       27\n",
              "Ghost        27\n",
              "Steel        26\n",
              "Ice          23\n",
              "Fairy        18\n",
              "Flying        3\n",
              "Name: count, dtype: int64"
            ]
          },
          "execution_count": 144,
          "metadata": {},
          "output_type": "execute_result"
        }
      ],
      "source": [
        "data.value_counts('Type1') # возьму 5 самых больших"
      ]
    },
    {
      "cell_type": "code",
      "execution_count": 145,
      "metadata": {
        "colab": {
          "base_uri": "https://localhost:8080/",
          "height": 680
        },
        "id": "fiMyu85njhJA",
        "outputId": "7c2cc3a8-dd64-4299-85f4-002d8d780752"
      },
      "outputs": [
        {
          "data": {
            "text/html": [
              "<div>\n",
              "<style scoped>\n",
              "    .dataframe tbody tr th:only-of-type {\n",
              "        vertical-align: middle;\n",
              "    }\n",
              "\n",
              "    .dataframe tbody tr th {\n",
              "        vertical-align: top;\n",
              "    }\n",
              "\n",
              "    .dataframe thead th {\n",
              "        text-align: right;\n",
              "    }\n",
              "</style>\n",
              "<table border=\"1\" class=\"dataframe\">\n",
              "  <thead>\n",
              "    <tr style=\"text-align: right;\">\n",
              "      <th></th>\n",
              "      <th>count</th>\n",
              "    </tr>\n",
              "    <tr>\n",
              "      <th>Type2</th>\n",
              "      <th></th>\n",
              "    </tr>\n",
              "  </thead>\n",
              "  <tbody>\n",
              "    <tr>\n",
              "      <th>Flying</th>\n",
              "      <td>95</td>\n",
              "    </tr>\n",
              "    <tr>\n",
              "      <th>Ground</th>\n",
              "      <td>32</td>\n",
              "    </tr>\n",
              "    <tr>\n",
              "      <th>Poison</th>\n",
              "      <td>32</td>\n",
              "    </tr>\n",
              "    <tr>\n",
              "      <th>Fairy</th>\n",
              "      <td>29</td>\n",
              "    </tr>\n",
              "    <tr>\n",
              "      <th>Psychic</th>\n",
              "      <td>29</td>\n",
              "    </tr>\n",
              "    <tr>\n",
              "      <th>Fighting</th>\n",
              "      <td>25</td>\n",
              "    </tr>\n",
              "    <tr>\n",
              "      <th>Steel</th>\n",
              "      <td>23</td>\n",
              "    </tr>\n",
              "    <tr>\n",
              "      <th>Grass</th>\n",
              "      <td>19</td>\n",
              "    </tr>\n",
              "    <tr>\n",
              "      <th>Dragon</th>\n",
              "      <td>18</td>\n",
              "    </tr>\n",
              "    <tr>\n",
              "      <th>Dark</th>\n",
              "      <td>17</td>\n",
              "    </tr>\n",
              "    <tr>\n",
              "      <th>Water</th>\n",
              "      <td>17</td>\n",
              "    </tr>\n",
              "    <tr>\n",
              "      <th>Ghost</th>\n",
              "      <td>16</td>\n",
              "    </tr>\n",
              "    <tr>\n",
              "      <th>Rock</th>\n",
              "      <td>14</td>\n",
              "    </tr>\n",
              "    <tr>\n",
              "      <th>Ice</th>\n",
              "      <td>11</td>\n",
              "    </tr>\n",
              "    <tr>\n",
              "      <th>Fire</th>\n",
              "      <td>11</td>\n",
              "    </tr>\n",
              "    <tr>\n",
              "      <th>Electric</th>\n",
              "      <td>8</td>\n",
              "    </tr>\n",
              "    <tr>\n",
              "      <th>Bug</th>\n",
              "      <td>5</td>\n",
              "    </tr>\n",
              "    <tr>\n",
              "      <th>Normal</th>\n",
              "      <td>4</td>\n",
              "    </tr>\n",
              "  </tbody>\n",
              "</table>\n",
              "</div><br><label><b>dtype:</b> int64</label>"
            ],
            "text/plain": [
              "Type2\n",
              "Flying      95\n",
              "Ground      32\n",
              "Poison      32\n",
              "Fairy       29\n",
              "Psychic     29\n",
              "Fighting    25\n",
              "Steel       23\n",
              "Grass       19\n",
              "Dragon      18\n",
              "Dark        17\n",
              "Water       17\n",
              "Ghost       16\n",
              "Rock        14\n",
              "Ice         11\n",
              "Fire        11\n",
              "Electric     8\n",
              "Bug          5\n",
              "Normal       4\n",
              "Name: count, dtype: int64"
            ]
          },
          "execution_count": 145,
          "metadata": {},
          "output_type": "execute_result"
        }
      ],
      "source": [
        "data.value_counts('Type2') # тут и данных меньше, и они ещё все в сочетании с прошлым типом, так что пока без типа 2..."
      ]
    },
    {
      "cell_type": "code",
      "execution_count": 146,
      "metadata": {
        "id": "bE1IYOIa2S9L"
      },
      "outputs": [],
      "source": [
        "image_df = []\n",
        "\n",
        "path_start = 'images'\n",
        "\n",
        "for filename in os.listdir(path_start):\n",
        "    if filename.endswith('.png'):\n",
        "        image_name = filename.split('.')[0]\n",
        "\n",
        "        image = Image.open(os.path.join(path_start, filename))\n",
        "        image = image.convert('RGB')  # на всякий случай\n",
        "        image_array = np.array(image)\n",
        "        image_df.append({'Name': image_name, 'img': image_array})\n",
        "\n",
        "image_df = pd.DataFrame(image_df)\n",
        "\n",
        "# соединяю с данными в csv\n",
        "data = data.merge(image_df, how='inner', on='Name')"
      ]
    },
    {
      "cell_type": "code",
      "execution_count": 147,
      "metadata": {
        "colab": {
          "base_uri": "https://localhost:8080/"
        },
        "id": "uFh_IadG2pWo",
        "outputId": "bcf75b2e-0822-42d9-a2ad-560f1c711a6a"
      },
      "outputs": [
        {
          "name": "stdout",
          "output_type": "stream",
          "text": [
            "<class 'pandas.core.series.Series'>\n",
            "RangeIndex: 809 entries, 0 to 808\n",
            "Series name: img\n",
            "Non-Null Count  Dtype \n",
            "--------------  ----- \n",
            "809 non-null    object\n",
            "dtypes: object(1)\n",
            "memory usage: 6.4+ KB\n"
          ]
        }
      ],
      "source": [
        "data.img.info()"
      ]
    },
    {
      "cell_type": "code",
      "execution_count": 148,
      "metadata": {
        "colab": {
          "base_uri": "https://localhost:8080/"
        },
        "id": "8LnSbQcOcz5x",
        "outputId": "0d558713-1046-43b9-bf52-6579bfe429b7"
      },
      "outputs": [
        {
          "data": {
            "text/plain": [
              "(120, 120, 3)"
            ]
          },
          "execution_count": 148,
          "metadata": {},
          "output_type": "execute_result"
        }
      ],
      "source": [
        "data.loc[0].img.shape"
      ]
    },
    {
      "cell_type": "code",
      "execution_count": 150,
      "metadata": {
        "id": "yZ8Pj1tk2pZp"
      },
      "outputs": [],
      "source": [
        "data = data[data.Type1.isin(['Water', 'Normal', 'Grass', 'Bug', 'Psychic'])][['Name','Type1']] # 'Rock', 'Electric' 'Fire'"
      ]
    },
    {
      "cell_type": "code",
      "execution_count": 151,
      "metadata": {
        "colab": {
          "base_uri": "https://localhost:8080/",
          "height": 363
        },
        "id": "BVsJVQDR2pdi",
        "outputId": "e1690b64-8fb4-4005-a686-92af3121b1c0"
      },
      "outputs": [
        {
          "data": {
            "application/vnd.google.colaboratory.intrinsic+json": {
              "summary": "{\n  \"name\": \"data\",\n  \"rows\": 422,\n  \"fields\": [\n    {\n      \"column\": \"Name\",\n      \"properties\": {\n        \"dtype\": \"string\",\n        \"num_unique_values\": 422,\n        \"samples\": [\n          \"marshtomp\",\n          \"alomomola\",\n          \"ninjask\"\n        ],\n        \"semantic_type\": \"\",\n        \"description\": \"\"\n      }\n    },\n    {\n      \"column\": \"Type1\",\n      \"properties\": {\n        \"dtype\": \"category\",\n        \"num_unique_values\": 5,\n        \"samples\": [\n          \"Water\",\n          \"Psychic\",\n          \"Bug\"\n        ],\n        \"semantic_type\": \"\",\n        \"description\": \"\"\n      }\n    }\n  ]\n}",
              "type": "dataframe",
              "variable_name": "data"
            },
            "text/html": [
              "\n",
              "  <div id=\"df-8cfad278-aefb-4f73-b984-a94098cde34b\" class=\"colab-df-container\">\n",
              "    <div>\n",
              "<style scoped>\n",
              "    .dataframe tbody tr th:only-of-type {\n",
              "        vertical-align: middle;\n",
              "    }\n",
              "\n",
              "    .dataframe tbody tr th {\n",
              "        vertical-align: top;\n",
              "    }\n",
              "\n",
              "    .dataframe thead th {\n",
              "        text-align: right;\n",
              "    }\n",
              "</style>\n",
              "<table border=\"1\" class=\"dataframe\">\n",
              "  <thead>\n",
              "    <tr style=\"text-align: right;\">\n",
              "      <th></th>\n",
              "      <th>Name</th>\n",
              "      <th>Type1</th>\n",
              "    </tr>\n",
              "  </thead>\n",
              "  <tbody>\n",
              "    <tr>\n",
              "      <th>0</th>\n",
              "      <td>bulbasaur</td>\n",
              "      <td>Grass</td>\n",
              "    </tr>\n",
              "    <tr>\n",
              "      <th>1</th>\n",
              "      <td>ivysaur</td>\n",
              "      <td>Grass</td>\n",
              "    </tr>\n",
              "    <tr>\n",
              "      <th>2</th>\n",
              "      <td>venusaur</td>\n",
              "      <td>Grass</td>\n",
              "    </tr>\n",
              "    <tr>\n",
              "      <th>6</th>\n",
              "      <td>squirtle</td>\n",
              "      <td>Water</td>\n",
              "    </tr>\n",
              "    <tr>\n",
              "      <th>7</th>\n",
              "      <td>wartortle</td>\n",
              "      <td>Water</td>\n",
              "    </tr>\n",
              "    <tr>\n",
              "      <th>8</th>\n",
              "      <td>blastoise</td>\n",
              "      <td>Water</td>\n",
              "    </tr>\n",
              "    <tr>\n",
              "      <th>9</th>\n",
              "      <td>caterpie</td>\n",
              "      <td>Bug</td>\n",
              "    </tr>\n",
              "    <tr>\n",
              "      <th>10</th>\n",
              "      <td>metapod</td>\n",
              "      <td>Bug</td>\n",
              "    </tr>\n",
              "    <tr>\n",
              "      <th>11</th>\n",
              "      <td>butterfree</td>\n",
              "      <td>Bug</td>\n",
              "    </tr>\n",
              "    <tr>\n",
              "      <th>12</th>\n",
              "      <td>weedle</td>\n",
              "      <td>Bug</td>\n",
              "    </tr>\n",
              "  </tbody>\n",
              "</table>\n",
              "</div>\n",
              "    <div class=\"colab-df-buttons\">\n",
              "\n",
              "  <div class=\"colab-df-container\">\n",
              "    <button class=\"colab-df-convert\" onclick=\"convertToInteractive('df-8cfad278-aefb-4f73-b984-a94098cde34b')\"\n",
              "            title=\"Convert this dataframe to an interactive table.\"\n",
              "            style=\"display:none;\">\n",
              "\n",
              "  <svg xmlns=\"http://www.w3.org/2000/svg\" height=\"24px\" viewBox=\"0 -960 960 960\">\n",
              "    <path d=\"M120-120v-720h720v720H120Zm60-500h600v-160H180v160Zm220 220h160v-160H400v160Zm0 220h160v-160H400v160ZM180-400h160v-160H180v160Zm440 0h160v-160H620v160ZM180-180h160v-160H180v160Zm440 0h160v-160H620v160Z\"/>\n",
              "  </svg>\n",
              "    </button>\n",
              "\n",
              "  <style>\n",
              "    .colab-df-container {\n",
              "      display:flex;\n",
              "      gap: 12px;\n",
              "    }\n",
              "\n",
              "    .colab-df-convert {\n",
              "      background-color: #E8F0FE;\n",
              "      border: none;\n",
              "      border-radius: 50%;\n",
              "      cursor: pointer;\n",
              "      display: none;\n",
              "      fill: #1967D2;\n",
              "      height: 32px;\n",
              "      padding: 0 0 0 0;\n",
              "      width: 32px;\n",
              "    }\n",
              "\n",
              "    .colab-df-convert:hover {\n",
              "      background-color: #E2EBFA;\n",
              "      box-shadow: 0px 1px 2px rgba(60, 64, 67, 0.3), 0px 1px 3px 1px rgba(60, 64, 67, 0.15);\n",
              "      fill: #174EA6;\n",
              "    }\n",
              "\n",
              "    .colab-df-buttons div {\n",
              "      margin-bottom: 4px;\n",
              "    }\n",
              "\n",
              "    [theme=dark] .colab-df-convert {\n",
              "      background-color: #3B4455;\n",
              "      fill: #D2E3FC;\n",
              "    }\n",
              "\n",
              "    [theme=dark] .colab-df-convert:hover {\n",
              "      background-color: #434B5C;\n",
              "      box-shadow: 0px 1px 3px 1px rgba(0, 0, 0, 0.15);\n",
              "      filter: drop-shadow(0px 1px 2px rgba(0, 0, 0, 0.3));\n",
              "      fill: #FFFFFF;\n",
              "    }\n",
              "  </style>\n",
              "\n",
              "    <script>\n",
              "      const buttonEl =\n",
              "        document.querySelector('#df-8cfad278-aefb-4f73-b984-a94098cde34b button.colab-df-convert');\n",
              "      buttonEl.style.display =\n",
              "        google.colab.kernel.accessAllowed ? 'block' : 'none';\n",
              "\n",
              "      async function convertToInteractive(key) {\n",
              "        const element = document.querySelector('#df-8cfad278-aefb-4f73-b984-a94098cde34b');\n",
              "        const dataTable =\n",
              "          await google.colab.kernel.invokeFunction('convertToInteractive',\n",
              "                                                    [key], {});\n",
              "        if (!dataTable) return;\n",
              "\n",
              "        const docLinkHtml = 'Like what you see? Visit the ' +\n",
              "          '<a target=\"_blank\" href=https://colab.research.google.com/notebooks/data_table.ipynb>data table notebook</a>'\n",
              "          + ' to learn more about interactive tables.';\n",
              "        element.innerHTML = '';\n",
              "        dataTable['output_type'] = 'display_data';\n",
              "        await google.colab.output.renderOutput(dataTable, element);\n",
              "        const docLink = document.createElement('div');\n",
              "        docLink.innerHTML = docLinkHtml;\n",
              "        element.appendChild(docLink);\n",
              "      }\n",
              "    </script>\n",
              "  </div>\n",
              "\n",
              "\n",
              "<div id=\"df-41db096b-0063-43ba-a01a-a4faa12045c6\">\n",
              "  <button class=\"colab-df-quickchart\" onclick=\"quickchart('df-41db096b-0063-43ba-a01a-a4faa12045c6')\"\n",
              "            title=\"Suggest charts\"\n",
              "            style=\"display:none;\">\n",
              "\n",
              "<svg xmlns=\"http://www.w3.org/2000/svg\" height=\"24px\"viewBox=\"0 0 24 24\"\n",
              "     width=\"24px\">\n",
              "    <g>\n",
              "        <path d=\"M19 3H5c-1.1 0-2 .9-2 2v14c0 1.1.9 2 2 2h14c1.1 0 2-.9 2-2V5c0-1.1-.9-2-2-2zM9 17H7v-7h2v7zm4 0h-2V7h2v10zm4 0h-2v-4h2v4z\"/>\n",
              "    </g>\n",
              "</svg>\n",
              "  </button>\n",
              "\n",
              "<style>\n",
              "  .colab-df-quickchart {\n",
              "      --bg-color: #E8F0FE;\n",
              "      --fill-color: #1967D2;\n",
              "      --hover-bg-color: #E2EBFA;\n",
              "      --hover-fill-color: #174EA6;\n",
              "      --disabled-fill-color: #AAA;\n",
              "      --disabled-bg-color: #DDD;\n",
              "  }\n",
              "\n",
              "  [theme=dark] .colab-df-quickchart {\n",
              "      --bg-color: #3B4455;\n",
              "      --fill-color: #D2E3FC;\n",
              "      --hover-bg-color: #434B5C;\n",
              "      --hover-fill-color: #FFFFFF;\n",
              "      --disabled-bg-color: #3B4455;\n",
              "      --disabled-fill-color: #666;\n",
              "  }\n",
              "\n",
              "  .colab-df-quickchart {\n",
              "    background-color: var(--bg-color);\n",
              "    border: none;\n",
              "    border-radius: 50%;\n",
              "    cursor: pointer;\n",
              "    display: none;\n",
              "    fill: var(--fill-color);\n",
              "    height: 32px;\n",
              "    padding: 0;\n",
              "    width: 32px;\n",
              "  }\n",
              "\n",
              "  .colab-df-quickchart:hover {\n",
              "    background-color: var(--hover-bg-color);\n",
              "    box-shadow: 0 1px 2px rgba(60, 64, 67, 0.3), 0 1px 3px 1px rgba(60, 64, 67, 0.15);\n",
              "    fill: var(--button-hover-fill-color);\n",
              "  }\n",
              "\n",
              "  .colab-df-quickchart-complete:disabled,\n",
              "  .colab-df-quickchart-complete:disabled:hover {\n",
              "    background-color: var(--disabled-bg-color);\n",
              "    fill: var(--disabled-fill-color);\n",
              "    box-shadow: none;\n",
              "  }\n",
              "\n",
              "  .colab-df-spinner {\n",
              "    border: 2px solid var(--fill-color);\n",
              "    border-color: transparent;\n",
              "    border-bottom-color: var(--fill-color);\n",
              "    animation:\n",
              "      spin 1s steps(1) infinite;\n",
              "  }\n",
              "\n",
              "  @keyframes spin {\n",
              "    0% {\n",
              "      border-color: transparent;\n",
              "      border-bottom-color: var(--fill-color);\n",
              "      border-left-color: var(--fill-color);\n",
              "    }\n",
              "    20% {\n",
              "      border-color: transparent;\n",
              "      border-left-color: var(--fill-color);\n",
              "      border-top-color: var(--fill-color);\n",
              "    }\n",
              "    30% {\n",
              "      border-color: transparent;\n",
              "      border-left-color: var(--fill-color);\n",
              "      border-top-color: var(--fill-color);\n",
              "      border-right-color: var(--fill-color);\n",
              "    }\n",
              "    40% {\n",
              "      border-color: transparent;\n",
              "      border-right-color: var(--fill-color);\n",
              "      border-top-color: var(--fill-color);\n",
              "    }\n",
              "    60% {\n",
              "      border-color: transparent;\n",
              "      border-right-color: var(--fill-color);\n",
              "    }\n",
              "    80% {\n",
              "      border-color: transparent;\n",
              "      border-right-color: var(--fill-color);\n",
              "      border-bottom-color: var(--fill-color);\n",
              "    }\n",
              "    90% {\n",
              "      border-color: transparent;\n",
              "      border-bottom-color: var(--fill-color);\n",
              "    }\n",
              "  }\n",
              "</style>\n",
              "\n",
              "  <script>\n",
              "    async function quickchart(key) {\n",
              "      const quickchartButtonEl =\n",
              "        document.querySelector('#' + key + ' button');\n",
              "      quickchartButtonEl.disabled = true;  // To prevent multiple clicks.\n",
              "      quickchartButtonEl.classList.add('colab-df-spinner');\n",
              "      try {\n",
              "        const charts = await google.colab.kernel.invokeFunction(\n",
              "            'suggestCharts', [key], {});\n",
              "      } catch (error) {\n",
              "        console.error('Error during call to suggestCharts:', error);\n",
              "      }\n",
              "      quickchartButtonEl.classList.remove('colab-df-spinner');\n",
              "      quickchartButtonEl.classList.add('colab-df-quickchart-complete');\n",
              "    }\n",
              "    (() => {\n",
              "      let quickchartButtonEl =\n",
              "        document.querySelector('#df-41db096b-0063-43ba-a01a-a4faa12045c6 button');\n",
              "      quickchartButtonEl.style.display =\n",
              "        google.colab.kernel.accessAllowed ? 'block' : 'none';\n",
              "    })();\n",
              "  </script>\n",
              "</div>\n",
              "    </div>\n",
              "  </div>\n"
            ],
            "text/plain": [
              "          Name  Type1\n",
              "0    bulbasaur  Grass\n",
              "1      ivysaur  Grass\n",
              "2     venusaur  Grass\n",
              "6     squirtle  Water\n",
              "7    wartortle  Water\n",
              "8    blastoise  Water\n",
              "9     caterpie    Bug\n",
              "10     metapod    Bug\n",
              "11  butterfree    Bug\n",
              "12      weedle    Bug"
            ]
          },
          "execution_count": 151,
          "metadata": {},
          "output_type": "execute_result"
        }
      ],
      "source": [
        "data.head(10)"
      ]
    },
    {
      "cell_type": "code",
      "execution_count": 152,
      "metadata": {
        "colab": {
          "base_uri": "https://localhost:8080/"
        },
        "id": "GNIrSCMA2pfd",
        "outputId": "fbe12133-df00-4d44-fe4b-5e1fd563c04e"
      },
      "outputs": [
        {
          "name": "stdout",
          "output_type": "stream",
          "text": [
            "<class 'pandas.core.frame.DataFrame'>\n",
            "Index: 422 entries, 0 to 799\n",
            "Data columns (total 2 columns):\n",
            " #   Column  Non-Null Count  Dtype \n",
            "---  ------  --------------  ----- \n",
            " 0   Name    422 non-null    object\n",
            " 1   Type1   422 non-null    object\n",
            "dtypes: object(2)\n",
            "memory usage: 9.9+ KB\n"
          ]
        }
      ],
      "source": [
        "data.info()"
      ]
    },
    {
      "cell_type": "code",
      "execution_count": 153,
      "metadata": {
        "colab": {
          "base_uri": "https://localhost:8080/"
        },
        "id": "RH9rwkDw2phZ",
        "outputId": "fa79296d-4002-402c-8752-dc8628156328"
      },
      "outputs": [
        {
          "data": {
            "text/plain": [
              "array(['Grass', 'Water', 'Bug', 'Normal', 'Psychic'], dtype=object)"
            ]
          },
          "execution_count": 153,
          "metadata": {},
          "output_type": "execute_result"
        }
      ],
      "source": [
        "data.Type1.unique()"
      ]
    },
    {
      "cell_type": "code",
      "execution_count": 154,
      "metadata": {
        "colab": {
          "base_uri": "https://localhost:8080/",
          "height": 272
        },
        "id": "wRbanjD_2po8",
        "outputId": "a4327b48-e5e1-45c3-a9c3-7b84fc4f07bb"
      },
      "outputs": [
        {
          "data": {
            "text/html": [
              "<div>\n",
              "<style scoped>\n",
              "    .dataframe tbody tr th:only-of-type {\n",
              "        vertical-align: middle;\n",
              "    }\n",
              "\n",
              "    .dataframe tbody tr th {\n",
              "        vertical-align: top;\n",
              "    }\n",
              "\n",
              "    .dataframe thead th {\n",
              "        text-align: right;\n",
              "    }\n",
              "</style>\n",
              "<table border=\"1\" class=\"dataframe\">\n",
              "  <thead>\n",
              "    <tr style=\"text-align: right;\">\n",
              "      <th></th>\n",
              "      <th>count</th>\n",
              "    </tr>\n",
              "    <tr>\n",
              "      <th>Type1</th>\n",
              "      <th></th>\n",
              "    </tr>\n",
              "  </thead>\n",
              "  <tbody>\n",
              "    <tr>\n",
              "      <th>Water</th>\n",
              "      <td>114</td>\n",
              "    </tr>\n",
              "    <tr>\n",
              "      <th>Normal</th>\n",
              "      <td>105</td>\n",
              "    </tr>\n",
              "    <tr>\n",
              "      <th>Grass</th>\n",
              "      <td>78</td>\n",
              "    </tr>\n",
              "    <tr>\n",
              "      <th>Bug</th>\n",
              "      <td>72</td>\n",
              "    </tr>\n",
              "    <tr>\n",
              "      <th>Psychic</th>\n",
              "      <td>53</td>\n",
              "    </tr>\n",
              "  </tbody>\n",
              "</table>\n",
              "</div><br><label><b>dtype:</b> int64</label>"
            ],
            "text/plain": [
              "Type1\n",
              "Water      114\n",
              "Normal     105\n",
              "Grass       78\n",
              "Bug         72\n",
              "Psychic     53\n",
              "Name: count, dtype: int64"
            ]
          },
          "execution_count": 154,
          "metadata": {},
          "output_type": "execute_result"
        }
      ],
      "source": [
        "data.value_counts('Type1') # поймаем ой то есть предскажем их всех"
      ]
    },
    {
      "cell_type": "code",
      "execution_count": 155,
      "metadata": {
        "colab": {
          "base_uri": "https://localhost:8080/"
        },
        "id": "Kz3ofjqLToAv",
        "outputId": "9f452ca2-432a-4482-af86-2cfd3a2fbd4d"
      },
      "outputs": [
        {
          "data": {
            "text/plain": [
              "Index(['Name', 'Type1'], dtype='object')"
            ]
          },
          "execution_count": 155,
          "metadata": {},
          "output_type": "execute_result"
        }
      ],
      "source": [
        "data.columns"
      ]
    },
    {
      "cell_type": "code",
      "execution_count": 156,
      "metadata": {
        "id": "ri-SfYdvUb3H"
      },
      "outputs": [],
      "source": [
        "le = LabelEncoder()"
      ]
    },
    {
      "cell_type": "code",
      "execution_count": 157,
      "metadata": {
        "id": "gT_CV8qDUfWQ"
      },
      "outputs": [],
      "source": [
        "data['TypeNumeric'] = le.fit_transform(data['Type1'])"
      ]
    },
    {
      "cell_type": "code",
      "execution_count": 158,
      "metadata": {
        "id": "fEO0nToBeWoX"
      },
      "outputs": [],
      "source": [
        "image_dir = '/content/images'\n",
        "\n",
        "data['img'] = data['Name'].apply(lambda name: os.path.join(image_dir, f'{name}.png')) # у меня были проблемы, некоторые файлы не находились, поэтому ещё раз добавляю пути"
      ]
    },
    {
      "cell_type": "code",
      "execution_count": 159,
      "metadata": {
        "id": "WCIRtLlyleop"
      },
      "outputs": [],
      "source": [
        "transform = transforms.Compose([\n",
        "    transforms.ToTensor(),\n",
        "    transforms.Normalize((0.5, 0.5, 0.5), (0.5, 0.5, 0.5))])"
      ]
    },
    {
      "cell_type": "code",
      "execution_count": 160,
      "metadata": {
        "id": "CcidoRnybF9v"
      },
      "outputs": [],
      "source": [
        "class PokemonDataset(Dataset):\n",
        "    def __init__(self, dataframe, transform=None):\n",
        "        self.dataframe = dataframe\n",
        "        self.labels = dataframe['TypeNumeric'].values\n",
        "        self.image_paths = dataframe['img'].values\n",
        "        self.transform = transform\n",
        "\n",
        "    def __len__(self):\n",
        "        return len(self.dataframe)\n",
        "\n",
        "    def __getitem__(self, idx):\n",
        "        image_path = self.image_paths[idx]\n",
        "        image = Image.open(image_path)\n",
        "        image = Image.open(image_path).convert('RGB')\n",
        "\n",
        "        label = self.labels[idx]\n",
        "\n",
        "        if self.transform:\n",
        "            image = self.transform(image)\n",
        "\n",
        "        label_tensor = torch.tensor(label, dtype=torch.long)\n",
        "\n",
        "        return image, label_tensor\n"
      ]
    },
    {
      "cell_type": "code",
      "execution_count": 161,
      "metadata": {
        "id": "8HZsdc0wFElu"
      },
      "outputs": [],
      "source": [
        "pokeset = PokemonDataset(data, transform=transform)\n"
      ]
    },
    {
      "cell_type": "code",
      "execution_count": 162,
      "metadata": {
        "id": "Rv2r69B9FHAC"
      },
      "outputs": [],
      "source": [
        "train_dataset, val_dataset, test_dataset = torch.utils.data.random_split(pokeset, [0.70, 0.15, 0.15], generator=torch.Generator().manual_seed(42))"
      ]
    },
    {
      "cell_type": "code",
      "execution_count": 163,
      "metadata": {
        "id": "bmKFp-OFFHCo"
      },
      "outputs": [],
      "source": [
        "train_dataloader = torch.utils.data.DataLoader(train_dataset, batch_size=16, shuffle=True)\n",
        "val_dataloader = torch.utils.data.DataLoader(val_dataset, batch_size=16, shuffle=False)\n",
        "test_dataloader = torch.utils.data.DataLoader(test_dataset, batch_size=16, shuffle=False)"
      ]
    },
    {
      "cell_type": "code",
      "execution_count": 86,
      "metadata": {
        "id": "uGU4Jh_0mIsK"
      },
      "outputs": [],
      "source": [
        "def get_mean_std(dataloader):\n",
        "    channels_sum, channels_squared_sum, num_batches = 0, 0, 0\n",
        "    for data, _ in dataloader:\n",
        "        channels_sum += torch.mean(data, dim=[0, 2, 3])\n",
        "        channels_squared_sum += torch.mean(data ** 2, dim=[0, 2, 3])\n",
        "        num_batches += 1\n",
        "\n",
        "    mean = channels_sum / num_batches\n",
        "\n",
        "    std = (channels_squared_sum / num_batches - mean ** 2) ** 0.5\n",
        "\n",
        "    return mean, std"
      ]
    },
    {
      "cell_type": "code",
      "execution_count": 92,
      "metadata": {
        "colab": {
          "base_uri": "https://localhost:8080/"
        },
        "id": "EQ6qETxhmJ-f",
        "outputId": "01161517-5829-4403-fcf2-f062575f6133"
      },
      "outputs": [
        {
          "name": "stdout",
          "output_type": "stream",
          "text": [
            "tensor([-0.8080, -0.8174, -0.8372]) tensor([0.5052, 0.4780, 0.4398])\n"
          ]
        }
      ],
      "source": [
        "mean, std = get_mean_std(train_dataloader)\n",
        "print(mean, std)"
      ]
    },
    {
      "cell_type": "code",
      "execution_count": 90,
      "metadata": {
        "colab": {
          "base_uri": "https://localhost:8080/"
        },
        "id": "Yxn9J-xRml3C",
        "outputId": "b4abb3e7-eae2-4908-9a92-9ccde3b21308"
      },
      "outputs": [
        {
          "name": "stdout",
          "output_type": "stream",
          "text": [
            "tensor([-0.7972, -0.8120, -0.8278]) tensor([0.5193, 0.4781, 0.4534])\n"
          ]
        }
      ],
      "source": [
        "mean, std = get_mean_std(val_dataloader)\n",
        "print(mean, std)"
      ]
    },
    {
      "cell_type": "code",
      "execution_count": 91,
      "metadata": {
        "colab": {
          "base_uri": "https://localhost:8080/"
        },
        "id": "0p5kaqxLmmXY",
        "outputId": "bee29c11-6897-429f-9551-6ed5be8228e6"
      },
      "outputs": [
        {
          "name": "stdout",
          "output_type": "stream",
          "text": [
            "tensor([-0.8087, -0.8112, -0.8298]) tensor([0.4980, 0.4846, 0.4525])\n"
          ]
        }
      ],
      "source": [
        "mean, std = get_mean_std(test_dataloader)\n",
        "print(mean, std)"
      ]
    },
    {
      "cell_type": "code",
      "execution_count": 174,
      "metadata": {
        "id": "5kERkqCmSlnO"
      },
      "outputs": [],
      "source": [
        "def train(model, optimizer, n_epochs=5):\n",
        "    for epoch in range(1, n_epochs + 1):\n",
        "        # train\n",
        "        for x_train, y_train in tqdm(train_dataloader):\n",
        "            y_pred = model(x_train)\n",
        "            loss = F.cross_entropy(y_pred, y_train) # используем кросс-энтропию\n",
        "            loss.backward()\n",
        "            optimizer.step()\n",
        "            optimizer.zero_grad()\n",
        "\n",
        "        # validation\n",
        "        if epoch % 1 == 0:\n",
        "            val_loss = []\n",
        "            val_accuracy = []\n",
        "            with torch.no_grad():\n",
        "                for x_val, y_val in tqdm(val_dataloader):\n",
        "                    y_pred = model(x_val)\n",
        "                    loss = F.cross_entropy(y_pred, y_val)\n",
        "                    val_loss.append(loss.numpy())\n",
        "                    val_accuracy.extend((torch.argmax(y_pred, dim=-1) == y_val).numpy().tolist())\n",
        "\n",
        "            print(f\"Epoch: {epoch}\\tloss: {np.mean(val_loss)}\\taccuracy: {np.mean(val_accuracy)}\")"
      ]
    },
    {
      "cell_type": "code",
      "execution_count": 238,
      "metadata": {
        "id": "KG2I-cgzg_I9"
      },
      "outputs": [],
      "source": [
        "class PokemonCNN(nn.Module):\n",
        "    def __init__(self):\n",
        "        super().__init__()\n",
        "        self.conv1 = nn.Conv2d(3, 10, kernel_size=5)\n",
        "        self.conv2 = nn.Conv2d(10, 20, kernel_size=5)\n",
        "        self.pool = nn.MaxPool2d(2)\n",
        "        self.flatten = nn.Flatten()\n",
        "\n",
        "        self.fc1 = nn.Linear(27 * 27 * 20, 128)\n",
        "        self.fc2 = nn.Linear(128, 5)\n",
        "\n",
        "    def forward(self, x):\n",
        "        x = self.pool(F.relu(self.conv1(x)))  # 16, 10, 58, 58\n",
        "        x = self.pool(F.relu(self.conv2(x)))  # 16, 20, 27, 27\n",
        "        x = self.flatten(x)                    # 16, 14580\n",
        "        x = F.relu(self.fc1(x))\n",
        "        x = self.fc2(x)\n",
        "        return x"
      ]
    },
    {
      "cell_type": "code",
      "execution_count": 249,
      "metadata": {
        "id": "KYNo77IL2CA4"
      },
      "outputs": [],
      "source": [
        "set_random_seed(42)\n",
        "pokemoncnn = PokemonCNN()\n",
        "optimizer = optim.Adam(pokemoncnn.parameters(), lr=0.002, weight_decay=0.05)"
      ]
    },
    {
      "cell_type": "code",
      "execution_count": 250,
      "metadata": {
        "colab": {
          "base_uri": "https://localhost:8080/"
        },
        "id": "kOvfJuEa2COT",
        "outputId": "8c46d579-baa8-4094-9c88-987c1e888a26"
      },
      "outputs": [
        {
          "name": "stderr",
          "output_type": "stream",
          "text": [
            "100%|██████████| 19/19 [00:02<00:00,  7.01it/s]\n",
            "100%|██████████| 4/4 [00:00<00:00, 18.47it/s]\n"
          ]
        },
        {
          "name": "stdout",
          "output_type": "stream",
          "text": [
            "Epoch: 1\tloss: 1.6069591045379639\taccuracy: 0.2222222222222222\n"
          ]
        },
        {
          "name": "stderr",
          "output_type": "stream",
          "text": [
            "100%|██████████| 19/19 [00:02<00:00,  9.14it/s]\n",
            "100%|██████████| 4/4 [00:00<00:00, 18.56it/s]\n"
          ]
        },
        {
          "name": "stdout",
          "output_type": "stream",
          "text": [
            "Epoch: 2\tloss: 1.604132890701294\taccuracy: 0.2222222222222222\n"
          ]
        },
        {
          "name": "stderr",
          "output_type": "stream",
          "text": [
            "100%|██████████| 19/19 [00:02<00:00,  9.18it/s]\n",
            "100%|██████████| 4/4 [00:00<00:00, 13.27it/s]\n"
          ]
        },
        {
          "name": "stdout",
          "output_type": "stream",
          "text": [
            "Epoch: 3\tloss: 1.6214303970336914\taccuracy: 0.20634920634920634\n"
          ]
        },
        {
          "name": "stderr",
          "output_type": "stream",
          "text": [
            "100%|██████████| 19/19 [00:02<00:00,  9.04it/s]\n",
            "100%|██████████| 4/4 [00:00<00:00, 19.70it/s]\n"
          ]
        },
        {
          "name": "stdout",
          "output_type": "stream",
          "text": [
            "Epoch: 4\tloss: 1.624755620956421\taccuracy: 0.25396825396825395\n"
          ]
        },
        {
          "name": "stderr",
          "output_type": "stream",
          "text": [
            "100%|██████████| 19/19 [00:02<00:00,  9.13it/s]\n",
            "100%|██████████| 4/4 [00:00<00:00, 18.67it/s]\n"
          ]
        },
        {
          "name": "stdout",
          "output_type": "stream",
          "text": [
            "Epoch: 5\tloss: 1.591033935546875\taccuracy: 0.31746031746031744\n"
          ]
        },
        {
          "name": "stderr",
          "output_type": "stream",
          "text": [
            "100%|██████████| 19/19 [00:02<00:00,  6.67it/s]\n",
            "100%|██████████| 4/4 [00:00<00:00, 13.54it/s]\n"
          ]
        },
        {
          "name": "stdout",
          "output_type": "stream",
          "text": [
            "Epoch: 6\tloss: 1.5983505249023438\taccuracy: 0.3333333333333333\n"
          ]
        },
        {
          "name": "stderr",
          "output_type": "stream",
          "text": [
            "100%|██████████| 19/19 [00:02<00:00,  8.93it/s]\n",
            "100%|██████████| 4/4 [00:00<00:00, 18.91it/s]\n"
          ]
        },
        {
          "name": "stdout",
          "output_type": "stream",
          "text": [
            "Epoch: 7\tloss: 1.5548535585403442\taccuracy: 0.31746031746031744\n"
          ]
        },
        {
          "name": "stderr",
          "output_type": "stream",
          "text": [
            "100%|██████████| 19/19 [00:02<00:00,  9.36it/s]\n",
            "100%|██████████| 4/4 [00:00<00:00, 20.55it/s]\n"
          ]
        },
        {
          "name": "stdout",
          "output_type": "stream",
          "text": [
            "Epoch: 8\tloss: 1.6380763053894043\taccuracy: 0.3492063492063492\n"
          ]
        },
        {
          "name": "stderr",
          "output_type": "stream",
          "text": [
            "100%|██████████| 19/19 [00:02<00:00,  9.14it/s]\n",
            "100%|██████████| 4/4 [00:00<00:00, 19.57it/s]\n"
          ]
        },
        {
          "name": "stdout",
          "output_type": "stream",
          "text": [
            "Epoch: 9\tloss: 1.549665927886963\taccuracy: 0.3333333333333333\n"
          ]
        },
        {
          "name": "stderr",
          "output_type": "stream",
          "text": [
            "100%|██████████| 19/19 [00:02<00:00,  9.26it/s]\n",
            "100%|██████████| 4/4 [00:00<00:00, 20.41it/s]\n"
          ]
        },
        {
          "name": "stdout",
          "output_type": "stream",
          "text": [
            "Epoch: 10\tloss: 1.6167476177215576\taccuracy: 0.3492063492063492\n"
          ]
        }
      ],
      "source": [
        "train(pokemoncnn, optimizer, 10)"
      ]
    },
    {
      "cell_type": "code",
      "execution_count": 251,
      "metadata": {
        "colab": {
          "base_uri": "https://localhost:8080/"
        },
        "id": "RWr32pu72CSa",
        "outputId": "72a2b313-ed66-478c-8b7b-a40a2d6c1e8d"
      },
      "outputs": [
        {
          "name": "stdout",
          "output_type": "stream",
          "text": [
            "Accuracy: 0.4285714328289032\n"
          ]
        }
      ],
      "source": [
        "pokemoncnn.eval()\n",
        "\n",
        "accuracy_metric = VAccuracy(task='multiclass', num_classes=5)\n",
        "\n",
        "with torch.no_grad():\n",
        "    for inputs, labels in test_dataloader:\n",
        "        inputs = inputs\n",
        "        labels = labels\n",
        "\n",
        "        outputs = pokemoncnn(inputs)\n",
        "        _, preds = torch.max(outputs, 1)\n",
        "\n",
        "        accuracy_metric.update(preds, labels)\n",
        "\n",
        "accuracy = accuracy_metric.compute()\n",
        "print(f'Accuracy: {accuracy}') #"
      ]
    },
    {
      "cell_type": "code",
      "execution_count": 252,
      "metadata": {
        "id": "Ixrzc0e8zZxd"
      },
      "outputs": [],
      "source": [
        "# тут немного экспериментирую с моделью\n",
        "class PokemonCNN1(nn.Module):\n",
        "    def __init__(self):\n",
        "        super().__init__()\n",
        "        self.conv1 = nn.Conv2d(3, 32, kernel_size=5)\n",
        "        self.conv2 = nn.Conv2d(32, 64, kernel_size=5)\n",
        "        self.conv3 = nn.Conv2d(64, 128, kernel_size=3)\n",
        "\n",
        "        self.pool = nn.MaxPool2d(2)\n",
        "\n",
        "        self.flatten = nn.Flatten()\n",
        "\n",
        "        self.fc1 = nn.Linear(128 * 12 * 12, 256)\n",
        "        self.fc2 = nn.Linear(256, 128)\n",
        "        self.fc3 = nn.Linear(128, 5)\n",
        "\n",
        "        self.dropout = nn.Dropout(0.1)\n",
        "        self.batch_norm1 = nn.BatchNorm2d(32)\n",
        "        self.batch_norm2 = nn.BatchNorm2d(64)\n",
        "        self.batch_norm3 = nn.BatchNorm2d(128)\n",
        "\n",
        "    def forward(self, x):\n",
        "        x = self.pool(self.batch_norm1(F.relu(self.conv1(x))))\n",
        "        x = self.pool(self.batch_norm2(F.relu(self.conv2(x))))\n",
        "        x = self.pool(self.batch_norm3(F.relu(self.conv3(x))))\n",
        "\n",
        "        x = self.flatten(x)\n",
        "\n",
        "        x = F.relu(self.fc1(x))\n",
        "        x = self.dropout(x)\n",
        "        x = F.relu(self.fc2(x))\n",
        "        x = self.fc3(x)\n",
        "        return x"
      ]
    },
    {
      "cell_type": "code",
      "execution_count": 272,
      "metadata": {
        "id": "GQUH5jl5SltF"
      },
      "outputs": [],
      "source": [
        "set_random_seed(42)\n",
        "pokemoncnn1 = PokemonCNN1()\n",
        "optimizer = optim.SGD(pokemoncnn1.parameters(), lr=0.002, weight_decay=0.05)"
      ]
    },
    {
      "cell_type": "code",
      "execution_count": 273,
      "metadata": {
        "colab": {
          "base_uri": "https://localhost:8080/"
        },
        "id": "bQdrJ7hmXoYS",
        "outputId": "9d37ae4b-f565-4df1-f824-6aa19b31d4a0"
      },
      "outputs": [
        {
          "name": "stderr",
          "output_type": "stream",
          "text": [
            "100%|██████████| 19/19 [00:08<00:00,  2.22it/s]\n",
            "100%|██████████| 4/4 [00:00<00:00,  4.90it/s]\n"
          ]
        },
        {
          "name": "stdout",
          "output_type": "stream",
          "text": [
            "Epoch: 1\tloss: 1.5998988151550293\taccuracy: 0.20634920634920634\n"
          ]
        },
        {
          "name": "stderr",
          "output_type": "stream",
          "text": [
            "100%|██████████| 19/19 [00:07<00:00,  2.48it/s]\n",
            "100%|██████████| 4/4 [00:00<00:00,  4.97it/s]\n"
          ]
        },
        {
          "name": "stdout",
          "output_type": "stream",
          "text": [
            "Epoch: 2\tloss: 1.5881991386413574\taccuracy: 0.25396825396825395\n"
          ]
        },
        {
          "name": "stderr",
          "output_type": "stream",
          "text": [
            "100%|██████████| 19/19 [00:08<00:00,  2.22it/s]\n",
            "100%|██████████| 4/4 [00:00<00:00,  4.96it/s]\n"
          ]
        },
        {
          "name": "stdout",
          "output_type": "stream",
          "text": [
            "Epoch: 3\tloss: 1.5539343357086182\taccuracy: 0.30158730158730157\n"
          ]
        },
        {
          "name": "stderr",
          "output_type": "stream",
          "text": [
            "100%|██████████| 19/19 [00:08<00:00,  2.19it/s]\n",
            "100%|██████████| 4/4 [00:00<00:00,  4.95it/s]\n"
          ]
        },
        {
          "name": "stdout",
          "output_type": "stream",
          "text": [
            "Epoch: 4\tloss: 1.5816022157669067\taccuracy: 0.31746031746031744\n"
          ]
        },
        {
          "name": "stderr",
          "output_type": "stream",
          "text": [
            "100%|██████████| 19/19 [00:07<00:00,  2.49it/s]\n",
            "100%|██████████| 4/4 [00:01<00:00,  3.72it/s]\n"
          ]
        },
        {
          "name": "stdout",
          "output_type": "stream",
          "text": [
            "Epoch: 5\tloss: 1.569042444229126\taccuracy: 0.30158730158730157\n"
          ]
        },
        {
          "name": "stderr",
          "output_type": "stream",
          "text": [
            "100%|██████████| 19/19 [00:08<00:00,  2.29it/s]\n",
            "100%|██████████| 4/4 [00:00<00:00,  5.02it/s]\n"
          ]
        },
        {
          "name": "stdout",
          "output_type": "stream",
          "text": [
            "Epoch: 6\tloss: 1.5858105421066284\taccuracy: 0.31746031746031744\n"
          ]
        },
        {
          "name": "stderr",
          "output_type": "stream",
          "text": [
            "100%|██████████| 19/19 [00:08<00:00,  2.21it/s]\n",
            "100%|██████████| 4/4 [00:00<00:00,  5.00it/s]\n"
          ]
        },
        {
          "name": "stdout",
          "output_type": "stream",
          "text": [
            "Epoch: 7\tloss: 1.569671869277954\taccuracy: 0.30158730158730157\n"
          ]
        },
        {
          "name": "stderr",
          "output_type": "stream",
          "text": [
            "100%|██████████| 19/19 [00:07<00:00,  2.41it/s]\n",
            "100%|██████████| 4/4 [00:01<00:00,  3.52it/s]\n"
          ]
        },
        {
          "name": "stdout",
          "output_type": "stream",
          "text": [
            "Epoch: 8\tloss: 1.5777467489242554\taccuracy: 0.2698412698412698\n"
          ]
        },
        {
          "name": "stderr",
          "output_type": "stream",
          "text": [
            "100%|██████████| 19/19 [00:08<00:00,  2.35it/s]\n",
            "100%|██████████| 4/4 [00:00<00:00,  4.86it/s]\n"
          ]
        },
        {
          "name": "stdout",
          "output_type": "stream",
          "text": [
            "Epoch: 9\tloss: 1.587205410003662\taccuracy: 0.3492063492063492\n"
          ]
        },
        {
          "name": "stderr",
          "output_type": "stream",
          "text": [
            "100%|██████████| 19/19 [00:08<00:00,  2.19it/s]\n",
            "100%|██████████| 4/4 [00:00<00:00,  4.87it/s]\n"
          ]
        },
        {
          "name": "stdout",
          "output_type": "stream",
          "text": [
            "Epoch: 10\tloss: 1.5661511421203613\taccuracy: 0.30158730158730157\n"
          ]
        },
        {
          "name": "stderr",
          "output_type": "stream",
          "text": [
            "100%|██████████| 19/19 [00:08<00:00,  2.24it/s]\n",
            "100%|██████████| 4/4 [00:01<00:00,  3.69it/s]\n"
          ]
        },
        {
          "name": "stdout",
          "output_type": "stream",
          "text": [
            "Epoch: 11\tloss: 1.5866895914077759\taccuracy: 0.3333333333333333\n"
          ]
        },
        {
          "name": "stderr",
          "output_type": "stream",
          "text": [
            "100%|██████████| 19/19 [00:07<00:00,  2.45it/s]\n",
            "100%|██████████| 4/4 [00:00<00:00,  4.98it/s]\n"
          ]
        },
        {
          "name": "stdout",
          "output_type": "stream",
          "text": [
            "Epoch: 12\tloss: 1.6558599472045898\taccuracy: 0.36507936507936506\n"
          ]
        },
        {
          "name": "stderr",
          "output_type": "stream",
          "text": [
            "100%|██████████| 19/19 [00:08<00:00,  2.15it/s]\n",
            "100%|██████████| 4/4 [00:00<00:00,  4.90it/s]\n"
          ]
        },
        {
          "name": "stdout",
          "output_type": "stream",
          "text": [
            "Epoch: 13\tloss: 1.5965946912765503\taccuracy: 0.3492063492063492\n"
          ]
        },
        {
          "name": "stderr",
          "output_type": "stream",
          "text": [
            "100%|██████████| 19/19 [00:08<00:00,  2.17it/s]\n",
            "100%|██████████| 4/4 [00:00<00:00,  4.83it/s]"
          ]
        },
        {
          "name": "stdout",
          "output_type": "stream",
          "text": [
            "Epoch: 14\tloss: 1.6338388919830322\taccuracy: 0.2857142857142857\n"
          ]
        },
        {
          "name": "stderr",
          "output_type": "stream",
          "text": [
            "\n"
          ]
        }
      ],
      "source": [
        "train(pokemoncnn1, optimizer, 14)"
      ]
    },
    {
      "cell_type": "code",
      "execution_count": 274,
      "metadata": {
        "colab": {
          "base_uri": "https://localhost:8080/"
        },
        "id": "DYpV9bIg8wi0",
        "outputId": "9dfb48f1-e641-4df7-d503-0a16e4dd864c"
      },
      "outputs": [
        {
          "name": "stdout",
          "output_type": "stream",
          "text": [
            "Accuracy: 0.5396825671195984\n"
          ]
        }
      ],
      "source": [
        "pokemoncnn1.eval()\n",
        "\n",
        "accuracy_metric = VAccuracy(task='multiclass', num_classes=5)\n",
        "\n",
        "with torch.no_grad():\n",
        "    for inputs, labels in test_dataloader:\n",
        "        inputs = inputs\n",
        "        labels = labels\n",
        "\n",
        "        outputs = pokemoncnn1(inputs)\n",
        "        _, preds = torch.max(outputs, 1)\n",
        "\n",
        "        accuracy_metric.update(preds, labels)\n",
        "\n",
        "accuracy = accuracy_metric.compute()\n",
        "print(f'Accuracy: {accuracy}')"
      ]
    },
    {
      "cell_type": "markdown",
      "metadata": {
        "id": "dxehNb6ZHgZx"
      },
      "source": [
        "Половину где-то предсказали! Я думаю, я выбрала достаточно маленький датасет, возможно, тут стоило с помощью аугментации увеличить в два раза хотя бы те 5 типов"
      ]
    }
  ],
  "metadata": {
    "accelerator": "GPU",
    "colab": {
      "gpuType": "T4",
      "provenance": []
    },
    "kernelspec": {
      "display_name": "Python 3",
      "name": "python3"
    },
    "language_info": {
      "name": "python"
    }
  },
  "nbformat": 4,
  "nbformat_minor": 0
}
