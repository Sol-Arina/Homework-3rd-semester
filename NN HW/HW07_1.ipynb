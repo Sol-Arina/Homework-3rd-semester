{
  "nbformat": 4,
  "nbformat_minor": 0,
  "metadata": {
    "colab": {
      "provenance": [],
      "gpuType": "T4"
    },
    "kernelspec": {
      "name": "python3",
      "display_name": "Python 3"
    },
    "language_info": {
      "name": "python"
    },
    "accelerator": "GPU",
    "widgets": {
      "application/vnd.jupyter.widget-state+json": {
        "30ad354a3537425dad71aa209093344a": {
          "model_module": "@jupyter-widgets/controls",
          "model_name": "HBoxModel",
          "model_module_version": "1.5.0",
          "state": {
            "_dom_classes": [],
            "_model_module": "@jupyter-widgets/controls",
            "_model_module_version": "1.5.0",
            "_model_name": "HBoxModel",
            "_view_count": null,
            "_view_module": "@jupyter-widgets/controls",
            "_view_module_version": "1.5.0",
            "_view_name": "HBoxView",
            "box_style": "",
            "children": [
              "IPY_MODEL_e09aec5693324de38dea52671806ad61",
              "IPY_MODEL_bd2b9339161c4f9ea4e6171fa62916fb",
              "IPY_MODEL_6bdd86d965f84a9985bd6f6e40bc4de1"
            ],
            "layout": "IPY_MODEL_8865bbc1fe2d4391ad14dfc991c0cdbc"
          }
        },
        "e09aec5693324de38dea52671806ad61": {
          "model_module": "@jupyter-widgets/controls",
          "model_name": "HTMLModel",
          "model_module_version": "1.5.0",
          "state": {
            "_dom_classes": [],
            "_model_module": "@jupyter-widgets/controls",
            "_model_module_version": "1.5.0",
            "_model_name": "HTMLModel",
            "_view_count": null,
            "_view_module": "@jupyter-widgets/controls",
            "_view_module_version": "1.5.0",
            "_view_name": "HTMLView",
            "description": "",
            "description_tooltip": null,
            "layout": "IPY_MODEL_c681ffbcad0142f0b514f2aba7dd4ce0",
            "placeholder": "​",
            "style": "IPY_MODEL_71c1feda7df04557960dae2f8074b045",
            "value": "tokenizer_config.json: 100%"
          }
        },
        "bd2b9339161c4f9ea4e6171fa62916fb": {
          "model_module": "@jupyter-widgets/controls",
          "model_name": "FloatProgressModel",
          "model_module_version": "1.5.0",
          "state": {
            "_dom_classes": [],
            "_model_module": "@jupyter-widgets/controls",
            "_model_module_version": "1.5.0",
            "_model_name": "FloatProgressModel",
            "_view_count": null,
            "_view_module": "@jupyter-widgets/controls",
            "_view_module_version": "1.5.0",
            "_view_name": "ProgressView",
            "bar_style": "success",
            "description": "",
            "description_tooltip": null,
            "layout": "IPY_MODEL_2d64594054294969a177848262423b77",
            "max": 49,
            "min": 0,
            "orientation": "horizontal",
            "style": "IPY_MODEL_1b1066519f2e48e69ffe0bf00778bbbf",
            "value": 49
          }
        },
        "6bdd86d965f84a9985bd6f6e40bc4de1": {
          "model_module": "@jupyter-widgets/controls",
          "model_name": "HTMLModel",
          "model_module_version": "1.5.0",
          "state": {
            "_dom_classes": [],
            "_model_module": "@jupyter-widgets/controls",
            "_model_module_version": "1.5.0",
            "_model_name": "HTMLModel",
            "_view_count": null,
            "_view_module": "@jupyter-widgets/controls",
            "_view_module_version": "1.5.0",
            "_view_name": "HTMLView",
            "description": "",
            "description_tooltip": null,
            "layout": "IPY_MODEL_da46135e76a046bd8b5863356c02947d",
            "placeholder": "​",
            "style": "IPY_MODEL_495b36a22ce34bb78b5c572586da38f6",
            "value": " 49.0/49.0 [00:00&lt;00:00, 2.15kB/s]"
          }
        },
        "8865bbc1fe2d4391ad14dfc991c0cdbc": {
          "model_module": "@jupyter-widgets/base",
          "model_name": "LayoutModel",
          "model_module_version": "1.2.0",
          "state": {
            "_model_module": "@jupyter-widgets/base",
            "_model_module_version": "1.2.0",
            "_model_name": "LayoutModel",
            "_view_count": null,
            "_view_module": "@jupyter-widgets/base",
            "_view_module_version": "1.2.0",
            "_view_name": "LayoutView",
            "align_content": null,
            "align_items": null,
            "align_self": null,
            "border": null,
            "bottom": null,
            "display": null,
            "flex": null,
            "flex_flow": null,
            "grid_area": null,
            "grid_auto_columns": null,
            "grid_auto_flow": null,
            "grid_auto_rows": null,
            "grid_column": null,
            "grid_gap": null,
            "grid_row": null,
            "grid_template_areas": null,
            "grid_template_columns": null,
            "grid_template_rows": null,
            "height": null,
            "justify_content": null,
            "justify_items": null,
            "left": null,
            "margin": null,
            "max_height": null,
            "max_width": null,
            "min_height": null,
            "min_width": null,
            "object_fit": null,
            "object_position": null,
            "order": null,
            "overflow": null,
            "overflow_x": null,
            "overflow_y": null,
            "padding": null,
            "right": null,
            "top": null,
            "visibility": null,
            "width": null
          }
        },
        "c681ffbcad0142f0b514f2aba7dd4ce0": {
          "model_module": "@jupyter-widgets/base",
          "model_name": "LayoutModel",
          "model_module_version": "1.2.0",
          "state": {
            "_model_module": "@jupyter-widgets/base",
            "_model_module_version": "1.2.0",
            "_model_name": "LayoutModel",
            "_view_count": null,
            "_view_module": "@jupyter-widgets/base",
            "_view_module_version": "1.2.0",
            "_view_name": "LayoutView",
            "align_content": null,
            "align_items": null,
            "align_self": null,
            "border": null,
            "bottom": null,
            "display": null,
            "flex": null,
            "flex_flow": null,
            "grid_area": null,
            "grid_auto_columns": null,
            "grid_auto_flow": null,
            "grid_auto_rows": null,
            "grid_column": null,
            "grid_gap": null,
            "grid_row": null,
            "grid_template_areas": null,
            "grid_template_columns": null,
            "grid_template_rows": null,
            "height": null,
            "justify_content": null,
            "justify_items": null,
            "left": null,
            "margin": null,
            "max_height": null,
            "max_width": null,
            "min_height": null,
            "min_width": null,
            "object_fit": null,
            "object_position": null,
            "order": null,
            "overflow": null,
            "overflow_x": null,
            "overflow_y": null,
            "padding": null,
            "right": null,
            "top": null,
            "visibility": null,
            "width": null
          }
        },
        "71c1feda7df04557960dae2f8074b045": {
          "model_module": "@jupyter-widgets/controls",
          "model_name": "DescriptionStyleModel",
          "model_module_version": "1.5.0",
          "state": {
            "_model_module": "@jupyter-widgets/controls",
            "_model_module_version": "1.5.0",
            "_model_name": "DescriptionStyleModel",
            "_view_count": null,
            "_view_module": "@jupyter-widgets/base",
            "_view_module_version": "1.2.0",
            "_view_name": "StyleView",
            "description_width": ""
          }
        },
        "2d64594054294969a177848262423b77": {
          "model_module": "@jupyter-widgets/base",
          "model_name": "LayoutModel",
          "model_module_version": "1.2.0",
          "state": {
            "_model_module": "@jupyter-widgets/base",
            "_model_module_version": "1.2.0",
            "_model_name": "LayoutModel",
            "_view_count": null,
            "_view_module": "@jupyter-widgets/base",
            "_view_module_version": "1.2.0",
            "_view_name": "LayoutView",
            "align_content": null,
            "align_items": null,
            "align_self": null,
            "border": null,
            "bottom": null,
            "display": null,
            "flex": null,
            "flex_flow": null,
            "grid_area": null,
            "grid_auto_columns": null,
            "grid_auto_flow": null,
            "grid_auto_rows": null,
            "grid_column": null,
            "grid_gap": null,
            "grid_row": null,
            "grid_template_areas": null,
            "grid_template_columns": null,
            "grid_template_rows": null,
            "height": null,
            "justify_content": null,
            "justify_items": null,
            "left": null,
            "margin": null,
            "max_height": null,
            "max_width": null,
            "min_height": null,
            "min_width": null,
            "object_fit": null,
            "object_position": null,
            "order": null,
            "overflow": null,
            "overflow_x": null,
            "overflow_y": null,
            "padding": null,
            "right": null,
            "top": null,
            "visibility": null,
            "width": null
          }
        },
        "1b1066519f2e48e69ffe0bf00778bbbf": {
          "model_module": "@jupyter-widgets/controls",
          "model_name": "ProgressStyleModel",
          "model_module_version": "1.5.0",
          "state": {
            "_model_module": "@jupyter-widgets/controls",
            "_model_module_version": "1.5.0",
            "_model_name": "ProgressStyleModel",
            "_view_count": null,
            "_view_module": "@jupyter-widgets/base",
            "_view_module_version": "1.2.0",
            "_view_name": "StyleView",
            "bar_color": null,
            "description_width": ""
          }
        },
        "da46135e76a046bd8b5863356c02947d": {
          "model_module": "@jupyter-widgets/base",
          "model_name": "LayoutModel",
          "model_module_version": "1.2.0",
          "state": {
            "_model_module": "@jupyter-widgets/base",
            "_model_module_version": "1.2.0",
            "_model_name": "LayoutModel",
            "_view_count": null,
            "_view_module": "@jupyter-widgets/base",
            "_view_module_version": "1.2.0",
            "_view_name": "LayoutView",
            "align_content": null,
            "align_items": null,
            "align_self": null,
            "border": null,
            "bottom": null,
            "display": null,
            "flex": null,
            "flex_flow": null,
            "grid_area": null,
            "grid_auto_columns": null,
            "grid_auto_flow": null,
            "grid_auto_rows": null,
            "grid_column": null,
            "grid_gap": null,
            "grid_row": null,
            "grid_template_areas": null,
            "grid_template_columns": null,
            "grid_template_rows": null,
            "height": null,
            "justify_content": null,
            "justify_items": null,
            "left": null,
            "margin": null,
            "max_height": null,
            "max_width": null,
            "min_height": null,
            "min_width": null,
            "object_fit": null,
            "object_position": null,
            "order": null,
            "overflow": null,
            "overflow_x": null,
            "overflow_y": null,
            "padding": null,
            "right": null,
            "top": null,
            "visibility": null,
            "width": null
          }
        },
        "495b36a22ce34bb78b5c572586da38f6": {
          "model_module": "@jupyter-widgets/controls",
          "model_name": "DescriptionStyleModel",
          "model_module_version": "1.5.0",
          "state": {
            "_model_module": "@jupyter-widgets/controls",
            "_model_module_version": "1.5.0",
            "_model_name": "DescriptionStyleModel",
            "_view_count": null,
            "_view_module": "@jupyter-widgets/base",
            "_view_module_version": "1.2.0",
            "_view_name": "StyleView",
            "description_width": ""
          }
        },
        "0c26bd8ee24e4d029c540d0970ea8c16": {
          "model_module": "@jupyter-widgets/controls",
          "model_name": "HBoxModel",
          "model_module_version": "1.5.0",
          "state": {
            "_dom_classes": [],
            "_model_module": "@jupyter-widgets/controls",
            "_model_module_version": "1.5.0",
            "_model_name": "HBoxModel",
            "_view_count": null,
            "_view_module": "@jupyter-widgets/controls",
            "_view_module_version": "1.5.0",
            "_view_name": "HBoxView",
            "box_style": "",
            "children": [
              "IPY_MODEL_4c397c5def284193b94db84987a320c6",
              "IPY_MODEL_74a85f168f354e2a81b382ee04c21ccf",
              "IPY_MODEL_10ffc2f24d094045914911a5bc49ecdd"
            ],
            "layout": "IPY_MODEL_31c257d049a14640b78a80c10ddcd134"
          }
        },
        "4c397c5def284193b94db84987a320c6": {
          "model_module": "@jupyter-widgets/controls",
          "model_name": "HTMLModel",
          "model_module_version": "1.5.0",
          "state": {
            "_dom_classes": [],
            "_model_module": "@jupyter-widgets/controls",
            "_model_module_version": "1.5.0",
            "_model_name": "HTMLModel",
            "_view_count": null,
            "_view_module": "@jupyter-widgets/controls",
            "_view_module_version": "1.5.0",
            "_view_name": "HTMLView",
            "description": "",
            "description_tooltip": null,
            "layout": "IPY_MODEL_fb261b98f92e46ee9409299a9c5f9468",
            "placeholder": "​",
            "style": "IPY_MODEL_7ab386d498ed4c72a1efe414ae67e0ad",
            "value": "vocab.txt: 100%"
          }
        },
        "74a85f168f354e2a81b382ee04c21ccf": {
          "model_module": "@jupyter-widgets/controls",
          "model_name": "FloatProgressModel",
          "model_module_version": "1.5.0",
          "state": {
            "_dom_classes": [],
            "_model_module": "@jupyter-widgets/controls",
            "_model_module_version": "1.5.0",
            "_model_name": "FloatProgressModel",
            "_view_count": null,
            "_view_module": "@jupyter-widgets/controls",
            "_view_module_version": "1.5.0",
            "_view_name": "ProgressView",
            "bar_style": "success",
            "description": "",
            "description_tooltip": null,
            "layout": "IPY_MODEL_571828509d734a759d7e55bcb5e70a20",
            "max": 995526,
            "min": 0,
            "orientation": "horizontal",
            "style": "IPY_MODEL_3d8960dbc5a44c4997e38e032695cd8e",
            "value": 995526
          }
        },
        "10ffc2f24d094045914911a5bc49ecdd": {
          "model_module": "@jupyter-widgets/controls",
          "model_name": "HTMLModel",
          "model_module_version": "1.5.0",
          "state": {
            "_dom_classes": [],
            "_model_module": "@jupyter-widgets/controls",
            "_model_module_version": "1.5.0",
            "_model_name": "HTMLModel",
            "_view_count": null,
            "_view_module": "@jupyter-widgets/controls",
            "_view_module_version": "1.5.0",
            "_view_name": "HTMLView",
            "description": "",
            "description_tooltip": null,
            "layout": "IPY_MODEL_54da9441eb434880a0adfd18eec6e83a",
            "placeholder": "​",
            "style": "IPY_MODEL_12ed9ddc75eb47d1bec5cab34d3cb49b",
            "value": " 996k/996k [00:00&lt;00:00, 8.93MB/s]"
          }
        },
        "31c257d049a14640b78a80c10ddcd134": {
          "model_module": "@jupyter-widgets/base",
          "model_name": "LayoutModel",
          "model_module_version": "1.2.0",
          "state": {
            "_model_module": "@jupyter-widgets/base",
            "_model_module_version": "1.2.0",
            "_model_name": "LayoutModel",
            "_view_count": null,
            "_view_module": "@jupyter-widgets/base",
            "_view_module_version": "1.2.0",
            "_view_name": "LayoutView",
            "align_content": null,
            "align_items": null,
            "align_self": null,
            "border": null,
            "bottom": null,
            "display": null,
            "flex": null,
            "flex_flow": null,
            "grid_area": null,
            "grid_auto_columns": null,
            "grid_auto_flow": null,
            "grid_auto_rows": null,
            "grid_column": null,
            "grid_gap": null,
            "grid_row": null,
            "grid_template_areas": null,
            "grid_template_columns": null,
            "grid_template_rows": null,
            "height": null,
            "justify_content": null,
            "justify_items": null,
            "left": null,
            "margin": null,
            "max_height": null,
            "max_width": null,
            "min_height": null,
            "min_width": null,
            "object_fit": null,
            "object_position": null,
            "order": null,
            "overflow": null,
            "overflow_x": null,
            "overflow_y": null,
            "padding": null,
            "right": null,
            "top": null,
            "visibility": null,
            "width": null
          }
        },
        "fb261b98f92e46ee9409299a9c5f9468": {
          "model_module": "@jupyter-widgets/base",
          "model_name": "LayoutModel",
          "model_module_version": "1.2.0",
          "state": {
            "_model_module": "@jupyter-widgets/base",
            "_model_module_version": "1.2.0",
            "_model_name": "LayoutModel",
            "_view_count": null,
            "_view_module": "@jupyter-widgets/base",
            "_view_module_version": "1.2.0",
            "_view_name": "LayoutView",
            "align_content": null,
            "align_items": null,
            "align_self": null,
            "border": null,
            "bottom": null,
            "display": null,
            "flex": null,
            "flex_flow": null,
            "grid_area": null,
            "grid_auto_columns": null,
            "grid_auto_flow": null,
            "grid_auto_rows": null,
            "grid_column": null,
            "grid_gap": null,
            "grid_row": null,
            "grid_template_areas": null,
            "grid_template_columns": null,
            "grid_template_rows": null,
            "height": null,
            "justify_content": null,
            "justify_items": null,
            "left": null,
            "margin": null,
            "max_height": null,
            "max_width": null,
            "min_height": null,
            "min_width": null,
            "object_fit": null,
            "object_position": null,
            "order": null,
            "overflow": null,
            "overflow_x": null,
            "overflow_y": null,
            "padding": null,
            "right": null,
            "top": null,
            "visibility": null,
            "width": null
          }
        },
        "7ab386d498ed4c72a1efe414ae67e0ad": {
          "model_module": "@jupyter-widgets/controls",
          "model_name": "DescriptionStyleModel",
          "model_module_version": "1.5.0",
          "state": {
            "_model_module": "@jupyter-widgets/controls",
            "_model_module_version": "1.5.0",
            "_model_name": "DescriptionStyleModel",
            "_view_count": null,
            "_view_module": "@jupyter-widgets/base",
            "_view_module_version": "1.2.0",
            "_view_name": "StyleView",
            "description_width": ""
          }
        },
        "571828509d734a759d7e55bcb5e70a20": {
          "model_module": "@jupyter-widgets/base",
          "model_name": "LayoutModel",
          "model_module_version": "1.2.0",
          "state": {
            "_model_module": "@jupyter-widgets/base",
            "_model_module_version": "1.2.0",
            "_model_name": "LayoutModel",
            "_view_count": null,
            "_view_module": "@jupyter-widgets/base",
            "_view_module_version": "1.2.0",
            "_view_name": "LayoutView",
            "align_content": null,
            "align_items": null,
            "align_self": null,
            "border": null,
            "bottom": null,
            "display": null,
            "flex": null,
            "flex_flow": null,
            "grid_area": null,
            "grid_auto_columns": null,
            "grid_auto_flow": null,
            "grid_auto_rows": null,
            "grid_column": null,
            "grid_gap": null,
            "grid_row": null,
            "grid_template_areas": null,
            "grid_template_columns": null,
            "grid_template_rows": null,
            "height": null,
            "justify_content": null,
            "justify_items": null,
            "left": null,
            "margin": null,
            "max_height": null,
            "max_width": null,
            "min_height": null,
            "min_width": null,
            "object_fit": null,
            "object_position": null,
            "order": null,
            "overflow": null,
            "overflow_x": null,
            "overflow_y": null,
            "padding": null,
            "right": null,
            "top": null,
            "visibility": null,
            "width": null
          }
        },
        "3d8960dbc5a44c4997e38e032695cd8e": {
          "model_module": "@jupyter-widgets/controls",
          "model_name": "ProgressStyleModel",
          "model_module_version": "1.5.0",
          "state": {
            "_model_module": "@jupyter-widgets/controls",
            "_model_module_version": "1.5.0",
            "_model_name": "ProgressStyleModel",
            "_view_count": null,
            "_view_module": "@jupyter-widgets/base",
            "_view_module_version": "1.2.0",
            "_view_name": "StyleView",
            "bar_color": null,
            "description_width": ""
          }
        },
        "54da9441eb434880a0adfd18eec6e83a": {
          "model_module": "@jupyter-widgets/base",
          "model_name": "LayoutModel",
          "model_module_version": "1.2.0",
          "state": {
            "_model_module": "@jupyter-widgets/base",
            "_model_module_version": "1.2.0",
            "_model_name": "LayoutModel",
            "_view_count": null,
            "_view_module": "@jupyter-widgets/base",
            "_view_module_version": "1.2.0",
            "_view_name": "LayoutView",
            "align_content": null,
            "align_items": null,
            "align_self": null,
            "border": null,
            "bottom": null,
            "display": null,
            "flex": null,
            "flex_flow": null,
            "grid_area": null,
            "grid_auto_columns": null,
            "grid_auto_flow": null,
            "grid_auto_rows": null,
            "grid_column": null,
            "grid_gap": null,
            "grid_row": null,
            "grid_template_areas": null,
            "grid_template_columns": null,
            "grid_template_rows": null,
            "height": null,
            "justify_content": null,
            "justify_items": null,
            "left": null,
            "margin": null,
            "max_height": null,
            "max_width": null,
            "min_height": null,
            "min_width": null,
            "object_fit": null,
            "object_position": null,
            "order": null,
            "overflow": null,
            "overflow_x": null,
            "overflow_y": null,
            "padding": null,
            "right": null,
            "top": null,
            "visibility": null,
            "width": null
          }
        },
        "12ed9ddc75eb47d1bec5cab34d3cb49b": {
          "model_module": "@jupyter-widgets/controls",
          "model_name": "DescriptionStyleModel",
          "model_module_version": "1.5.0",
          "state": {
            "_model_module": "@jupyter-widgets/controls",
            "_model_module_version": "1.5.0",
            "_model_name": "DescriptionStyleModel",
            "_view_count": null,
            "_view_module": "@jupyter-widgets/base",
            "_view_module_version": "1.2.0",
            "_view_name": "StyleView",
            "description_width": ""
          }
        },
        "bc35c17b9e31414a8c5f640aedcf0af5": {
          "model_module": "@jupyter-widgets/controls",
          "model_name": "HBoxModel",
          "model_module_version": "1.5.0",
          "state": {
            "_dom_classes": [],
            "_model_module": "@jupyter-widgets/controls",
            "_model_module_version": "1.5.0",
            "_model_name": "HBoxModel",
            "_view_count": null,
            "_view_module": "@jupyter-widgets/controls",
            "_view_module_version": "1.5.0",
            "_view_name": "HBoxView",
            "box_style": "",
            "children": [
              "IPY_MODEL_d672c4f20e8a437b8a5c658dd1228a0f",
              "IPY_MODEL_121acfad880941f4ae303a99ba6e3da8",
              "IPY_MODEL_181a28c4fbb6454bb838ccde6a08d56d"
            ],
            "layout": "IPY_MODEL_5485c94d72ec40fdb762d89b0f77a4fa"
          }
        },
        "d672c4f20e8a437b8a5c658dd1228a0f": {
          "model_module": "@jupyter-widgets/controls",
          "model_name": "HTMLModel",
          "model_module_version": "1.5.0",
          "state": {
            "_dom_classes": [],
            "_model_module": "@jupyter-widgets/controls",
            "_model_module_version": "1.5.0",
            "_model_name": "HTMLModel",
            "_view_count": null,
            "_view_module": "@jupyter-widgets/controls",
            "_view_module_version": "1.5.0",
            "_view_name": "HTMLView",
            "description": "",
            "description_tooltip": null,
            "layout": "IPY_MODEL_9ca16c4c43d142e6b405f2a5d9997046",
            "placeholder": "​",
            "style": "IPY_MODEL_4f2ce0b1e5984cf1ade76c15146bb54b",
            "value": "tokenizer.json: 100%"
          }
        },
        "121acfad880941f4ae303a99ba6e3da8": {
          "model_module": "@jupyter-widgets/controls",
          "model_name": "FloatProgressModel",
          "model_module_version": "1.5.0",
          "state": {
            "_dom_classes": [],
            "_model_module": "@jupyter-widgets/controls",
            "_model_module_version": "1.5.0",
            "_model_name": "FloatProgressModel",
            "_view_count": null,
            "_view_module": "@jupyter-widgets/controls",
            "_view_module_version": "1.5.0",
            "_view_name": "ProgressView",
            "bar_style": "success",
            "description": "",
            "description_tooltip": null,
            "layout": "IPY_MODEL_701d7bb6526840f286dab8bfc534596f",
            "max": 1961828,
            "min": 0,
            "orientation": "horizontal",
            "style": "IPY_MODEL_6a9f0ce3e16a47baa37bfacc3d1013ef",
            "value": 1961828
          }
        },
        "181a28c4fbb6454bb838ccde6a08d56d": {
          "model_module": "@jupyter-widgets/controls",
          "model_name": "HTMLModel",
          "model_module_version": "1.5.0",
          "state": {
            "_dom_classes": [],
            "_model_module": "@jupyter-widgets/controls",
            "_model_module_version": "1.5.0",
            "_model_name": "HTMLModel",
            "_view_count": null,
            "_view_module": "@jupyter-widgets/controls",
            "_view_module_version": "1.5.0",
            "_view_name": "HTMLView",
            "description": "",
            "description_tooltip": null,
            "layout": "IPY_MODEL_35be746ddcb3486fa5a0029d90d7a7dd",
            "placeholder": "​",
            "style": "IPY_MODEL_7e5a54c13bf74f1ca7819e4f67090029",
            "value": " 1.96M/1.96M [00:00&lt;00:00, 29.5MB/s]"
          }
        },
        "5485c94d72ec40fdb762d89b0f77a4fa": {
          "model_module": "@jupyter-widgets/base",
          "model_name": "LayoutModel",
          "model_module_version": "1.2.0",
          "state": {
            "_model_module": "@jupyter-widgets/base",
            "_model_module_version": "1.2.0",
            "_model_name": "LayoutModel",
            "_view_count": null,
            "_view_module": "@jupyter-widgets/base",
            "_view_module_version": "1.2.0",
            "_view_name": "LayoutView",
            "align_content": null,
            "align_items": null,
            "align_self": null,
            "border": null,
            "bottom": null,
            "display": null,
            "flex": null,
            "flex_flow": null,
            "grid_area": null,
            "grid_auto_columns": null,
            "grid_auto_flow": null,
            "grid_auto_rows": null,
            "grid_column": null,
            "grid_gap": null,
            "grid_row": null,
            "grid_template_areas": null,
            "grid_template_columns": null,
            "grid_template_rows": null,
            "height": null,
            "justify_content": null,
            "justify_items": null,
            "left": null,
            "margin": null,
            "max_height": null,
            "max_width": null,
            "min_height": null,
            "min_width": null,
            "object_fit": null,
            "object_position": null,
            "order": null,
            "overflow": null,
            "overflow_x": null,
            "overflow_y": null,
            "padding": null,
            "right": null,
            "top": null,
            "visibility": null,
            "width": null
          }
        },
        "9ca16c4c43d142e6b405f2a5d9997046": {
          "model_module": "@jupyter-widgets/base",
          "model_name": "LayoutModel",
          "model_module_version": "1.2.0",
          "state": {
            "_model_module": "@jupyter-widgets/base",
            "_model_module_version": "1.2.0",
            "_model_name": "LayoutModel",
            "_view_count": null,
            "_view_module": "@jupyter-widgets/base",
            "_view_module_version": "1.2.0",
            "_view_name": "LayoutView",
            "align_content": null,
            "align_items": null,
            "align_self": null,
            "border": null,
            "bottom": null,
            "display": null,
            "flex": null,
            "flex_flow": null,
            "grid_area": null,
            "grid_auto_columns": null,
            "grid_auto_flow": null,
            "grid_auto_rows": null,
            "grid_column": null,
            "grid_gap": null,
            "grid_row": null,
            "grid_template_areas": null,
            "grid_template_columns": null,
            "grid_template_rows": null,
            "height": null,
            "justify_content": null,
            "justify_items": null,
            "left": null,
            "margin": null,
            "max_height": null,
            "max_width": null,
            "min_height": null,
            "min_width": null,
            "object_fit": null,
            "object_position": null,
            "order": null,
            "overflow": null,
            "overflow_x": null,
            "overflow_y": null,
            "padding": null,
            "right": null,
            "top": null,
            "visibility": null,
            "width": null
          }
        },
        "4f2ce0b1e5984cf1ade76c15146bb54b": {
          "model_module": "@jupyter-widgets/controls",
          "model_name": "DescriptionStyleModel",
          "model_module_version": "1.5.0",
          "state": {
            "_model_module": "@jupyter-widgets/controls",
            "_model_module_version": "1.5.0",
            "_model_name": "DescriptionStyleModel",
            "_view_count": null,
            "_view_module": "@jupyter-widgets/base",
            "_view_module_version": "1.2.0",
            "_view_name": "StyleView",
            "description_width": ""
          }
        },
        "701d7bb6526840f286dab8bfc534596f": {
          "model_module": "@jupyter-widgets/base",
          "model_name": "LayoutModel",
          "model_module_version": "1.2.0",
          "state": {
            "_model_module": "@jupyter-widgets/base",
            "_model_module_version": "1.2.0",
            "_model_name": "LayoutModel",
            "_view_count": null,
            "_view_module": "@jupyter-widgets/base",
            "_view_module_version": "1.2.0",
            "_view_name": "LayoutView",
            "align_content": null,
            "align_items": null,
            "align_self": null,
            "border": null,
            "bottom": null,
            "display": null,
            "flex": null,
            "flex_flow": null,
            "grid_area": null,
            "grid_auto_columns": null,
            "grid_auto_flow": null,
            "grid_auto_rows": null,
            "grid_column": null,
            "grid_gap": null,
            "grid_row": null,
            "grid_template_areas": null,
            "grid_template_columns": null,
            "grid_template_rows": null,
            "height": null,
            "justify_content": null,
            "justify_items": null,
            "left": null,
            "margin": null,
            "max_height": null,
            "max_width": null,
            "min_height": null,
            "min_width": null,
            "object_fit": null,
            "object_position": null,
            "order": null,
            "overflow": null,
            "overflow_x": null,
            "overflow_y": null,
            "padding": null,
            "right": null,
            "top": null,
            "visibility": null,
            "width": null
          }
        },
        "6a9f0ce3e16a47baa37bfacc3d1013ef": {
          "model_module": "@jupyter-widgets/controls",
          "model_name": "ProgressStyleModel",
          "model_module_version": "1.5.0",
          "state": {
            "_model_module": "@jupyter-widgets/controls",
            "_model_module_version": "1.5.0",
            "_model_name": "ProgressStyleModel",
            "_view_count": null,
            "_view_module": "@jupyter-widgets/base",
            "_view_module_version": "1.2.0",
            "_view_name": "StyleView",
            "bar_color": null,
            "description_width": ""
          }
        },
        "35be746ddcb3486fa5a0029d90d7a7dd": {
          "model_module": "@jupyter-widgets/base",
          "model_name": "LayoutModel",
          "model_module_version": "1.2.0",
          "state": {
            "_model_module": "@jupyter-widgets/base",
            "_model_module_version": "1.2.0",
            "_model_name": "LayoutModel",
            "_view_count": null,
            "_view_module": "@jupyter-widgets/base",
            "_view_module_version": "1.2.0",
            "_view_name": "LayoutView",
            "align_content": null,
            "align_items": null,
            "align_self": null,
            "border": null,
            "bottom": null,
            "display": null,
            "flex": null,
            "flex_flow": null,
            "grid_area": null,
            "grid_auto_columns": null,
            "grid_auto_flow": null,
            "grid_auto_rows": null,
            "grid_column": null,
            "grid_gap": null,
            "grid_row": null,
            "grid_template_areas": null,
            "grid_template_columns": null,
            "grid_template_rows": null,
            "height": null,
            "justify_content": null,
            "justify_items": null,
            "left": null,
            "margin": null,
            "max_height": null,
            "max_width": null,
            "min_height": null,
            "min_width": null,
            "object_fit": null,
            "object_position": null,
            "order": null,
            "overflow": null,
            "overflow_x": null,
            "overflow_y": null,
            "padding": null,
            "right": null,
            "top": null,
            "visibility": null,
            "width": null
          }
        },
        "7e5a54c13bf74f1ca7819e4f67090029": {
          "model_module": "@jupyter-widgets/controls",
          "model_name": "DescriptionStyleModel",
          "model_module_version": "1.5.0",
          "state": {
            "_model_module": "@jupyter-widgets/controls",
            "_model_module_version": "1.5.0",
            "_model_name": "DescriptionStyleModel",
            "_view_count": null,
            "_view_module": "@jupyter-widgets/base",
            "_view_module_version": "1.2.0",
            "_view_name": "StyleView",
            "description_width": ""
          }
        },
        "6c31cd812a0640f298c59eca8732ea5d": {
          "model_module": "@jupyter-widgets/controls",
          "model_name": "HBoxModel",
          "model_module_version": "1.5.0",
          "state": {
            "_dom_classes": [],
            "_model_module": "@jupyter-widgets/controls",
            "_model_module_version": "1.5.0",
            "_model_name": "HBoxModel",
            "_view_count": null,
            "_view_module": "@jupyter-widgets/controls",
            "_view_module_version": "1.5.0",
            "_view_name": "HBoxView",
            "box_style": "",
            "children": [
              "IPY_MODEL_14f47af6dc964fc59ece7b1b3315cb33",
              "IPY_MODEL_38e956540ab346d49b9c821fdb9e07fb",
              "IPY_MODEL_fd7b0b35923945b1ae7107b1e794152f"
            ],
            "layout": "IPY_MODEL_b5f12a62f78b4b719cfc17b17fe681b5"
          }
        },
        "14f47af6dc964fc59ece7b1b3315cb33": {
          "model_module": "@jupyter-widgets/controls",
          "model_name": "HTMLModel",
          "model_module_version": "1.5.0",
          "state": {
            "_dom_classes": [],
            "_model_module": "@jupyter-widgets/controls",
            "_model_module_version": "1.5.0",
            "_model_name": "HTMLModel",
            "_view_count": null,
            "_view_module": "@jupyter-widgets/controls",
            "_view_module_version": "1.5.0",
            "_view_name": "HTMLView",
            "description": "",
            "description_tooltip": null,
            "layout": "IPY_MODEL_427cf3293706480bb0c9afed2ece0e1b",
            "placeholder": "​",
            "style": "IPY_MODEL_2aac8c49a5ba438b96b423d987e9d447",
            "value": "config.json: 100%"
          }
        },
        "38e956540ab346d49b9c821fdb9e07fb": {
          "model_module": "@jupyter-widgets/controls",
          "model_name": "FloatProgressModel",
          "model_module_version": "1.5.0",
          "state": {
            "_dom_classes": [],
            "_model_module": "@jupyter-widgets/controls",
            "_model_module_version": "1.5.0",
            "_model_name": "FloatProgressModel",
            "_view_count": null,
            "_view_module": "@jupyter-widgets/controls",
            "_view_module_version": "1.5.0",
            "_view_name": "ProgressView",
            "bar_style": "success",
            "description": "",
            "description_tooltip": null,
            "layout": "IPY_MODEL_cdd4efd67f5547ab9ed40d03e7271409",
            "max": 625,
            "min": 0,
            "orientation": "horizontal",
            "style": "IPY_MODEL_2f09a765a5a04665b8352d804d855a93",
            "value": 625
          }
        },
        "fd7b0b35923945b1ae7107b1e794152f": {
          "model_module": "@jupyter-widgets/controls",
          "model_name": "HTMLModel",
          "model_module_version": "1.5.0",
          "state": {
            "_dom_classes": [],
            "_model_module": "@jupyter-widgets/controls",
            "_model_module_version": "1.5.0",
            "_model_name": "HTMLModel",
            "_view_count": null,
            "_view_module": "@jupyter-widgets/controls",
            "_view_module_version": "1.5.0",
            "_view_name": "HTMLView",
            "description": "",
            "description_tooltip": null,
            "layout": "IPY_MODEL_0b14b95cb19d48e3b1171f7118d4e69f",
            "placeholder": "​",
            "style": "IPY_MODEL_92167e42a0304509a7874dd41d634ce4",
            "value": " 625/625 [00:00&lt;00:00, 15.1kB/s]"
          }
        },
        "b5f12a62f78b4b719cfc17b17fe681b5": {
          "model_module": "@jupyter-widgets/base",
          "model_name": "LayoutModel",
          "model_module_version": "1.2.0",
          "state": {
            "_model_module": "@jupyter-widgets/base",
            "_model_module_version": "1.2.0",
            "_model_name": "LayoutModel",
            "_view_count": null,
            "_view_module": "@jupyter-widgets/base",
            "_view_module_version": "1.2.0",
            "_view_name": "LayoutView",
            "align_content": null,
            "align_items": null,
            "align_self": null,
            "border": null,
            "bottom": null,
            "display": null,
            "flex": null,
            "flex_flow": null,
            "grid_area": null,
            "grid_auto_columns": null,
            "grid_auto_flow": null,
            "grid_auto_rows": null,
            "grid_column": null,
            "grid_gap": null,
            "grid_row": null,
            "grid_template_areas": null,
            "grid_template_columns": null,
            "grid_template_rows": null,
            "height": null,
            "justify_content": null,
            "justify_items": null,
            "left": null,
            "margin": null,
            "max_height": null,
            "max_width": null,
            "min_height": null,
            "min_width": null,
            "object_fit": null,
            "object_position": null,
            "order": null,
            "overflow": null,
            "overflow_x": null,
            "overflow_y": null,
            "padding": null,
            "right": null,
            "top": null,
            "visibility": null,
            "width": null
          }
        },
        "427cf3293706480bb0c9afed2ece0e1b": {
          "model_module": "@jupyter-widgets/base",
          "model_name": "LayoutModel",
          "model_module_version": "1.2.0",
          "state": {
            "_model_module": "@jupyter-widgets/base",
            "_model_module_version": "1.2.0",
            "_model_name": "LayoutModel",
            "_view_count": null,
            "_view_module": "@jupyter-widgets/base",
            "_view_module_version": "1.2.0",
            "_view_name": "LayoutView",
            "align_content": null,
            "align_items": null,
            "align_self": null,
            "border": null,
            "bottom": null,
            "display": null,
            "flex": null,
            "flex_flow": null,
            "grid_area": null,
            "grid_auto_columns": null,
            "grid_auto_flow": null,
            "grid_auto_rows": null,
            "grid_column": null,
            "grid_gap": null,
            "grid_row": null,
            "grid_template_areas": null,
            "grid_template_columns": null,
            "grid_template_rows": null,
            "height": null,
            "justify_content": null,
            "justify_items": null,
            "left": null,
            "margin": null,
            "max_height": null,
            "max_width": null,
            "min_height": null,
            "min_width": null,
            "object_fit": null,
            "object_position": null,
            "order": null,
            "overflow": null,
            "overflow_x": null,
            "overflow_y": null,
            "padding": null,
            "right": null,
            "top": null,
            "visibility": null,
            "width": null
          }
        },
        "2aac8c49a5ba438b96b423d987e9d447": {
          "model_module": "@jupyter-widgets/controls",
          "model_name": "DescriptionStyleModel",
          "model_module_version": "1.5.0",
          "state": {
            "_model_module": "@jupyter-widgets/controls",
            "_model_module_version": "1.5.0",
            "_model_name": "DescriptionStyleModel",
            "_view_count": null,
            "_view_module": "@jupyter-widgets/base",
            "_view_module_version": "1.2.0",
            "_view_name": "StyleView",
            "description_width": ""
          }
        },
        "cdd4efd67f5547ab9ed40d03e7271409": {
          "model_module": "@jupyter-widgets/base",
          "model_name": "LayoutModel",
          "model_module_version": "1.2.0",
          "state": {
            "_model_module": "@jupyter-widgets/base",
            "_model_module_version": "1.2.0",
            "_model_name": "LayoutModel",
            "_view_count": null,
            "_view_module": "@jupyter-widgets/base",
            "_view_module_version": "1.2.0",
            "_view_name": "LayoutView",
            "align_content": null,
            "align_items": null,
            "align_self": null,
            "border": null,
            "bottom": null,
            "display": null,
            "flex": null,
            "flex_flow": null,
            "grid_area": null,
            "grid_auto_columns": null,
            "grid_auto_flow": null,
            "grid_auto_rows": null,
            "grid_column": null,
            "grid_gap": null,
            "grid_row": null,
            "grid_template_areas": null,
            "grid_template_columns": null,
            "grid_template_rows": null,
            "height": null,
            "justify_content": null,
            "justify_items": null,
            "left": null,
            "margin": null,
            "max_height": null,
            "max_width": null,
            "min_height": null,
            "min_width": null,
            "object_fit": null,
            "object_position": null,
            "order": null,
            "overflow": null,
            "overflow_x": null,
            "overflow_y": null,
            "padding": null,
            "right": null,
            "top": null,
            "visibility": null,
            "width": null
          }
        },
        "2f09a765a5a04665b8352d804d855a93": {
          "model_module": "@jupyter-widgets/controls",
          "model_name": "ProgressStyleModel",
          "model_module_version": "1.5.0",
          "state": {
            "_model_module": "@jupyter-widgets/controls",
            "_model_module_version": "1.5.0",
            "_model_name": "ProgressStyleModel",
            "_view_count": null,
            "_view_module": "@jupyter-widgets/base",
            "_view_module_version": "1.2.0",
            "_view_name": "StyleView",
            "bar_color": null,
            "description_width": ""
          }
        },
        "0b14b95cb19d48e3b1171f7118d4e69f": {
          "model_module": "@jupyter-widgets/base",
          "model_name": "LayoutModel",
          "model_module_version": "1.2.0",
          "state": {
            "_model_module": "@jupyter-widgets/base",
            "_model_module_version": "1.2.0",
            "_model_name": "LayoutModel",
            "_view_count": null,
            "_view_module": "@jupyter-widgets/base",
            "_view_module_version": "1.2.0",
            "_view_name": "LayoutView",
            "align_content": null,
            "align_items": null,
            "align_self": null,
            "border": null,
            "bottom": null,
            "display": null,
            "flex": null,
            "flex_flow": null,
            "grid_area": null,
            "grid_auto_columns": null,
            "grid_auto_flow": null,
            "grid_auto_rows": null,
            "grid_column": null,
            "grid_gap": null,
            "grid_row": null,
            "grid_template_areas": null,
            "grid_template_columns": null,
            "grid_template_rows": null,
            "height": null,
            "justify_content": null,
            "justify_items": null,
            "left": null,
            "margin": null,
            "max_height": null,
            "max_width": null,
            "min_height": null,
            "min_width": null,
            "object_fit": null,
            "object_position": null,
            "order": null,
            "overflow": null,
            "overflow_x": null,
            "overflow_y": null,
            "padding": null,
            "right": null,
            "top": null,
            "visibility": null,
            "width": null
          }
        },
        "92167e42a0304509a7874dd41d634ce4": {
          "model_module": "@jupyter-widgets/controls",
          "model_name": "DescriptionStyleModel",
          "model_module_version": "1.5.0",
          "state": {
            "_model_module": "@jupyter-widgets/controls",
            "_model_module_version": "1.5.0",
            "_model_name": "DescriptionStyleModel",
            "_view_count": null,
            "_view_module": "@jupyter-widgets/base",
            "_view_module_version": "1.2.0",
            "_view_name": "StyleView",
            "description_width": ""
          }
        },
        "bb19a9e0aa114f92b7fa498d73149c92": {
          "model_module": "@jupyter-widgets/controls",
          "model_name": "HBoxModel",
          "model_module_version": "1.5.0",
          "state": {
            "_dom_classes": [],
            "_model_module": "@jupyter-widgets/controls",
            "_model_module_version": "1.5.0",
            "_model_name": "HBoxModel",
            "_view_count": null,
            "_view_module": "@jupyter-widgets/controls",
            "_view_module_version": "1.5.0",
            "_view_name": "HBoxView",
            "box_style": "",
            "children": [
              "IPY_MODEL_6394c35e700042b59bd0c495028f464b",
              "IPY_MODEL_1b57341736fc48b79d9736020afe2339",
              "IPY_MODEL_a424fb464ca342b3af679f40526222fb"
            ],
            "layout": "IPY_MODEL_4eda8c0eacdd45f68a02e53cc6770579"
          }
        },
        "6394c35e700042b59bd0c495028f464b": {
          "model_module": "@jupyter-widgets/controls",
          "model_name": "HTMLModel",
          "model_module_version": "1.5.0",
          "state": {
            "_dom_classes": [],
            "_model_module": "@jupyter-widgets/controls",
            "_model_module_version": "1.5.0",
            "_model_name": "HTMLModel",
            "_view_count": null,
            "_view_module": "@jupyter-widgets/controls",
            "_view_module_version": "1.5.0",
            "_view_name": "HTMLView",
            "description": "",
            "description_tooltip": null,
            "layout": "IPY_MODEL_aed2b5676f7c42ec8599059bfaa0aae2",
            "placeholder": "​",
            "style": "IPY_MODEL_3d9c47c27a8b4b7e868adfff6cf22f12",
            "value": "model.safetensors: 100%"
          }
        },
        "1b57341736fc48b79d9736020afe2339": {
          "model_module": "@jupyter-widgets/controls",
          "model_name": "FloatProgressModel",
          "model_module_version": "1.5.0",
          "state": {
            "_dom_classes": [],
            "_model_module": "@jupyter-widgets/controls",
            "_model_module_version": "1.5.0",
            "_model_name": "FloatProgressModel",
            "_view_count": null,
            "_view_module": "@jupyter-widgets/controls",
            "_view_module_version": "1.5.0",
            "_view_name": "ProgressView",
            "bar_style": "success",
            "description": "",
            "description_tooltip": null,
            "layout": "IPY_MODEL_f8df6b67e78240d38c2d2175b1add99b",
            "max": 714290682,
            "min": 0,
            "orientation": "horizontal",
            "style": "IPY_MODEL_29cbd865af0f44cdb4ee73b8a7194d6b",
            "value": 714290682
          }
        },
        "a424fb464ca342b3af679f40526222fb": {
          "model_module": "@jupyter-widgets/controls",
          "model_name": "HTMLModel",
          "model_module_version": "1.5.0",
          "state": {
            "_dom_classes": [],
            "_model_module": "@jupyter-widgets/controls",
            "_model_module_version": "1.5.0",
            "_model_name": "HTMLModel",
            "_view_count": null,
            "_view_module": "@jupyter-widgets/controls",
            "_view_module_version": "1.5.0",
            "_view_name": "HTMLView",
            "description": "",
            "description_tooltip": null,
            "layout": "IPY_MODEL_6e2e72218fbd449cae3ee361389faffa",
            "placeholder": "​",
            "style": "IPY_MODEL_84d22030c4bd485594e4e90607f6c284",
            "value": " 714M/714M [00:05&lt;00:00, 49.2MB/s]"
          }
        },
        "4eda8c0eacdd45f68a02e53cc6770579": {
          "model_module": "@jupyter-widgets/base",
          "model_name": "LayoutModel",
          "model_module_version": "1.2.0",
          "state": {
            "_model_module": "@jupyter-widgets/base",
            "_model_module_version": "1.2.0",
            "_model_name": "LayoutModel",
            "_view_count": null,
            "_view_module": "@jupyter-widgets/base",
            "_view_module_version": "1.2.0",
            "_view_name": "LayoutView",
            "align_content": null,
            "align_items": null,
            "align_self": null,
            "border": null,
            "bottom": null,
            "display": null,
            "flex": null,
            "flex_flow": null,
            "grid_area": null,
            "grid_auto_columns": null,
            "grid_auto_flow": null,
            "grid_auto_rows": null,
            "grid_column": null,
            "grid_gap": null,
            "grid_row": null,
            "grid_template_areas": null,
            "grid_template_columns": null,
            "grid_template_rows": null,
            "height": null,
            "justify_content": null,
            "justify_items": null,
            "left": null,
            "margin": null,
            "max_height": null,
            "max_width": null,
            "min_height": null,
            "min_width": null,
            "object_fit": null,
            "object_position": null,
            "order": null,
            "overflow": null,
            "overflow_x": null,
            "overflow_y": null,
            "padding": null,
            "right": null,
            "top": null,
            "visibility": null,
            "width": null
          }
        },
        "aed2b5676f7c42ec8599059bfaa0aae2": {
          "model_module": "@jupyter-widgets/base",
          "model_name": "LayoutModel",
          "model_module_version": "1.2.0",
          "state": {
            "_model_module": "@jupyter-widgets/base",
            "_model_module_version": "1.2.0",
            "_model_name": "LayoutModel",
            "_view_count": null,
            "_view_module": "@jupyter-widgets/base",
            "_view_module_version": "1.2.0",
            "_view_name": "LayoutView",
            "align_content": null,
            "align_items": null,
            "align_self": null,
            "border": null,
            "bottom": null,
            "display": null,
            "flex": null,
            "flex_flow": null,
            "grid_area": null,
            "grid_auto_columns": null,
            "grid_auto_flow": null,
            "grid_auto_rows": null,
            "grid_column": null,
            "grid_gap": null,
            "grid_row": null,
            "grid_template_areas": null,
            "grid_template_columns": null,
            "grid_template_rows": null,
            "height": null,
            "justify_content": null,
            "justify_items": null,
            "left": null,
            "margin": null,
            "max_height": null,
            "max_width": null,
            "min_height": null,
            "min_width": null,
            "object_fit": null,
            "object_position": null,
            "order": null,
            "overflow": null,
            "overflow_x": null,
            "overflow_y": null,
            "padding": null,
            "right": null,
            "top": null,
            "visibility": null,
            "width": null
          }
        },
        "3d9c47c27a8b4b7e868adfff6cf22f12": {
          "model_module": "@jupyter-widgets/controls",
          "model_name": "DescriptionStyleModel",
          "model_module_version": "1.5.0",
          "state": {
            "_model_module": "@jupyter-widgets/controls",
            "_model_module_version": "1.5.0",
            "_model_name": "DescriptionStyleModel",
            "_view_count": null,
            "_view_module": "@jupyter-widgets/base",
            "_view_module_version": "1.2.0",
            "_view_name": "StyleView",
            "description_width": ""
          }
        },
        "f8df6b67e78240d38c2d2175b1add99b": {
          "model_module": "@jupyter-widgets/base",
          "model_name": "LayoutModel",
          "model_module_version": "1.2.0",
          "state": {
            "_model_module": "@jupyter-widgets/base",
            "_model_module_version": "1.2.0",
            "_model_name": "LayoutModel",
            "_view_count": null,
            "_view_module": "@jupyter-widgets/base",
            "_view_module_version": "1.2.0",
            "_view_name": "LayoutView",
            "align_content": null,
            "align_items": null,
            "align_self": null,
            "border": null,
            "bottom": null,
            "display": null,
            "flex": null,
            "flex_flow": null,
            "grid_area": null,
            "grid_auto_columns": null,
            "grid_auto_flow": null,
            "grid_auto_rows": null,
            "grid_column": null,
            "grid_gap": null,
            "grid_row": null,
            "grid_template_areas": null,
            "grid_template_columns": null,
            "grid_template_rows": null,
            "height": null,
            "justify_content": null,
            "justify_items": null,
            "left": null,
            "margin": null,
            "max_height": null,
            "max_width": null,
            "min_height": null,
            "min_width": null,
            "object_fit": null,
            "object_position": null,
            "order": null,
            "overflow": null,
            "overflow_x": null,
            "overflow_y": null,
            "padding": null,
            "right": null,
            "top": null,
            "visibility": null,
            "width": null
          }
        },
        "29cbd865af0f44cdb4ee73b8a7194d6b": {
          "model_module": "@jupyter-widgets/controls",
          "model_name": "ProgressStyleModel",
          "model_module_version": "1.5.0",
          "state": {
            "_model_module": "@jupyter-widgets/controls",
            "_model_module_version": "1.5.0",
            "_model_name": "ProgressStyleModel",
            "_view_count": null,
            "_view_module": "@jupyter-widgets/base",
            "_view_module_version": "1.2.0",
            "_view_name": "StyleView",
            "bar_color": null,
            "description_width": ""
          }
        },
        "6e2e72218fbd449cae3ee361389faffa": {
          "model_module": "@jupyter-widgets/base",
          "model_name": "LayoutModel",
          "model_module_version": "1.2.0",
          "state": {
            "_model_module": "@jupyter-widgets/base",
            "_model_module_version": "1.2.0",
            "_model_name": "LayoutModel",
            "_view_count": null,
            "_view_module": "@jupyter-widgets/base",
            "_view_module_version": "1.2.0",
            "_view_name": "LayoutView",
            "align_content": null,
            "align_items": null,
            "align_self": null,
            "border": null,
            "bottom": null,
            "display": null,
            "flex": null,
            "flex_flow": null,
            "grid_area": null,
            "grid_auto_columns": null,
            "grid_auto_flow": null,
            "grid_auto_rows": null,
            "grid_column": null,
            "grid_gap": null,
            "grid_row": null,
            "grid_template_areas": null,
            "grid_template_columns": null,
            "grid_template_rows": null,
            "height": null,
            "justify_content": null,
            "justify_items": null,
            "left": null,
            "margin": null,
            "max_height": null,
            "max_width": null,
            "min_height": null,
            "min_width": null,
            "object_fit": null,
            "object_position": null,
            "order": null,
            "overflow": null,
            "overflow_x": null,
            "overflow_y": null,
            "padding": null,
            "right": null,
            "top": null,
            "visibility": null,
            "width": null
          }
        },
        "84d22030c4bd485594e4e90607f6c284": {
          "model_module": "@jupyter-widgets/controls",
          "model_name": "DescriptionStyleModel",
          "model_module_version": "1.5.0",
          "state": {
            "_model_module": "@jupyter-widgets/controls",
            "_model_module_version": "1.5.0",
            "_model_name": "DescriptionStyleModel",
            "_view_count": null,
            "_view_module": "@jupyter-widgets/base",
            "_view_module_version": "1.2.0",
            "_view_name": "StyleView",
            "description_width": ""
          }
        }
      }
    }
  },
  "cells": [
    {
      "cell_type": "markdown",
      "source": [
        "***Задание 1. 10 баллов (+2)***\n",
        "\n",
        "Решите задачу классификации по тональности на подготовленном в одной из семинарских тетрадок корпусе отзывов Google Play, либо на корпусе  IMDB, используя пайплайн с Trainer  от HuggingFace.\n",
        "\n",
        "\n",
        "\n",
        "1. обучите ту модель, которую мы разбирали на занятии (класс SentimentClassifier из тетрадки) -- 2 балла\n",
        "\n",
        "\n",
        "2. измените модель, чтобы помимо выхода с пуллер-слоя использовался  эмбеддинг  cls-токена с последнего слоя. -- 3 балла\n",
        "\n",
        "\n",
        "3. примените к данным готовую модель для классификации последовательности (типа  BertForSequenceClassification) -- 2 балла\n",
        "\n",
        "\n",
        "*4. агрегируйте cls-токены для нескольких слоев, чтобы сделать предсказание класса  -- 2 дополнительных балла\n",
        "\n",
        "\n",
        "5. выберите на сайте google play три понравившихся вам отзыва, относящиеся к разным классам. Покажите, как на них работает любая из обученных моделей -- 2 балла\n",
        "\n",
        "\n",
        "Общие требования: (1 балл)\n",
        "\n",
        "Для всех моделей используйте одинаковые гиперпараметры, чтобы их результаты  можно было сравнить между собой.\n",
        "\n",
        "Комментируйте ваши решения в коде.  \n",
        "\n",
        "Для каждой из моделей нужно привести результаты на тестовой выборке.\n",
        "\n",
        "Вы можете использовать любую предобученную модель, которая подходит для работы с английским, кроме  bert-base-cased"
      ],
      "metadata": {
        "id": "2dX477w5h1SN"
      }
    },
    {
      "cell_type": "code",
      "source": [
        "!pip install -q -U watermark"
      ],
      "metadata": {
        "colab": {
          "base_uri": "https://localhost:8080/"
        },
        "id": "xLGiGMihh1bm",
        "outputId": "2304b5ad-0da3-4a6c-da38-017ee71f482b"
      },
      "execution_count": 1,
      "outputs": [
        {
          "output_type": "stream",
          "name": "stdout",
          "text": [
            "\u001b[?25l   \u001b[90m━━━━━━━━━━━━━━━━━━━━━━━━━━━━━━━━━━━━━━━━\u001b[0m \u001b[32m0.0/1.6 MB\u001b[0m \u001b[31m?\u001b[0m eta \u001b[36m-:--:--\u001b[0m\r\u001b[2K   \u001b[91m━━━━━━━━━━━━━━━━━━━━━━━━━━━━━━━━━━━\u001b[0m\u001b[90m╺\u001b[0m\u001b[90m━━━━\u001b[0m \u001b[32m1.4/1.6 MB\u001b[0m \u001b[31m41.8 MB/s\u001b[0m eta \u001b[36m0:00:01\u001b[0m\r\u001b[2K   \u001b[91m━━━━━━━━━━━━━━━━━━━━━━━━━━━━━━━━━━━━━━━\u001b[0m\u001b[91m╸\u001b[0m \u001b[32m1.6/1.6 MB\u001b[0m \u001b[31m28.5 MB/s\u001b[0m eta \u001b[36m0:00:01\u001b[0m\r\u001b[2K   \u001b[90m━━━━━━━━━━━━━━━━━━━━━━━━━━━━━━━━━━━━━━━━\u001b[0m \u001b[32m1.6/1.6 MB\u001b[0m \u001b[31m18.5 MB/s\u001b[0m eta \u001b[36m0:00:00\u001b[0m\n",
            "\u001b[?25h"
          ]
        }
      ]
    },
    {
      "cell_type": "code",
      "source": [
        "!pip install transformers"
      ],
      "metadata": {
        "colab": {
          "base_uri": "https://localhost:8080/"
        },
        "id": "e44ySy8-h1k0",
        "outputId": "d34d6d81-f898-4a34-eae9-46e34abea5e5"
      },
      "execution_count": 2,
      "outputs": [
        {
          "output_type": "stream",
          "name": "stdout",
          "text": [
            "Requirement already satisfied: transformers in /usr/local/lib/python3.10/dist-packages (4.47.1)\n",
            "Requirement already satisfied: filelock in /usr/local/lib/python3.10/dist-packages (from transformers) (3.16.1)\n",
            "Requirement already satisfied: huggingface-hub<1.0,>=0.24.0 in /usr/local/lib/python3.10/dist-packages (from transformers) (0.27.0)\n",
            "Requirement already satisfied: numpy>=1.17 in /usr/local/lib/python3.10/dist-packages (from transformers) (1.26.4)\n",
            "Requirement already satisfied: packaging>=20.0 in /usr/local/lib/python3.10/dist-packages (from transformers) (24.2)\n",
            "Requirement already satisfied: pyyaml>=5.1 in /usr/local/lib/python3.10/dist-packages (from transformers) (6.0.2)\n",
            "Requirement already satisfied: regex!=2019.12.17 in /usr/local/lib/python3.10/dist-packages (from transformers) (2024.11.6)\n",
            "Requirement already satisfied: requests in /usr/local/lib/python3.10/dist-packages (from transformers) (2.32.3)\n",
            "Requirement already satisfied: tokenizers<0.22,>=0.21 in /usr/local/lib/python3.10/dist-packages (from transformers) (0.21.0)\n",
            "Requirement already satisfied: safetensors>=0.4.1 in /usr/local/lib/python3.10/dist-packages (from transformers) (0.4.5)\n",
            "Requirement already satisfied: tqdm>=4.27 in /usr/local/lib/python3.10/dist-packages (from transformers) (4.67.1)\n",
            "Requirement already satisfied: fsspec>=2023.5.0 in /usr/local/lib/python3.10/dist-packages (from huggingface-hub<1.0,>=0.24.0->transformers) (2024.10.0)\n",
            "Requirement already satisfied: typing-extensions>=3.7.4.3 in /usr/local/lib/python3.10/dist-packages (from huggingface-hub<1.0,>=0.24.0->transformers) (4.12.2)\n",
            "Requirement already satisfied: charset-normalizer<4,>=2 in /usr/local/lib/python3.10/dist-packages (from requests->transformers) (3.4.0)\n",
            "Requirement already satisfied: idna<4,>=2.5 in /usr/local/lib/python3.10/dist-packages (from requests->transformers) (3.10)\n",
            "Requirement already satisfied: urllib3<3,>=1.21.1 in /usr/local/lib/python3.10/dist-packages (from requests->transformers) (2.2.3)\n",
            "Requirement already satisfied: certifi>=2017.4.17 in /usr/local/lib/python3.10/dist-packages (from requests->transformers) (2024.12.14)\n"
          ]
        }
      ]
    },
    {
      "cell_type": "code",
      "source": [
        "%reload_ext watermark\n",
        "%watermark -v -p numpy,pandas,torch,transformers"
      ],
      "metadata": {
        "colab": {
          "base_uri": "https://localhost:8080/"
        },
        "id": "neqMN_zHh1tl",
        "outputId": "9fa3ac6d-cb88-4806-9523-1f239ee5ee48"
      },
      "execution_count": 3,
      "outputs": [
        {
          "output_type": "stream",
          "name": "stdout",
          "text": [
            "Python implementation: CPython\n",
            "Python version       : 3.10.12\n",
            "IPython version      : 7.34.0\n",
            "\n",
            "numpy       : 1.26.4\n",
            "pandas      : 2.2.2\n",
            "torch       : 2.5.1+cu121\n",
            "transformers: 4.47.1\n",
            "\n"
          ]
        }
      ]
    },
    {
      "cell_type": "code",
      "source": [
        "!gdown --id 1S6qMioqPJjyBLpLVz4gmRTnJHnjitnuV\n",
        "!gdown --id 1zdmewp7ayS4js4VtrJEHzAheSW-5NBZv"
      ],
      "metadata": {
        "colab": {
          "base_uri": "https://localhost:8080/"
        },
        "id": "4vquGgV1iucf",
        "outputId": "43e51c2d-eef3-46c6-8609-829d8abdbfc8"
      },
      "execution_count": 4,
      "outputs": [
        {
          "output_type": "stream",
          "name": "stdout",
          "text": [
            "/usr/local/lib/python3.10/dist-packages/gdown/__main__.py:140: FutureWarning: Option `--id` was deprecated in version 4.3.1 and will be removed in 5.0. You don't need to pass it anymore to use a file ID.\n",
            "  warnings.warn(\n",
            "Downloading...\n",
            "From: https://drive.google.com/uc?id=1S6qMioqPJjyBLpLVz4gmRTnJHnjitnuV\n",
            "To: /content/apps.csv\n",
            "100% 134k/134k [00:00<00:00, 29.7MB/s]\n",
            "/usr/local/lib/python3.10/dist-packages/gdown/__main__.py:140: FutureWarning: Option `--id` was deprecated in version 4.3.1 and will be removed in 5.0. You don't need to pass it anymore to use a file ID.\n",
            "  warnings.warn(\n",
            "Downloading...\n",
            "From: https://drive.google.com/uc?id=1zdmewp7ayS4js4VtrJEHzAheSW-5NBZv\n",
            "To: /content/reviews.csv\n",
            "100% 7.17M/7.17M [00:00<00:00, 42.7MB/s]\n"
          ]
        }
      ]
    },
    {
      "cell_type": "code",
      "source": [
        "import transformers\n",
        "from transformers import BertModel, AutoTokenizer, BertTokenizer, PreTrainedTokenizerFast, AdamW, get_linear_schedule_with_warmup\n",
        "import torch.nn.functional as F\n",
        "\n",
        "import torch\n",
        "import numpy as np\n",
        "import pandas as pd\n",
        "import seaborn as sns\n",
        "from pylab import rcParams\n",
        "import matplotlib.pyplot as plt\n",
        "from matplotlib import rc\n",
        "from sklearn.model_selection import train_test_split\n",
        "from sklearn.metrics import confusion_matrix, classification_report\n",
        "from collections import defaultdict\n",
        "from textwrap import wrap\n",
        "from torch import nn, optim\n",
        "from torch.nn.utils import clip_grad_norm_\n",
        "from torch.utils.data import Dataset, DataLoader"
      ],
      "metadata": {
        "id": "Lh2zd7nQiuht"
      },
      "execution_count": 5,
      "outputs": []
    },
    {
      "cell_type": "code",
      "source": [
        "%matplotlib inline\n",
        "%config InlineBackend.figure_format='retina'\n",
        "sns.set(style='whitegrid', palette='muted', font_scale=1.2)\n",
        "HAPPY_COLORS_PALETTE = [\"#01BEFE\", \"#FFDD00\", \"#FF7D00\", \"#FF006D\", \"#ADFF02\", \"#8F00FF\"]\n",
        "sns.set_palette(sns.color_palette(HAPPY_COLORS_PALETTE))\n",
        "rcParams['figure.figsize'] = 8, 6"
      ],
      "metadata": {
        "id": "0yJJoLJeiukj"
      },
      "execution_count": 6,
      "outputs": []
    },
    {
      "cell_type": "code",
      "source": [
        "df = pd.read_csv('reviews.csv')"
      ],
      "metadata": {
        "id": "e5ugZh5fium8"
      },
      "execution_count": 7,
      "outputs": []
    },
    {
      "cell_type": "code",
      "source": [
        "df.info()"
      ],
      "metadata": {
        "colab": {
          "base_uri": "https://localhost:8080/"
        },
        "id": "OS6u_j_3iupU",
        "outputId": "7e2b8c8c-892b-4187-af7c-95e862e9a3dc"
      },
      "execution_count": 8,
      "outputs": [
        {
          "output_type": "stream",
          "name": "stdout",
          "text": [
            "<class 'pandas.core.frame.DataFrame'>\n",
            "RangeIndex: 15746 entries, 0 to 15745\n",
            "Data columns (total 11 columns):\n",
            " #   Column                Non-Null Count  Dtype \n",
            "---  ------                --------------  ----- \n",
            " 0   userName              15746 non-null  object\n",
            " 1   userImage             15746 non-null  object\n",
            " 2   content               15746 non-null  object\n",
            " 3   score                 15746 non-null  int64 \n",
            " 4   thumbsUpCount         15746 non-null  int64 \n",
            " 5   reviewCreatedVersion  13533 non-null  object\n",
            " 6   at                    15746 non-null  object\n",
            " 7   replyContent          7367 non-null   object\n",
            " 8   repliedAt             7367 non-null   object\n",
            " 9   sortOrder             15746 non-null  object\n",
            " 10  appId                 15746 non-null  object\n",
            "dtypes: int64(2), object(9)\n",
            "memory usage: 1.3+ MB\n"
          ]
        }
      ]
    },
    {
      "cell_type": "code",
      "source": [
        "df.head()"
      ],
      "metadata": {
        "colab": {
          "base_uri": "https://localhost:8080/",
          "height": 362
        },
        "id": "QbuiOkLWjqbk",
        "outputId": "065481f5-9c38-4878-c303-15b1452ca695"
      },
      "execution_count": 10,
      "outputs": [
        {
          "output_type": "execute_result",
          "data": {
            "text/plain": [
              "           userName                                          userImage  \\\n",
              "0     Andrew Thomas  https://lh3.googleusercontent.com/a-/AOh14GiHd...   \n",
              "1      Craig Haines  https://lh3.googleusercontent.com/-hoe0kwSJgPQ...   \n",
              "2     steven adkins  https://lh3.googleusercontent.com/a-/AOh14GiXw...   \n",
              "3  Lars Panzerbjørn  https://lh3.googleusercontent.com/a-/AOh14Gg-h...   \n",
              "4     Scott Prewitt  https://lh3.googleusercontent.com/-K-X1-YsVd6U...   \n",
              "\n",
              "                                             content  score  thumbsUpCount  \\\n",
              "0  Update: After getting a response from the deve...      1             21   \n",
              "1  Used it for a fair amount of time without any ...      1             11   \n",
              "2  Your app sucks now!!!!! Used to be good but no...      1             17   \n",
              "3  It seems OK, but very basic. Recurring tasks n...      1            192   \n",
              "4  Absolutely worthless. This app runs a prohibit...      1             42   \n",
              "\n",
              "  reviewCreatedVersion                   at  \\\n",
              "0             4.17.0.3  2020-04-05 22:25:57   \n",
              "1             4.17.0.3  2020-04-04 13:40:01   \n",
              "2             4.17.0.3  2020-04-01 16:18:13   \n",
              "3             4.17.0.2  2020-03-12 08:17:34   \n",
              "4             4.17.0.2  2020-03-14 17:41:01   \n",
              "\n",
              "                                        replyContent            repliedAt  \\\n",
              "0  According to our TOS, and the term you have ag...  2020-04-05 15:10:24   \n",
              "1  It sounds like you logged in with a different ...  2020-04-05 15:11:35   \n",
              "2  This sounds odd! We are not aware of any issue...  2020-04-02 16:05:56   \n",
              "3  We do offer this option as part of the Advance...  2020-03-15 06:20:13   \n",
              "4  We're sorry you feel this way! 90% of the app ...  2020-03-15 23:45:51   \n",
              "\n",
              "       sortOrder      appId  \n",
              "0  most_relevant  com.anydo  \n",
              "1  most_relevant  com.anydo  \n",
              "2  most_relevant  com.anydo  \n",
              "3  most_relevant  com.anydo  \n",
              "4  most_relevant  com.anydo  "
            ],
            "text/html": [
              "\n",
              "  <div id=\"df-ebae7300-3780-4d82-9ee6-b670b536e410\" class=\"colab-df-container\">\n",
              "    <div>\n",
              "<style scoped>\n",
              "    .dataframe tbody tr th:only-of-type {\n",
              "        vertical-align: middle;\n",
              "    }\n",
              "\n",
              "    .dataframe tbody tr th {\n",
              "        vertical-align: top;\n",
              "    }\n",
              "\n",
              "    .dataframe thead th {\n",
              "        text-align: right;\n",
              "    }\n",
              "</style>\n",
              "<table border=\"1\" class=\"dataframe\">\n",
              "  <thead>\n",
              "    <tr style=\"text-align: right;\">\n",
              "      <th></th>\n",
              "      <th>userName</th>\n",
              "      <th>userImage</th>\n",
              "      <th>content</th>\n",
              "      <th>score</th>\n",
              "      <th>thumbsUpCount</th>\n",
              "      <th>reviewCreatedVersion</th>\n",
              "      <th>at</th>\n",
              "      <th>replyContent</th>\n",
              "      <th>repliedAt</th>\n",
              "      <th>sortOrder</th>\n",
              "      <th>appId</th>\n",
              "    </tr>\n",
              "  </thead>\n",
              "  <tbody>\n",
              "    <tr>\n",
              "      <th>0</th>\n",
              "      <td>Andrew Thomas</td>\n",
              "      <td>https://lh3.googleusercontent.com/a-/AOh14GiHd...</td>\n",
              "      <td>Update: After getting a response from the deve...</td>\n",
              "      <td>1</td>\n",
              "      <td>21</td>\n",
              "      <td>4.17.0.3</td>\n",
              "      <td>2020-04-05 22:25:57</td>\n",
              "      <td>According to our TOS, and the term you have ag...</td>\n",
              "      <td>2020-04-05 15:10:24</td>\n",
              "      <td>most_relevant</td>\n",
              "      <td>com.anydo</td>\n",
              "    </tr>\n",
              "    <tr>\n",
              "      <th>1</th>\n",
              "      <td>Craig Haines</td>\n",
              "      <td>https://lh3.googleusercontent.com/-hoe0kwSJgPQ...</td>\n",
              "      <td>Used it for a fair amount of time without any ...</td>\n",
              "      <td>1</td>\n",
              "      <td>11</td>\n",
              "      <td>4.17.0.3</td>\n",
              "      <td>2020-04-04 13:40:01</td>\n",
              "      <td>It sounds like you logged in with a different ...</td>\n",
              "      <td>2020-04-05 15:11:35</td>\n",
              "      <td>most_relevant</td>\n",
              "      <td>com.anydo</td>\n",
              "    </tr>\n",
              "    <tr>\n",
              "      <th>2</th>\n",
              "      <td>steven adkins</td>\n",
              "      <td>https://lh3.googleusercontent.com/a-/AOh14GiXw...</td>\n",
              "      <td>Your app sucks now!!!!! Used to be good but no...</td>\n",
              "      <td>1</td>\n",
              "      <td>17</td>\n",
              "      <td>4.17.0.3</td>\n",
              "      <td>2020-04-01 16:18:13</td>\n",
              "      <td>This sounds odd! We are not aware of any issue...</td>\n",
              "      <td>2020-04-02 16:05:56</td>\n",
              "      <td>most_relevant</td>\n",
              "      <td>com.anydo</td>\n",
              "    </tr>\n",
              "    <tr>\n",
              "      <th>3</th>\n",
              "      <td>Lars Panzerbjørn</td>\n",
              "      <td>https://lh3.googleusercontent.com/a-/AOh14Gg-h...</td>\n",
              "      <td>It seems OK, but very basic. Recurring tasks n...</td>\n",
              "      <td>1</td>\n",
              "      <td>192</td>\n",
              "      <td>4.17.0.2</td>\n",
              "      <td>2020-03-12 08:17:34</td>\n",
              "      <td>We do offer this option as part of the Advance...</td>\n",
              "      <td>2020-03-15 06:20:13</td>\n",
              "      <td>most_relevant</td>\n",
              "      <td>com.anydo</td>\n",
              "    </tr>\n",
              "    <tr>\n",
              "      <th>4</th>\n",
              "      <td>Scott Prewitt</td>\n",
              "      <td>https://lh3.googleusercontent.com/-K-X1-YsVd6U...</td>\n",
              "      <td>Absolutely worthless. This app runs a prohibit...</td>\n",
              "      <td>1</td>\n",
              "      <td>42</td>\n",
              "      <td>4.17.0.2</td>\n",
              "      <td>2020-03-14 17:41:01</td>\n",
              "      <td>We're sorry you feel this way! 90% of the app ...</td>\n",
              "      <td>2020-03-15 23:45:51</td>\n",
              "      <td>most_relevant</td>\n",
              "      <td>com.anydo</td>\n",
              "    </tr>\n",
              "  </tbody>\n",
              "</table>\n",
              "</div>\n",
              "    <div class=\"colab-df-buttons\">\n",
              "\n",
              "  <div class=\"colab-df-container\">\n",
              "    <button class=\"colab-df-convert\" onclick=\"convertToInteractive('df-ebae7300-3780-4d82-9ee6-b670b536e410')\"\n",
              "            title=\"Convert this dataframe to an interactive table.\"\n",
              "            style=\"display:none;\">\n",
              "\n",
              "  <svg xmlns=\"http://www.w3.org/2000/svg\" height=\"24px\" viewBox=\"0 -960 960 960\">\n",
              "    <path d=\"M120-120v-720h720v720H120Zm60-500h600v-160H180v160Zm220 220h160v-160H400v160Zm0 220h160v-160H400v160ZM180-400h160v-160H180v160Zm440 0h160v-160H620v160ZM180-180h160v-160H180v160Zm440 0h160v-160H620v160Z\"/>\n",
              "  </svg>\n",
              "    </button>\n",
              "\n",
              "  <style>\n",
              "    .colab-df-container {\n",
              "      display:flex;\n",
              "      gap: 12px;\n",
              "    }\n",
              "\n",
              "    .colab-df-convert {\n",
              "      background-color: #E8F0FE;\n",
              "      border: none;\n",
              "      border-radius: 50%;\n",
              "      cursor: pointer;\n",
              "      display: none;\n",
              "      fill: #1967D2;\n",
              "      height: 32px;\n",
              "      padding: 0 0 0 0;\n",
              "      width: 32px;\n",
              "    }\n",
              "\n",
              "    .colab-df-convert:hover {\n",
              "      background-color: #E2EBFA;\n",
              "      box-shadow: 0px 1px 2px rgba(60, 64, 67, 0.3), 0px 1px 3px 1px rgba(60, 64, 67, 0.15);\n",
              "      fill: #174EA6;\n",
              "    }\n",
              "\n",
              "    .colab-df-buttons div {\n",
              "      margin-bottom: 4px;\n",
              "    }\n",
              "\n",
              "    [theme=dark] .colab-df-convert {\n",
              "      background-color: #3B4455;\n",
              "      fill: #D2E3FC;\n",
              "    }\n",
              "\n",
              "    [theme=dark] .colab-df-convert:hover {\n",
              "      background-color: #434B5C;\n",
              "      box-shadow: 0px 1px 3px 1px rgba(0, 0, 0, 0.15);\n",
              "      filter: drop-shadow(0px 1px 2px rgba(0, 0, 0, 0.3));\n",
              "      fill: #FFFFFF;\n",
              "    }\n",
              "  </style>\n",
              "\n",
              "    <script>\n",
              "      const buttonEl =\n",
              "        document.querySelector('#df-ebae7300-3780-4d82-9ee6-b670b536e410 button.colab-df-convert');\n",
              "      buttonEl.style.display =\n",
              "        google.colab.kernel.accessAllowed ? 'block' : 'none';\n",
              "\n",
              "      async function convertToInteractive(key) {\n",
              "        const element = document.querySelector('#df-ebae7300-3780-4d82-9ee6-b670b536e410');\n",
              "        const dataTable =\n",
              "          await google.colab.kernel.invokeFunction('convertToInteractive',\n",
              "                                                    [key], {});\n",
              "        if (!dataTable) return;\n",
              "\n",
              "        const docLinkHtml = 'Like what you see? Visit the ' +\n",
              "          '<a target=\"_blank\" href=https://colab.research.google.com/notebooks/data_table.ipynb>data table notebook</a>'\n",
              "          + ' to learn more about interactive tables.';\n",
              "        element.innerHTML = '';\n",
              "        dataTable['output_type'] = 'display_data';\n",
              "        await google.colab.output.renderOutput(dataTable, element);\n",
              "        const docLink = document.createElement('div');\n",
              "        docLink.innerHTML = docLinkHtml;\n",
              "        element.appendChild(docLink);\n",
              "      }\n",
              "    </script>\n",
              "  </div>\n",
              "\n",
              "\n",
              "<div id=\"df-b6555d8d-332e-4b9c-a736-5914e247cb64\">\n",
              "  <button class=\"colab-df-quickchart\" onclick=\"quickchart('df-b6555d8d-332e-4b9c-a736-5914e247cb64')\"\n",
              "            title=\"Suggest charts\"\n",
              "            style=\"display:none;\">\n",
              "\n",
              "<svg xmlns=\"http://www.w3.org/2000/svg\" height=\"24px\"viewBox=\"0 0 24 24\"\n",
              "     width=\"24px\">\n",
              "    <g>\n",
              "        <path d=\"M19 3H5c-1.1 0-2 .9-2 2v14c0 1.1.9 2 2 2h14c1.1 0 2-.9 2-2V5c0-1.1-.9-2-2-2zM9 17H7v-7h2v7zm4 0h-2V7h2v10zm4 0h-2v-4h2v4z\"/>\n",
              "    </g>\n",
              "</svg>\n",
              "  </button>\n",
              "\n",
              "<style>\n",
              "  .colab-df-quickchart {\n",
              "      --bg-color: #E8F0FE;\n",
              "      --fill-color: #1967D2;\n",
              "      --hover-bg-color: #E2EBFA;\n",
              "      --hover-fill-color: #174EA6;\n",
              "      --disabled-fill-color: #AAA;\n",
              "      --disabled-bg-color: #DDD;\n",
              "  }\n",
              "\n",
              "  [theme=dark] .colab-df-quickchart {\n",
              "      --bg-color: #3B4455;\n",
              "      --fill-color: #D2E3FC;\n",
              "      --hover-bg-color: #434B5C;\n",
              "      --hover-fill-color: #FFFFFF;\n",
              "      --disabled-bg-color: #3B4455;\n",
              "      --disabled-fill-color: #666;\n",
              "  }\n",
              "\n",
              "  .colab-df-quickchart {\n",
              "    background-color: var(--bg-color);\n",
              "    border: none;\n",
              "    border-radius: 50%;\n",
              "    cursor: pointer;\n",
              "    display: none;\n",
              "    fill: var(--fill-color);\n",
              "    height: 32px;\n",
              "    padding: 0;\n",
              "    width: 32px;\n",
              "  }\n",
              "\n",
              "  .colab-df-quickchart:hover {\n",
              "    background-color: var(--hover-bg-color);\n",
              "    box-shadow: 0 1px 2px rgba(60, 64, 67, 0.3), 0 1px 3px 1px rgba(60, 64, 67, 0.15);\n",
              "    fill: var(--button-hover-fill-color);\n",
              "  }\n",
              "\n",
              "  .colab-df-quickchart-complete:disabled,\n",
              "  .colab-df-quickchart-complete:disabled:hover {\n",
              "    background-color: var(--disabled-bg-color);\n",
              "    fill: var(--disabled-fill-color);\n",
              "    box-shadow: none;\n",
              "  }\n",
              "\n",
              "  .colab-df-spinner {\n",
              "    border: 2px solid var(--fill-color);\n",
              "    border-color: transparent;\n",
              "    border-bottom-color: var(--fill-color);\n",
              "    animation:\n",
              "      spin 1s steps(1) infinite;\n",
              "  }\n",
              "\n",
              "  @keyframes spin {\n",
              "    0% {\n",
              "      border-color: transparent;\n",
              "      border-bottom-color: var(--fill-color);\n",
              "      border-left-color: var(--fill-color);\n",
              "    }\n",
              "    20% {\n",
              "      border-color: transparent;\n",
              "      border-left-color: var(--fill-color);\n",
              "      border-top-color: var(--fill-color);\n",
              "    }\n",
              "    30% {\n",
              "      border-color: transparent;\n",
              "      border-left-color: var(--fill-color);\n",
              "      border-top-color: var(--fill-color);\n",
              "      border-right-color: var(--fill-color);\n",
              "    }\n",
              "    40% {\n",
              "      border-color: transparent;\n",
              "      border-right-color: var(--fill-color);\n",
              "      border-top-color: var(--fill-color);\n",
              "    }\n",
              "    60% {\n",
              "      border-color: transparent;\n",
              "      border-right-color: var(--fill-color);\n",
              "    }\n",
              "    80% {\n",
              "      border-color: transparent;\n",
              "      border-right-color: var(--fill-color);\n",
              "      border-bottom-color: var(--fill-color);\n",
              "    }\n",
              "    90% {\n",
              "      border-color: transparent;\n",
              "      border-bottom-color: var(--fill-color);\n",
              "    }\n",
              "  }\n",
              "</style>\n",
              "\n",
              "  <script>\n",
              "    async function quickchart(key) {\n",
              "      const quickchartButtonEl =\n",
              "        document.querySelector('#' + key + ' button');\n",
              "      quickchartButtonEl.disabled = true;  // To prevent multiple clicks.\n",
              "      quickchartButtonEl.classList.add('colab-df-spinner');\n",
              "      try {\n",
              "        const charts = await google.colab.kernel.invokeFunction(\n",
              "            'suggestCharts', [key], {});\n",
              "      } catch (error) {\n",
              "        console.error('Error during call to suggestCharts:', error);\n",
              "      }\n",
              "      quickchartButtonEl.classList.remove('colab-df-spinner');\n",
              "      quickchartButtonEl.classList.add('colab-df-quickchart-complete');\n",
              "    }\n",
              "    (() => {\n",
              "      let quickchartButtonEl =\n",
              "        document.querySelector('#df-b6555d8d-332e-4b9c-a736-5914e247cb64 button');\n",
              "      quickchartButtonEl.style.display =\n",
              "        google.colab.kernel.accessAllowed ? 'block' : 'none';\n",
              "    })();\n",
              "  </script>\n",
              "</div>\n",
              "\n",
              "    </div>\n",
              "  </div>\n"
            ],
            "application/vnd.google.colaboratory.intrinsic+json": {
              "type": "dataframe",
              "variable_name": "df",
              "summary": "{\n  \"name\": \"df\",\n  \"rows\": 15746,\n  \"fields\": [\n    {\n      \"column\": \"userName\",\n      \"properties\": {\n        \"dtype\": \"string\",\n        \"num_unique_values\": 9948,\n        \"samples\": [\n          \"Sally Simpson\",\n          \"TG4 Life\",\n          \"Jaiprakash Sewram\"\n        ],\n        \"semantic_type\": \"\",\n        \"description\": \"\"\n      }\n    },\n    {\n      \"column\": \"userImage\",\n      \"properties\": {\n        \"dtype\": \"string\",\n        \"num_unique_values\": 9988,\n        \"samples\": [\n          \"https://lh3.googleusercontent.com/-uufSaOkqD9k/AAAAAAAAAAI/AAAAAAAAAAA/AAKWJJNC55krY6x0eaEWBt5r2Ofr-foXRw/photo.jpg\",\n          \"https://lh3.googleusercontent.com/-hq1-CDV27p8/AAAAAAAAAAI/AAAAAAAAAAA/AAKWJJPXmkq0B9qRjjroWDy341BKcHN1Hw/photo.jpg\",\n          \"https://lh3.googleusercontent.com/-E-FbMKufng4/AAAAAAAAAAI/AAAAAAAAyOg/AAKWJJMqsESU6kEKukV4vXYXbisyRI-dIQ/photo.jpg\"\n        ],\n        \"semantic_type\": \"\",\n        \"description\": \"\"\n      }\n    },\n    {\n      \"column\": \"content\",\n      \"properties\": {\n        \"dtype\": \"string\",\n        \"num_unique_values\": 10130,\n        \"samples\": [\n          \"Its a good app but it stopped working on my phone and i have already paid the amount what to do ?\",\n          \"Too many crashes over the past few months, especially in the widget\",\n          \"Update on Oct 29: The new update with sections and the new UX design is a real drop of usability in my case. My day to day work force me to constantly change priority, project and other properties and with the new version, the natural language as been removed when editing a task. I will strongly consider not renewing my subscription because todoist was my workhorse because of that natural language. Original review : It's my day to day to do application to drive all my tasks.\"\n        ],\n        \"semantic_type\": \"\",\n        \"description\": \"\"\n      }\n    },\n    {\n      \"column\": \"score\",\n      \"properties\": {\n        \"dtype\": \"number\",\n        \"std\": 1,\n        \"min\": 1,\n        \"max\": 5,\n        \"num_unique_values\": 5,\n        \"samples\": [\n          2,\n          5,\n          3\n        ],\n        \"semantic_type\": \"\",\n        \"description\": \"\"\n      }\n    },\n    {\n      \"column\": \"thumbsUpCount\",\n      \"properties\": {\n        \"dtype\": \"number\",\n        \"std\": 17,\n        \"min\": 0,\n        \"max\": 448,\n        \"num_unique_values\": 147,\n        \"samples\": [\n          48,\n          41,\n          242\n        ],\n        \"semantic_type\": \"\",\n        \"description\": \"\"\n      }\n    },\n    {\n      \"column\": \"reviewCreatedVersion\",\n      \"properties\": {\n        \"dtype\": \"category\",\n        \"num_unique_values\": 431,\n        \"samples\": [\n          \"3.2.2\",\n          \"14.2.3\",\n          \"4.5\"\n        ],\n        \"semantic_type\": \"\",\n        \"description\": \"\"\n      }\n    },\n    {\n      \"column\": \"at\",\n      \"properties\": {\n        \"dtype\": \"object\",\n        \"num_unique_values\": 10497,\n        \"samples\": [\n          \"2019-01-20 13:57:44\",\n          \"2020-03-29 13:21:53\",\n          \"2019-11-27 14:24:28\"\n        ],\n        \"semantic_type\": \"\",\n        \"description\": \"\"\n      }\n    },\n    {\n      \"column\": \"replyContent\",\n      \"properties\": {\n        \"dtype\": \"category\",\n        \"num_unique_values\": 3926,\n        \"samples\": [\n          \"Hi Jose, really glad you're finding my app useful. Tasks is a hobby project of mine with all features and support offered for free without advertising. It has taken hundred of hours to write, improve and support and simply relies on donations and my spare time to move forward. What would help make my app a 5 star app for you? Thanks, Steve\",\n          \"Hello, this is the new sub-tasks behavior with the Foundations release, sub-tasks will now be removed from the view instead of staying there like before. Apologies for any inconvenience. We would recommend using recurring sub-tasks for your use case. Please feel free to contact us with your feedback/comments at support@todoist.com Thank you!\",\n          \"Hi, the function is not supported yet, but we are working on it.\"\n        ],\n        \"semantic_type\": \"\",\n        \"description\": \"\"\n      }\n    },\n    {\n      \"column\": \"repliedAt\",\n      \"properties\": {\n        \"dtype\": \"object\",\n        \"num_unique_values\": 4581,\n        \"samples\": [\n          \"2018-12-30 16:27:54\",\n          \"2019-10-31 14:40:11\",\n          \"2020-03-19 11:16:01\"\n        ],\n        \"semantic_type\": \"\",\n        \"description\": \"\"\n      }\n    },\n    {\n      \"column\": \"sortOrder\",\n      \"properties\": {\n        \"dtype\": \"category\",\n        \"num_unique_values\": 2,\n        \"samples\": [\n          \"newest\",\n          \"most_relevant\"\n        ],\n        \"semantic_type\": \"\",\n        \"description\": \"\"\n      }\n    },\n    {\n      \"column\": \"appId\",\n      \"properties\": {\n        \"dtype\": \"category\",\n        \"num_unique_values\": 15,\n        \"samples\": [\n          \"prox.lab.calclock\",\n          \"com.artfulagenda.app\"\n        ],\n        \"semantic_type\": \"\",\n        \"description\": \"\"\n      }\n    }\n  ]\n}"
            }
          },
          "metadata": {},
          "execution_count": 10
        }
      ]
    },
    {
      "cell_type": "code",
      "source": [
        "def to_sentiment(rating):\n",
        "  rating = int(rating)\n",
        "  if rating <= 2:\n",
        "    return 0\n",
        "  elif rating == 3:\n",
        "    return 1\n",
        "  else:\n",
        "    return 2\n",
        "\n",
        "df['sentiment'] = df.score.apply(to_sentiment)"
      ],
      "metadata": {
        "id": "3qZmeBCEjqeM"
      },
      "execution_count": 9,
      "outputs": []
    },
    {
      "cell_type": "code",
      "source": [
        "class_names = ['negative', 'neutral', 'positive']"
      ],
      "metadata": {
        "id": "l_EfaI9bjqgu"
      },
      "execution_count": 10,
      "outputs": []
    },
    {
      "cell_type": "code",
      "source": [
        "ax = sns.countplot(x=df.sentiment)\n",
        "plt.xlabel('review sentiment')\n",
        "ax.set_xticklabels(class_names);"
      ],
      "metadata": {
        "colab": {
          "base_uri": "https://localhost:8080/",
          "height": 592
        },
        "id": "jZrx2Ov5jqjJ",
        "outputId": "a9d5fd6c-5645-4d72-cc20-e70250aad59b"
      },
      "execution_count": 13,
      "outputs": [
        {
          "output_type": "stream",
          "name": "stderr",
          "text": [
            "<ipython-input-13-c8622670199a>:3: UserWarning: set_ticklabels() should only be used with a fixed number of ticks, i.e. after set_ticks() or using a FixedLocator.\n",
            "  ax.set_xticklabels(class_names);\n"
          ]
        },
        {
          "output_type": "display_data",
          "data": {
            "text/plain": [
              "<Figure size 800x600 with 1 Axes>"
            ],
            "image/png": "[encoded data removed]"
          },
          "metadata": {
            "image/png": {
              "width": 725,
              "height": 539
            }
          }
        }
      ]
    },
    {
      "cell_type": "code",
      "source": [
        "PRE_TRAINED_MODEL_NAME = 'bert-base-multilingual-cased'  # выбрала эту"
      ],
      "metadata": {
        "id": "qRw2oyEKjqvD"
      },
      "execution_count": 11,
      "outputs": []
    },
    {
      "cell_type": "markdown",
      "source": [
        "### сначала просто запустила то, что было на семинаре"
      ],
      "metadata": {
        "id": "h0-fsnbzgnl5"
      }
    },
    {
      "cell_type": "code",
      "source": [
        "tokenizer = BertTokenizer.from_pretrained(PRE_TRAINED_MODEL_NAME)"
      ],
      "metadata": {
        "colab": {
          "base_uri": "https://localhost:8080/",
          "height": 254,
          "referenced_widgets": [
            "30ad354a3537425dad71aa209093344a",
            "e09aec5693324de38dea52671806ad61",
            "bd2b9339161c4f9ea4e6171fa62916fb",
            "6bdd86d965f84a9985bd6f6e40bc4de1",
            "8865bbc1fe2d4391ad14dfc991c0cdbc",
            "c681ffbcad0142f0b514f2aba7dd4ce0",
            "71c1feda7df04557960dae2f8074b045",
            "2d64594054294969a177848262423b77",
            "1b1066519f2e48e69ffe0bf00778bbbf",
            "da46135e76a046bd8b5863356c02947d",
            "495b36a22ce34bb78b5c572586da38f6",
            "0c26bd8ee24e4d029c540d0970ea8c16",
            "4c397c5def284193b94db84987a320c6",
            "74a85f168f354e2a81b382ee04c21ccf",
            "10ffc2f24d094045914911a5bc49ecdd",
            "31c257d049a14640b78a80c10ddcd134",
            "fb261b98f92e46ee9409299a9c5f9468",
            "7ab386d498ed4c72a1efe414ae67e0ad",
            "571828509d734a759d7e55bcb5e70a20",
            "3d8960dbc5a44c4997e38e032695cd8e",
            "54da9441eb434880a0adfd18eec6e83a",
            "12ed9ddc75eb47d1bec5cab34d3cb49b",
            "bc35c17b9e31414a8c5f640aedcf0af5",
            "d672c4f20e8a437b8a5c658dd1228a0f",
            "121acfad880941f4ae303a99ba6e3da8",
            "181a28c4fbb6454bb838ccde6a08d56d",
            "5485c94d72ec40fdb762d89b0f77a4fa",
            "9ca16c4c43d142e6b405f2a5d9997046",
            "4f2ce0b1e5984cf1ade76c15146bb54b",
            "701d7bb6526840f286dab8bfc534596f",
            "6a9f0ce3e16a47baa37bfacc3d1013ef",
            "35be746ddcb3486fa5a0029d90d7a7dd",
            "7e5a54c13bf74f1ca7819e4f67090029",
            "6c31cd812a0640f298c59eca8732ea5d",
            "14f47af6dc964fc59ece7b1b3315cb33",
            "38e956540ab346d49b9c821fdb9e07fb",
            "fd7b0b35923945b1ae7107b1e794152f",
            "b5f12a62f78b4b719cfc17b17fe681b5",
            "427cf3293706480bb0c9afed2ece0e1b",
            "2aac8c49a5ba438b96b423d987e9d447",
            "cdd4efd67f5547ab9ed40d03e7271409",
            "2f09a765a5a04665b8352d804d855a93",
            "0b14b95cb19d48e3b1171f7118d4e69f",
            "92167e42a0304509a7874dd41d634ce4"
          ]
        },
        "id": "TOXHCIw4mYfh",
        "outputId": "2b8ef048-931f-495a-c300-08d6b0133b43"
      },
      "execution_count": 12,
      "outputs": [
        {
          "output_type": "stream",
          "name": "stderr",
          "text": [
            "/usr/local/lib/python3.10/dist-packages/huggingface_hub/utils/_auth.py:94: UserWarning: \n",
            "The secret `HF_TOKEN` does not exist in your Colab secrets.\n",
            "To authenticate with the Hugging Face Hub, create a token in your settings tab (https://huggingface.co/settings/tokens), set it as secret in your Google Colab and restart your session.\n",
            "You will be able to reuse this secret in all of your notebooks.\n",
            "Please note that authentication is recommended but still optional to access public models or datasets.\n",
            "  warnings.warn(\n"
          ]
        },
        {
          "output_type": "display_data",
          "data": {
            "text/plain": [
              "tokenizer_config.json:   0%|          | 0.00/49.0 [00:00<?, ?B/s]"
            ],
            "application/vnd.jupyter.widget-view+json": {
              "version_major": 2,
              "version_minor": 0,
              "model_id": "30ad354a3537425dad71aa209093344a"
            }
          },
          "metadata": {}
        },
        {
          "output_type": "display_data",
          "data": {
            "text/plain": [
              "vocab.txt:   0%|          | 0.00/996k [00:00<?, ?B/s]"
            ],
            "application/vnd.jupyter.widget-view+json": {
              "version_major": 2,
              "version_minor": 0,
              "model_id": "0c26bd8ee24e4d029c540d0970ea8c16"
            }
          },
          "metadata": {}
        },
        {
          "output_type": "display_data",
          "data": {
            "text/plain": [
              "tokenizer.json:   0%|          | 0.00/1.96M [00:00<?, ?B/s]"
            ],
            "application/vnd.jupyter.widget-view+json": {
              "version_major": 2,
              "version_minor": 0,
              "model_id": "bc35c17b9e31414a8c5f640aedcf0af5"
            }
          },
          "metadata": {}
        },
        {
          "output_type": "display_data",
          "data": {
            "text/plain": [
              "config.json:   0%|          | 0.00/625 [00:00<?, ?B/s]"
            ],
            "application/vnd.jupyter.widget-view+json": {
              "version_major": 2,
              "version_minor": 0,
              "model_id": "6c31cd812a0640f298c59eca8732ea5d"
            }
          },
          "metadata": {}
        }
      ]
    },
    {
      "cell_type": "code",
      "source": [
        "sample_txt = 'this Text is the text For for TESTING!!'\n",
        "tokens = tokenizer.tokenize(sample_txt)\n",
        "token_ids = tokenizer.convert_tokens_to_ids(tokens)\n",
        "\n",
        "print(f' Sentence: {sample_txt}')\n",
        "print(f'   Tokens: {tokens}')\n",
        "print(f'Token IDs: {token_ids}')"
      ],
      "metadata": {
        "colab": {
          "base_uri": "https://localhost:8080/"
        },
        "id": "ctcJhpCzmYnX",
        "outputId": "e3e4aa9c-f869-4981-e711-fef1557a52f9"
      },
      "execution_count": 13,
      "outputs": [
        {
          "output_type": "stream",
          "name": "stdout",
          "text": [
            " Sentence: this Text is the text For for TESTING!!\n",
            "   Tokens: ['this', 'Text', 'is', 'the', 'text', 'For', 'for', 'T', '##ES', '##TI', '##NG', '!', '!']\n",
            "Token IDs: [10531, 23701, 10124, 10105, 15541, 11399, 10142, 157, 25054, 72286, 34065, 106, 106]\n"
          ]
        }
      ]
    },
    {
      "cell_type": "code",
      "source": [
        "encoding = tokenizer.encode_plus(\n",
        "  sample_txt,\n",
        "  max_length=32,\n",
        "  add_special_tokens=True, # Добавить '[CLS]' и '[SEP]'\n",
        "  return_token_type_ids=False,\n",
        "  padding='max_length',\n",
        "  return_attention_mask=True,\n",
        "  return_tensors='pt',  # Вернуть тензор PyTorch\n",
        "  truncation=True\n",
        ")\n",
        "\n",
        "encoding.keys()"
      ],
      "metadata": {
        "colab": {
          "base_uri": "https://localhost:8080/"
        },
        "id": "8_tOzxlCmYtV",
        "outputId": "206221c1-1ae5-4bc0-9622-06df25c57323"
      },
      "execution_count": 14,
      "outputs": [
        {
          "output_type": "execute_result",
          "data": {
            "text/plain": [
              "dict_keys(['input_ids', 'attention_mask'])"
            ]
          },
          "metadata": {},
          "execution_count": 14
        }
      ]
    },
    {
      "cell_type": "code",
      "source": [
        "MAX_LEN = 160"
      ],
      "metadata": {
        "id": "e8RqgSfumYv1"
      },
      "execution_count": 15,
      "outputs": []
    },
    {
      "cell_type": "code",
      "source": [
        "class GPReviewDataset(Dataset):\n",
        "\n",
        "  def __init__(self, reviews, targets, tokenizer, max_len):\n",
        "    self.reviews = reviews\n",
        "    self.targets = targets\n",
        "    self.tokenizer = tokenizer\n",
        "    self.max_len = max_len\n",
        "\n",
        "  def __len__(self):\n",
        "    return len(self.reviews)\n",
        "\n",
        "  def __getitem__(self, item):\n",
        "    review = str(self.reviews[item])\n",
        "    target = self.targets[item]\n",
        "\n",
        "    encoding = self.tokenizer.encode_plus( # возвращаем энкодинг\n",
        "      review,\n",
        "      add_special_tokens=True,\n",
        "      max_length=self.max_len,\n",
        "      return_token_type_ids=False,\n",
        "      padding='max_length',\n",
        "      return_attention_mask=True,\n",
        "      return_tensors='pt',\n",
        "      truncation=True\n",
        "    )\n",
        "\n",
        "    return {\n",
        "      'review_text': review,\n",
        "      'input_ids': encoding['input_ids'].flatten(),\n",
        "      'attention_mask': encoding['attention_mask'].flatten(),\n",
        "      'labels': torch.tensor(target, dtype=torch.long)\n",
        "    }"
      ],
      "metadata": {
        "id": "xTGehHynnWRR"
      },
      "execution_count": 35,
      "outputs": []
    },
    {
      "cell_type": "code",
      "source": [
        "RANDOM_SEED = 42\n",
        "np.random.seed(RANDOM_SEED)\n",
        "torch.manual_seed(RANDOM_SEED)\n",
        "device = torch.device(\"cuda:0\" if torch.cuda.is_available() else \"cpu\")"
      ],
      "metadata": {
        "id": "9TbIlEw5nWfS"
      },
      "execution_count": 36,
      "outputs": []
    },
    {
      "cell_type": "code",
      "source": [
        "device"
      ],
      "metadata": {
        "colab": {
          "base_uri": "https://localhost:8080/"
        },
        "id": "fRCOeaBSnWhZ",
        "outputId": "ff9842da-a00e-476f-80d6-053ba20f415c"
      },
      "execution_count": 18,
      "outputs": [
        {
          "output_type": "execute_result",
          "data": {
            "text/plain": [
              "device(type='cuda', index=0)"
            ]
          },
          "metadata": {},
          "execution_count": 18
        }
      ]
    },
    {
      "cell_type": "code",
      "source": [
        "df_train, df_test = train_test_split(df, test_size=0.1, random_state=RANDOM_SEED)\n",
        "df_val, df_test = train_test_split(df_test, test_size=0.5, random_state=RANDOM_SEED)"
      ],
      "metadata": {
        "id": "6w_UKzALnWj_"
      },
      "execution_count": 19,
      "outputs": []
    },
    {
      "cell_type": "code",
      "source": [
        "df_train.shape, df_val.shape, df_test.shape"
      ],
      "metadata": {
        "colab": {
          "base_uri": "https://localhost:8080/"
        },
        "id": "gOL_FsKSnWmX",
        "outputId": "7444204a-9480-4453-ae45-6a88d2a49e83"
      },
      "execution_count": 23,
      "outputs": [
        {
          "output_type": "execute_result",
          "data": {
            "text/plain": [
              "((14171, 12), (787, 12), (788, 12))"
            ]
          },
          "metadata": {},
          "execution_count": 23
        }
      ]
    },
    {
      "cell_type": "code",
      "source": [
        "import warnings\n",
        "warnings.filterwarnings('ignore')"
      ],
      "metadata": {
        "id": "tBeNIOYXnWpY"
      },
      "execution_count": 20,
      "outputs": []
    },
    {
      "cell_type": "code",
      "source": [
        "def create_data_loader(df, tokenizer, max_len, batch_size):\n",
        "  ds = GPReviewDataset(\n",
        "    reviews=df.content.to_numpy(),\n",
        "    targets=df.sentiment.to_numpy(),\n",
        "    tokenizer=tokenizer,\n",
        "    max_len=max_len\n",
        "  )\n",
        "\n",
        "  return DataLoader(\n",
        "    ds,\n",
        "    batch_size=batch_size,\n",
        "    num_workers=1 # если windows лучше вроде не указывать больше 1\n",
        "  )"
      ],
      "metadata": {
        "id": "7h4unVqDnnc7"
      },
      "execution_count": 21,
      "outputs": []
    },
    {
      "cell_type": "code",
      "source": [
        "BATCH_SIZE = 16\n",
        "\n",
        "train_data_loader = create_data_loader(df_train, tokenizer, MAX_LEN, BATCH_SIZE)\n",
        "val_data_loader = create_data_loader(df_val, tokenizer, MAX_LEN, BATCH_SIZE)\n",
        "test_data_loader = create_data_loader(df_test, tokenizer, MAX_LEN, BATCH_SIZE)"
      ],
      "metadata": {
        "id": "lWO8A-uUnnhC"
      },
      "execution_count": 37,
      "outputs": []
    },
    {
      "cell_type": "markdown",
      "source": [
        "модель"
      ],
      "metadata": {
        "id": "oRIUbr9Dn7iD"
      }
    },
    {
      "cell_type": "code",
      "source": [
        "bert_model = BertModel.from_pretrained(PRE_TRAINED_MODEL_NAME)"
      ],
      "metadata": {
        "colab": {
          "base_uri": "https://localhost:8080/",
          "height": 49,
          "referenced_widgets": [
            "bb19a9e0aa114f92b7fa498d73149c92",
            "6394c35e700042b59bd0c495028f464b",
            "1b57341736fc48b79d9736020afe2339",
            "a424fb464ca342b3af679f40526222fb",
            "4eda8c0eacdd45f68a02e53cc6770579",
            "aed2b5676f7c42ec8599059bfaa0aae2",
            "3d9c47c27a8b4b7e868adfff6cf22f12",
            "f8df6b67e78240d38c2d2175b1add99b",
            "29cbd865af0f44cdb4ee73b8a7194d6b",
            "6e2e72218fbd449cae3ee361389faffa",
            "84d22030c4bd485594e4e90607f6c284"
          ]
        },
        "id": "HItFu_BHnnjp",
        "outputId": "41cbcb23-fc3c-4fc8-be99-cb061c5a726a"
      },
      "execution_count": 27,
      "outputs": [
        {
          "output_type": "display_data",
          "data": {
            "text/plain": [
              "model.safetensors:   0%|          | 0.00/714M [00:00<?, ?B/s]"
            ],
            "application/vnd.jupyter.widget-view+json": {
              "version_major": 2,
              "version_minor": 0,
              "model_id": "bb19a9e0aa114f92b7fa498d73149c92"
            }
          },
          "metadata": {}
        }
      ]
    },
    {
      "cell_type": "code",
      "source": [
        "bert_model"
      ],
      "metadata": {
        "colab": {
          "base_uri": "https://localhost:8080/"
        },
        "id": "yytnVMdnnnmn",
        "outputId": "82d66447-f6bb-426f-906e-2fc216a92728"
      },
      "execution_count": 28,
      "outputs": [
        {
          "output_type": "execute_result",
          "data": {
            "text/plain": [
              "BertModel(\n",
              "  (embeddings): BertEmbeddings(\n",
              "    (word_embeddings): Embedding(119547, 768, padding_idx=0)\n",
              "    (position_embeddings): Embedding(512, 768)\n",
              "    (token_type_embeddings): Embedding(2, 768)\n",
              "    (LayerNorm): LayerNorm((768,), eps=1e-12, elementwise_affine=True)\n",
              "    (dropout): Dropout(p=0.1, inplace=False)\n",
              "  )\n",
              "  (encoder): BertEncoder(\n",
              "    (layer): ModuleList(\n",
              "      (0-11): 12 x BertLayer(\n",
              "        (attention): BertAttention(\n",
              "          (self): BertSdpaSelfAttention(\n",
              "            (query): Linear(in_features=768, out_features=768, bias=True)\n",
              "            (key): Linear(in_features=768, out_features=768, bias=True)\n",
              "            (value): Linear(in_features=768, out_features=768, bias=True)\n",
              "            (dropout): Dropout(p=0.1, inplace=False)\n",
              "          )\n",
              "          (output): BertSelfOutput(\n",
              "            (dense): Linear(in_features=768, out_features=768, bias=True)\n",
              "            (LayerNorm): LayerNorm((768,), eps=1e-12, elementwise_affine=True)\n",
              "            (dropout): Dropout(p=0.1, inplace=False)\n",
              "          )\n",
              "        )\n",
              "        (intermediate): BertIntermediate(\n",
              "          (dense): Linear(in_features=768, out_features=3072, bias=True)\n",
              "          (intermediate_act_fn): GELUActivation()\n",
              "        )\n",
              "        (output): BertOutput(\n",
              "          (dense): Linear(in_features=3072, out_features=768, bias=True)\n",
              "          (LayerNorm): LayerNorm((768,), eps=1e-12, elementwise_affine=True)\n",
              "          (dropout): Dropout(p=0.1, inplace=False)\n",
              "        )\n",
              "      )\n",
              "    )\n",
              "  )\n",
              "  (pooler): BertPooler(\n",
              "    (dense): Linear(in_features=768, out_features=768, bias=True)\n",
              "    (activation): Tanh()\n",
              "  )\n",
              ")"
            ]
          },
          "metadata": {},
          "execution_count": 28
        }
      ]
    },
    {
      "cell_type": "code",
      "source": [
        "class SentimentClassifier(nn.Module):\n",
        "\n",
        "  def __init__(self, n_classes):\n",
        "    super().__init__()\n",
        "    self.bert = BertModel.from_pretrained(PRE_TRAINED_MODEL_NAME)\n",
        "    self.drop = nn.Dropout(p=0.3)\n",
        "    self.out = nn.Linear(self.bert.config.hidden_size, n_classes) # в конфиге скрытый размер\n",
        "\n",
        "  def forward(self, input_ids, attention_mask):\n",
        "    _, pooled_output = self.bert( # _ для того, чтобы указать что не нужны эмбеддинги конкретных слов\n",
        "      input_ids=input_ids,\n",
        "      attention_mask=attention_mask,\n",
        "      return_dict=False)\n",
        "    output = self.drop(pooled_output)\n",
        "    return self.out(output)"
      ],
      "metadata": {
        "id": "zQeBbU4ennoj"
      },
      "execution_count": 29,
      "outputs": []
    },
    {
      "cell_type": "code",
      "source": [
        "model = SentimentClassifier(len(class_names))\n",
        "model = model.to(device)"
      ],
      "metadata": {
        "id": "yWfXnu-voBFH"
      },
      "execution_count": 30,
      "outputs": []
    },
    {
      "cell_type": "code",
      "source": [
        "model"
      ],
      "metadata": {
        "colab": {
          "base_uri": "https://localhost:8080/"
        },
        "id": "YveaMko3oBIe",
        "outputId": "ee5e681a-a917-45ee-8ed7-d184b5c3f945"
      },
      "execution_count": 31,
      "outputs": [
        {
          "output_type": "execute_result",
          "data": {
            "text/plain": [
              "SentimentClassifier(\n",
              "  (bert): BertModel(\n",
              "    (embeddings): BertEmbeddings(\n",
              "      (word_embeddings): Embedding(119547, 768, padding_idx=0)\n",
              "      (position_embeddings): Embedding(512, 768)\n",
              "      (token_type_embeddings): Embedding(2, 768)\n",
              "      (LayerNorm): LayerNorm((768,), eps=1e-12, elementwise_affine=True)\n",
              "      (dropout): Dropout(p=0.1, inplace=False)\n",
              "    )\n",
              "    (encoder): BertEncoder(\n",
              "      (layer): ModuleList(\n",
              "        (0-11): 12 x BertLayer(\n",
              "          (attention): BertAttention(\n",
              "            (self): BertSdpaSelfAttention(\n",
              "              (query): Linear(in_features=768, out_features=768, bias=True)\n",
              "              (key): Linear(in_features=768, out_features=768, bias=True)\n",
              "              (value): Linear(in_features=768, out_features=768, bias=True)\n",
              "              (dropout): Dropout(p=0.1, inplace=False)\n",
              "            )\n",
              "            (output): BertSelfOutput(\n",
              "              (dense): Linear(in_features=768, out_features=768, bias=True)\n",
              "              (LayerNorm): LayerNorm((768,), eps=1e-12, elementwise_affine=True)\n",
              "              (dropout): Dropout(p=0.1, inplace=False)\n",
              "            )\n",
              "          )\n",
              "          (intermediate): BertIntermediate(\n",
              "            (dense): Linear(in_features=768, out_features=3072, bias=True)\n",
              "            (intermediate_act_fn): GELUActivation()\n",
              "          )\n",
              "          (output): BertOutput(\n",
              "            (dense): Linear(in_features=3072, out_features=768, bias=True)\n",
              "            (LayerNorm): LayerNorm((768,), eps=1e-12, elementwise_affine=True)\n",
              "            (dropout): Dropout(p=0.1, inplace=False)\n",
              "          )\n",
              "        )\n",
              "      )\n",
              "    )\n",
              "    (pooler): BertPooler(\n",
              "      (dense): Linear(in_features=768, out_features=768, bias=True)\n",
              "      (activation): Tanh()\n",
              "    )\n",
              "  )\n",
              "  (drop): Dropout(p=0.3, inplace=False)\n",
              "  (out): Linear(in_features=768, out_features=3, bias=True)\n",
              ")"
            ]
          },
          "metadata": {},
          "execution_count": 31
        }
      ]
    },
    {
      "cell_type": "code",
      "source": [
        "#как заморозить отдельные слои\n",
        "freeze_layers = list(range(5))\n",
        "for layer_id in freeze_layers:\n",
        "  for param in list(model.bert.encoder.layer[layer_id].parameters()):\n",
        "    param.requires_grad = False"
      ],
      "metadata": {
        "id": "rQoLRB5foBLF"
      },
      "execution_count": 32,
      "outputs": []
    },
    {
      "cell_type": "code",
      "source": [
        "list(model.bert.encoder.layer[3].parameters())[0]"
      ],
      "metadata": {
        "colab": {
          "base_uri": "https://localhost:8080/"
        },
        "id": "71P9SdNyovup",
        "outputId": "a01a20dc-5f3e-40b5-a038-31948dd7b27b"
      },
      "execution_count": 33,
      "outputs": [
        {
          "output_type": "execute_result",
          "data": {
            "text/plain": [
              "Parameter containing:\n",
              "tensor([[ 0.0430, -0.0745, -0.0508,  ...,  0.0054,  0.0206, -0.0270],\n",
              "        [-0.1651, -0.0817, -0.0393,  ...,  0.0354,  0.0464, -0.0094],\n",
              "        [ 0.0440, -0.0177, -0.0475,  ...,  0.0024,  0.0828, -0.0004],\n",
              "        ...,\n",
              "        [-0.0119,  0.1138,  0.0079,  ...,  0.0154,  0.0414, -0.0708],\n",
              "        [-0.0701, -0.0275,  0.0516,  ..., -0.0305, -0.0311, -0.0225],\n",
              "        [-0.0286, -0.0165,  0.0302,  ...,  0.0207,  0.0304,  0.0421]],\n",
              "       device='cuda:0')"
            ]
          },
          "metadata": {},
          "execution_count": 33
        }
      ]
    },
    {
      "cell_type": "code",
      "source": [
        "EPOCHS = 2\n",
        "\n",
        "#optimizer = AdamW(model.parameters(), lr=2e-5, correct_bias=False)\n",
        "optimizer = AdamW(filter(lambda p: p.requires_grad, model.parameters()), lr=2e-5, correct_bias=False)\n",
        "total_steps = len(train_data_loader) * EPOCHS\n",
        "\n",
        "scheduler = get_linear_schedule_with_warmup(\n",
        "  optimizer,\n",
        "  num_warmup_steps=0,\n",
        "  num_training_steps=total_steps\n",
        ")\n",
        "\n",
        "loss_fn = nn.CrossEntropyLoss().to(device)"
      ],
      "metadata": {
        "id": "Pa0syStEov2c"
      },
      "execution_count": 34,
      "outputs": []
    },
    {
      "cell_type": "code",
      "source": [
        "def train_epoch(\n",
        "  model,\n",
        "  data_loader,\n",
        "  loss_fn,\n",
        "  optimizer,\n",
        "  device,\n",
        "  scheduler,\n",
        "  n_examples\n",
        "):\n",
        "  model = model.train()\n",
        "\n",
        "  losses = []\n",
        "  correct_predictions = 0\n",
        "\n",
        "  for d in data_loader:\n",
        "    input_ids = d[\"input_ids\"].to(device)\n",
        "    attention_mask = d[\"attention_mask\"].to(device)\n",
        "    targets = d[\"targets\"].to(device)\n",
        "\n",
        "    outputs = model(\n",
        "      input_ids=input_ids,\n",
        "      attention_mask=attention_mask\n",
        "    )\n",
        "\n",
        "    preds = torch.argmax(outputs, dim=1)\n",
        "    loss = loss_fn(outputs, targets)\n",
        "\n",
        "    correct_predictions += torch.sum(preds == targets)\n",
        "    losses.append(loss.item())\n",
        "\n",
        "    loss.backward()\n",
        "    optimizer.step()\n",
        "    scheduler.step()\n",
        "    optimizer.zero_grad()\n",
        "\n",
        "  return correct_predictions / n_examples, np.mean(losses)"
      ],
      "metadata": {
        "id": "ONSCnqFGov9e"
      },
      "execution_count": 35,
      "outputs": []
    },
    {
      "cell_type": "code",
      "source": [
        "def eval_model(model, data_loader, loss_fn, device, n_examples):\n",
        "  model = model.eval()\n",
        "\n",
        "  losses = []\n",
        "  correct_predictions = 0\n",
        "\n",
        "  with torch.no_grad():\n",
        "    for d in data_loader:\n",
        "      input_ids = d[\"input_ids\"].to(device)\n",
        "      attention_mask = d[\"attention_mask\"].to(device)\n",
        "      targets = d[\"targets\"].to(device)\n",
        "\n",
        "      outputs = model(\n",
        "        input_ids=input_ids,\n",
        "        attention_mask=attention_mask\n",
        "      )\n",
        "      preds = torch.argmax(outputs, dim=1)\n",
        "\n",
        "      loss = loss_fn(outputs, targets)\n",
        "\n",
        "      correct_predictions += torch.sum(preds == targets)\n",
        "      losses.append(loss.item())\n",
        "\n",
        "  return correct_predictions / n_examples, np.mean(losses)"
      ],
      "metadata": {
        "id": "b-1DarW7owFR"
      },
      "execution_count": 36,
      "outputs": []
    },
    {
      "cell_type": "code",
      "source": [
        "history = defaultdict(list)\n",
        "best_accuracy = 0\n",
        "\n",
        "for epoch in range(EPOCHS):\n",
        "\n",
        "  print(f'Epoch {epoch + 1}/{EPOCHS}')\n",
        "  print('-' * 10)\n",
        "\n",
        "  train_acc, train_loss = train_epoch(\n",
        "    model,\n",
        "    train_data_loader,\n",
        "    loss_fn,\n",
        "    optimizer,\n",
        "    device,\n",
        "    scheduler,\n",
        "    len(df_train)\n",
        "  )\n",
        "\n",
        "  print(f'Train loss {train_loss} accuracy {train_acc}')\n",
        "\n",
        "  val_acc, val_loss = eval_model(\n",
        "    model,\n",
        "    val_data_loader,\n",
        "    loss_fn,\n",
        "    device,\n",
        "    len(df_val)\n",
        "  )\n",
        "\n",
        "  print(f'Val loss {val_loss} accuracy {val_acc}')\n",
        "  print()\n",
        "\n",
        "  history['train_acc'].append(train_acc)\n",
        "  history['train_loss'].append(train_loss)\n",
        "  history['val_acc'].append(val_acc)\n",
        "  history['val_loss'].append(val_loss)\n",
        "\n",
        "  if val_acc > best_accuracy:\n",
        "    torch.save(model.state_dict(), 'best_model_state.bin')\n",
        "    best_accuracy = val_acc"
      ],
      "metadata": {
        "colab": {
          "base_uri": "https://localhost:8080/"
        },
        "id": "OTzrZSnbo9XA",
        "outputId": "6b1bbda2-91d2-4c86-a995-031f20313f33"
      },
      "execution_count": 37,
      "outputs": [
        {
          "output_type": "stream",
          "name": "stdout",
          "text": [
            "Epoch 1/2\n",
            "----------\n",
            "Train loss 0.8682816225707396 accuracy 0.5750476717948914\n",
            "Val loss 0.7402377873659134 accuracy 0.6747140884399414\n",
            "\n",
            "Epoch 2/2\n",
            "----------\n",
            "Train loss 0.6950690591241113 accuracy 0.6911298036575317\n",
            "Val loss 0.6858878266811371 accuracy 0.6886911988258362\n",
            "\n"
          ]
        }
      ]
    },
    {
      "cell_type": "code",
      "source": [
        "history['train_acc'] = [score.to('cpu') for score in  history['train_acc']]\n",
        "history['val_acc'] = [score.to('cpu') for score in  history['val_acc']]"
      ],
      "metadata": {
        "id": "UblAuE_vo9gI"
      },
      "execution_count": 38,
      "outputs": []
    },
    {
      "cell_type": "code",
      "source": [
        "plt.plot(history['train_acc'], label='train accuracy')\n",
        "plt.plot(history['val_acc'], label='validation accuracy')\n",
        "\n",
        "plt.title('Training history')\n",
        "plt.ylabel('Accuracy')\n",
        "plt.xlabel('Epoch')\n",
        "plt.legend()\n",
        "plt.ylim([0, 1]);"
      ],
      "metadata": {
        "colab": {
          "base_uri": "https://localhost:8080/",
          "height": 580
        },
        "id": "04cjzTbxo9iu",
        "outputId": "a7b99e34-207a-4975-a866-fdf5a9235b8c"
      },
      "execution_count": 39,
      "outputs": [
        {
          "output_type": "display_data",
          "data": {
            "text/plain": [
              "<Figure size 800x600 with 1 Axes>"
            ],
            "image/png": "[encoded data removed]"
          },
          "metadata": {
            "image/png": {
              "width": 707,
              "height": 563
            }
          }
        }
      ]
    },
    {
      "cell_type": "code",
      "source": [
        "test_acc, _ = eval_model(\n",
        "  model,\n",
        "  test_data_loader,\n",
        "  loss_fn,\n",
        "  device,\n",
        "  len(df_test)\n",
        ")\n",
        "\n",
        "test_acc.item()"
      ],
      "metadata": {
        "colab": {
          "base_uri": "https://localhost:8080/"
        },
        "id": "ZzYbXfYgo9lV",
        "outputId": "a28f6abd-a5e4-44e0-f1ca-c86c5f6ff97d"
      },
      "execution_count": 40,
      "outputs": [
        {
          "output_type": "execute_result",
          "data": {
            "text/plain": [
              "0.6776649355888367"
            ]
          },
          "metadata": {},
          "execution_count": 40
        }
      ]
    },
    {
      "cell_type": "code",
      "source": [
        "def get_predictions(model, data_loader):\n",
        "  model = model.eval()\n",
        "\n",
        "  review_texts = []\n",
        "  predictions = []\n",
        "  prediction_probs = []\n",
        "  real_values = []\n",
        "\n",
        "  with torch.no_grad():\n",
        "    for d in data_loader:\n",
        "\n",
        "      texts = d[\"review_text\"]\n",
        "      input_ids = d[\"input_ids\"].to(device)\n",
        "      attention_mask = d[\"attention_mask\"].to(device)\n",
        "      targets = d[\"targets\"].to(device)\n",
        "\n",
        "      outputs = model(\n",
        "        input_ids=input_ids,\n",
        "        attention_mask=attention_mask\n",
        "      )\n",
        "      preds = torch.argmax(outputs, dim=1)\n",
        "\n",
        "      probs = F.softmax(outputs, dim=1)\n",
        "\n",
        "      review_texts.extend(texts)\n",
        "      predictions.extend(preds)\n",
        "      prediction_probs.extend(probs)\n",
        "      real_values.extend(targets)\n",
        "\n",
        "  predictions = torch.stack(predictions).cpu()\n",
        "  prediction_probs = torch.stack(prediction_probs).cpu()\n",
        "  real_values = torch.stack(real_values).cpu()\n",
        "  return review_texts, predictions, prediction_probs, real_values"
      ],
      "metadata": {
        "id": "jf3vDYF-o9r6"
      },
      "execution_count": 41,
      "outputs": []
    },
    {
      "cell_type": "code",
      "source": [
        "y_review_texts, y_pred, y_pred_probs, y_test = get_predictions(model, test_data_loader)"
      ],
      "metadata": {
        "id": "-ntKTfQspr8D"
      },
      "execution_count": 42,
      "outputs": []
    },
    {
      "cell_type": "code",
      "source": [
        "print(classification_report(y_test, y_pred, target_names=class_names))"
      ],
      "metadata": {
        "colab": {
          "base_uri": "https://localhost:8080/"
        },
        "id": "WTxcYyI9pu-u",
        "outputId": "6bfe4626-e1cd-45e9-d211-5425458ac172"
      },
      "execution_count": 43,
      "outputs": [
        {
          "output_type": "stream",
          "name": "stdout",
          "text": [
            "              precision    recall  f1-score   support\n",
            "\n",
            "    negative       0.68      0.69      0.69       245\n",
            "     neutral       0.54      0.52      0.53       254\n",
            "    positive       0.78      0.81      0.80       289\n",
            "\n",
            "    accuracy                           0.68       788\n",
            "   macro avg       0.67      0.67      0.67       788\n",
            "weighted avg       0.67      0.68      0.68       788\n",
            "\n"
          ]
        }
      ]
    },
    {
      "cell_type": "markdown",
      "source": [
        "### а здесь по пунктам задания"
      ],
      "metadata": {
        "id": "8IKPR_cug5xu"
      }
    },
    {
      "cell_type": "markdown",
      "source": [
        "## 3) примените к данным готовую модель для классификации последовательности (типа  BertForSequenceClassification)"
      ],
      "metadata": {
        "id": "JN4sRzbvp4BX"
      }
    },
    {
      "cell_type": "code",
      "source": [
        "from sklearn.metrics import precision_recall_fscore_support, accuracy_score\n",
        "\n",
        "def compute_metrics(pred):\n",
        "    labels = pred.label_ids\n",
        "    preds = pred.predictions.argmax(-1)\n",
        "    precision, recall, f1, _ = precision_recall_fscore_support(labels, preds, average='weighted') # потому что multiclass\n",
        "    acc = accuracy_score(labels, preds)\n",
        "    return {\n",
        "        'accuracy': acc,\n",
        "        'f1': f1,\n",
        "        'precision': precision,\n",
        "        'recall': recall\n",
        "    }"
      ],
      "metadata": {
        "id": "hSPQ_8sKwRSH"
      },
      "execution_count": 43,
      "outputs": []
    },
    {
      "cell_type": "code",
      "source": [
        "from transformers import Trainer, TrainingArguments, BertForSequenceClassification\n",
        "\n",
        "\n",
        "#тренировочные параметры\n",
        "training_args = TrainingArguments(\n",
        "    output_dir='./results',\n",
        "    evaluation_strategy='epoch',\n",
        "    per_device_train_batch_size=16,\n",
        "    per_device_eval_batch_size=16,\n",
        "    num_train_epochs=2,\n",
        "    warmup_steps=500,\n",
        "    weight_decay=0.01,\n",
        "    logging_dir='./logs',\n",
        "    logging_steps=10,\n",
        ")"
      ],
      "metadata": {
        "id": "qlNF9gpHpvCy"
      },
      "execution_count": 44,
      "outputs": []
    },
    {
      "cell_type": "code",
      "source": [
        "model = BertForSequenceClassification.from_pretrained(PRE_TRAINED_MODEL_NAME, num_labels=3)"
      ],
      "metadata": {
        "colab": {
          "base_uri": "https://localhost:8080/"
        },
        "id": "x9iarmJj8Mfe",
        "outputId": "8a7a5aea-5572-48c1-9d05-b32a11988d15"
      },
      "execution_count": 40,
      "outputs": [
        {
          "output_type": "stream",
          "name": "stderr",
          "text": [
            "Some weights of BertForSequenceClassification were not initialized from the model checkpoint at bert-base-multilingual-cased and are newly initialized: ['classifier.bias', 'classifier.weight']\n",
            "You should probably TRAIN this model on a down-stream task to be able to use it for predictions and inference.\n"
          ]
        }
      ]
    },
    {
      "cell_type": "code",
      "source": [
        "trainer = Trainer(\n",
        "    model=model,   # наша модель\n",
        "    args=training_args,  # параметры\n",
        "    train_dataset=train_data_loader.dataset,  # датасет для трейна\n",
        "    eval_dataset=val_data_loader.dataset,  # валидационный датасет\n",
        "    compute_metrics=compute_metrics,   # метрики\n",
        ")"
      ],
      "metadata": {
        "id": "JzV0Ge2dpvMA"
      },
      "execution_count": 45,
      "outputs": []
    },
    {
      "cell_type": "code",
      "source": [
        "trainer.train()"
      ],
      "metadata": {
        "colab": {
          "base_uri": "https://localhost:8080/",
          "height": 174
        },
        "id": "G9qTRpXhpvOJ",
        "outputId": "bc975dc8-8f22-4845-a725-b8281ee92afc"
      },
      "execution_count": 46,
      "outputs": [
        {
          "output_type": "display_data",
          "data": {
            "text/plain": [
              "<IPython.core.display.HTML object>"
            ],
            "text/html": [
              "\n",
              "    <div>\n",
              "      \n",
              "      <progress value='1772' max='1772' style='width:300px; height:20px; vertical-align: middle;'></progress>\n",
              "      [1772/1772 15:15, Epoch 2/2]\n",
              "    </div>\n",
              "    <table border=\"1\" class=\"dataframe\">\n",
              "  <thead>\n",
              " <tr style=\"text-align: left;\">\n",
              "      <th>Epoch</th>\n",
              "      <th>Training Loss</th>\n",
              "      <th>Validation Loss</th>\n",
              "      <th>Accuracy</th>\n",
              "      <th>F1</th>\n",
              "      <th>Precision</th>\n",
              "      <th>Recall</th>\n",
              "    </tr>\n",
              "  </thead>\n",
              "  <tbody>\n",
              "    <tr>\n",
              "      <td>1</td>\n",
              "      <td>0.423300</td>\n",
              "      <td>0.668974</td>\n",
              "      <td>0.747141</td>\n",
              "      <td>0.746548</td>\n",
              "      <td>0.746227</td>\n",
              "      <td>0.747141</td>\n",
              "    </tr>\n",
              "    <tr>\n",
              "      <td>2</td>\n",
              "      <td>0.345900</td>\n",
              "      <td>0.519249</td>\n",
              "      <td>0.813215</td>\n",
              "      <td>0.812799</td>\n",
              "      <td>0.813875</td>\n",
              "      <td>0.813215</td>\n",
              "    </tr>\n",
              "  </tbody>\n",
              "</table><p>"
            ]
          },
          "metadata": {}
        },
        {
          "output_type": "execute_result",
          "data": {
            "text/plain": [
              "TrainOutput(global_step=1772, training_loss=0.4876579554839812, metrics={'train_runtime': 915.6091, 'train_samples_per_second': 30.954, 'train_steps_per_second': 1.935, 'total_flos': 2330362651639680.0, 'train_loss': 0.4876579554839812, 'epoch': 2.0})"
            ]
          },
          "metadata": {},
          "execution_count": 46
        }
      ]
    },
    {
      "cell_type": "code",
      "source": [
        "trainer.evaluate()"
      ],
      "metadata": {
        "colab": {
          "base_uri": "https://localhost:8080/",
          "height": 201
        },
        "id": "_CZq0xrTpvQm",
        "outputId": "253d38bf-851a-4608-9455-715fd9a2ee53"
      },
      "execution_count": 47,
      "outputs": [
        {
          "output_type": "display_data",
          "data": {
            "text/plain": [
              "<IPython.core.display.HTML object>"
            ],
            "text/html": [
              "\n",
              "    <div>\n",
              "      \n",
              "      <progress value='50' max='50' style='width:300px; height:20px; vertical-align: middle;'></progress>\n",
              "      [50/50 00:06]\n",
              "    </div>\n",
              "    "
            ]
          },
          "metadata": {}
        },
        {
          "output_type": "execute_result",
          "data": {
            "text/plain": [
              "{'eval_loss': 0.5192485451698303,\n",
              " 'eval_accuracy': 0.8132147395171537,\n",
              " 'eval_f1': 0.8127990249939627,\n",
              " 'eval_precision': 0.8138751749480614,\n",
              " 'eval_recall': 0.8132147395171537,\n",
              " 'eval_runtime': 6.8581,\n",
              " 'eval_samples_per_second': 114.754,\n",
              " 'eval_steps_per_second': 7.291,\n",
              " 'epoch': 2.0}"
            ]
          },
          "metadata": {},
          "execution_count": 47
        }
      ]
    },
    {
      "cell_type": "code",
      "source": [
        "trainer.evaluate(eval_dataset=test_data_loader.dataset, metric_key_prefix=\"test\")"
      ],
      "metadata": {
        "colab": {
          "base_uri": "https://localhost:8080/",
          "height": 201
        },
        "id": "t0ThVElpw-ZR",
        "outputId": "09a8a428-3c73-4dff-dbbd-2868430ed913"
      },
      "execution_count": 48,
      "outputs": [
        {
          "output_type": "display_data",
          "data": {
            "text/plain": [
              "<IPython.core.display.HTML object>"
            ],
            "text/html": [
              "\n",
              "    <div>\n",
              "      \n",
              "      <progress value='100' max='50' style='width:300px; height:20px; vertical-align: middle;'></progress>\n",
              "      [50/50 00:22]\n",
              "    </div>\n",
              "    "
            ]
          },
          "metadata": {}
        },
        {
          "output_type": "execute_result",
          "data": {
            "text/plain": [
              "{'test_loss': 0.48893529176712036,\n",
              " 'test_accuracy': 0.817258883248731,\n",
              " 'test_f1': 0.8168580002075791,\n",
              " 'test_precision': 0.8167519379283926,\n",
              " 'test_recall': 0.817258883248731,\n",
              " 'test_runtime': 7.0415,\n",
              " 'test_samples_per_second': 111.908,\n",
              " 'test_steps_per_second': 7.101,\n",
              " 'epoch': 2.0}"
            ]
          },
          "metadata": {},
          "execution_count": 48
        }
      ]
    },
    {
      "cell_type": "markdown",
      "source": [
        " ## 1) обучите ту модель, которую мы разбирали на занятии (класс SentimentClassifier из тетрадки)"
      ],
      "metadata": {
        "id": "TA9Av4K_KGon"
      }
    },
    {
      "cell_type": "code",
      "source": [
        "class SentimentClassifier(nn.Module):\n",
        "\n",
        "  def __init__(self, n_classes): # здесь приписываем берту свою голову\n",
        "    super().__init__()\n",
        "    self.bert = BertModel.from_pretrained(PRE_TRAINED_MODEL_NAME)\n",
        "    self.drop = nn.Dropout(p=0.3)\n",
        "    self.classifier = nn.Linear(self.bert.config.hidden_size, n_classes) # в конфиге скрытый размер\n",
        "\n",
        "  def forward(self, input_ids, attention_mask, labels=None):\n",
        "     outputs = self.bert(input_ids=input_ids, attention_mask=attention_mask)\n",
        "     pooled_output = outputs[1]\n",
        "    # classifier head\n",
        "     logits = self.classifier(pooled_output)\n",
        "\n",
        "     loss = None\n",
        "     if labels is not None:\n",
        "        loss_fn = nn.CrossEntropyLoss()\n",
        "        loss = loss_fn(logits, labels)\n",
        "\n",
        "     return {'loss': loss, 'logits': logits}"
      ],
      "metadata": {
        "id": "eKnNAMalKMrx"
      },
      "execution_count": 57,
      "outputs": []
    },
    {
      "cell_type": "code",
      "source": [
        "model = SentimentClassifier(n_classes=3)"
      ],
      "metadata": {
        "id": "gV6ZIBmuK0Wv"
      },
      "execution_count": 58,
      "outputs": []
    },
    {
      "cell_type": "code",
      "source": [
        "trainer = Trainer(\n",
        "    model=model,\n",
        "    args=training_args,\n",
        "    train_dataset=train_data_loader.dataset,\n",
        "    eval_dataset=val_data_loader.dataset,\n",
        "    compute_metrics=compute_metrics,\n",
        ")"
      ],
      "metadata": {
        "id": "nXrorYrIK0ZJ"
      },
      "execution_count": 59,
      "outputs": []
    },
    {
      "cell_type": "code",
      "source": [
        "trainer.train()"
      ],
      "metadata": {
        "colab": {
          "base_uri": "https://localhost:8080/",
          "height": 174
        },
        "id": "M6_fyXJhKNKC",
        "outputId": "9515d85a-f84c-4636-c904-30709dd33485"
      },
      "execution_count": 61,
      "outputs": [
        {
          "output_type": "display_data",
          "data": {
            "text/plain": [
              "<IPython.core.display.HTML object>"
            ],
            "text/html": [
              "\n",
              "    <div>\n",
              "      \n",
              "      <progress value='1772' max='1772' style='width:300px; height:20px; vertical-align: middle;'></progress>\n",
              "      [1772/1772 16:07, Epoch 2/2]\n",
              "    </div>\n",
              "    <table border=\"1\" class=\"dataframe\">\n",
              "  <thead>\n",
              " <tr style=\"text-align: left;\">\n",
              "      <th>Epoch</th>\n",
              "      <th>Training Loss</th>\n",
              "      <th>Validation Loss</th>\n",
              "      <th>Accuracy</th>\n",
              "      <th>F1</th>\n",
              "      <th>Precision</th>\n",
              "      <th>Recall</th>\n",
              "    </tr>\n",
              "  </thead>\n",
              "  <tbody>\n",
              "    <tr>\n",
              "      <td>1</td>\n",
              "      <td>0.711300</td>\n",
              "      <td>0.643852</td>\n",
              "      <td>0.725540</td>\n",
              "      <td>0.723618</td>\n",
              "      <td>0.723157</td>\n",
              "      <td>0.725540</td>\n",
              "    </tr>\n",
              "    <tr>\n",
              "      <td>2</td>\n",
              "      <td>0.440500</td>\n",
              "      <td>0.522096</td>\n",
              "      <td>0.797967</td>\n",
              "      <td>0.796784</td>\n",
              "      <td>0.796709</td>\n",
              "      <td>0.797967</td>\n",
              "    </tr>\n",
              "  </tbody>\n",
              "</table><p>"
            ]
          },
          "metadata": {}
        },
        {
          "output_type": "execute_result",
          "data": {
            "text/plain": [
              "TrainOutput(global_step=1772, training_loss=0.6043144930700686, metrics={'train_runtime': 967.7038, 'train_samples_per_second': 29.288, 'train_steps_per_second': 1.831, 'total_flos': 0.0, 'train_loss': 0.6043144930700686, 'epoch': 2.0})"
            ]
          },
          "metadata": {},
          "execution_count": 61
        }
      ]
    },
    {
      "cell_type": "code",
      "source": [
        "trainer.evaluate()"
      ],
      "metadata": {
        "colab": {
          "base_uri": "https://localhost:8080/",
          "height": 201
        },
        "id": "ugCQv8CeMfW6",
        "outputId": "a9b5f75b-03ea-4b85-d540-8ced2fb222ad"
      },
      "execution_count": 62,
      "outputs": [
        {
          "output_type": "display_data",
          "data": {
            "text/plain": [
              "<IPython.core.display.HTML object>"
            ],
            "text/html": [
              "\n",
              "    <div>\n",
              "      \n",
              "      <progress value='50' max='50' style='width:300px; height:20px; vertical-align: middle;'></progress>\n",
              "      [50/50 00:06]\n",
              "    </div>\n",
              "    "
            ]
          },
          "metadata": {}
        },
        {
          "output_type": "execute_result",
          "data": {
            "text/plain": [
              "{'eval_loss': 0.5220956802368164,\n",
              " 'eval_accuracy': 0.7979669631512071,\n",
              " 'eval_f1': 0.7967844545387514,\n",
              " 'eval_precision': 0.7967092513917488,\n",
              " 'eval_recall': 0.7979669631512071,\n",
              " 'eval_runtime': 7.0717,\n",
              " 'eval_samples_per_second': 111.288,\n",
              " 'eval_steps_per_second': 7.07,\n",
              " 'epoch': 2.0}"
            ]
          },
          "metadata": {},
          "execution_count": 62
        }
      ]
    },
    {
      "cell_type": "code",
      "source": [
        "trainer.evaluate(eval_dataset=test_data_loader.dataset, metric_key_prefix=\"test\")"
      ],
      "metadata": {
        "colab": {
          "base_uri": "https://localhost:8080/",
          "height": 201
        },
        "id": "61sIh2NuM4gY",
        "outputId": "004cb4d8-126c-402f-a5d1-1dcc54ad11d8"
      },
      "execution_count": 63,
      "outputs": [
        {
          "output_type": "display_data",
          "data": {
            "text/plain": [
              "<IPython.core.display.HTML object>"
            ],
            "text/html": [
              "\n",
              "    <div>\n",
              "      \n",
              "      <progress value='100' max='50' style='width:300px; height:20px; vertical-align: middle;'></progress>\n",
              "      [50/50 00:14]\n",
              "    </div>\n",
              "    "
            ]
          },
          "metadata": {}
        },
        {
          "output_type": "execute_result",
          "data": {
            "text/plain": [
              "{'test_loss': 0.5083199739456177,\n",
              " 'test_accuracy': 0.8083756345177665,\n",
              " 'test_f1': 0.8083673643592114,\n",
              " 'test_precision': 0.8086894246031843,\n",
              " 'test_recall': 0.8083756345177665,\n",
              " 'test_runtime': 7.1895,\n",
              " 'test_samples_per_second': 109.604,\n",
              " 'test_steps_per_second': 6.955,\n",
              " 'epoch': 2.0}"
            ]
          },
          "metadata": {},
          "execution_count": 63
        }
      ]
    },
    {
      "cell_type": "markdown",
      "source": [
        "## 2) измените модель, чтобы помимо выхода с пуллер-слоя использовался  эмбеддинг  cls-токена с последнего слоя"
      ],
      "metadata": {
        "id": "apKRpAkwKNap"
      }
    },
    {
      "cell_type": "code",
      "source": [
        "class SentimentClassifierCLS(nn.Module):\n",
        "\n",
        "  def __init__(self, n_classes): # здесь приписываем берту свою голову\n",
        "    super().__init__()\n",
        "    self.bert = BertModel.from_pretrained(PRE_TRAINED_MODEL_NAME)\n",
        "    self.drop = nn.Dropout(p=0.3)\n",
        "    self.classifier = nn.Linear(self.bert.config.hidden_size * 2, n_classes) # в конфиге скрытый размер удвоение скрытого размера для конкатенации\n",
        "\n",
        "  def forward(self, input_ids, attention_mask, labels=None):\n",
        "     outputs = self.bert(input_ids=input_ids, attention_mask=attention_mask)\n",
        "     pooled_output = outputs[1]  # аутпут с пуллер слоя\n",
        "\n",
        "     pooled_output = outputs.pooler_output\n",
        "     cls_token_emb = outputs.last_hidden_state[:, 0, :] # 1st token in the input sequence = index 0 of the sequence_length dim\n",
        "\n",
        "     # соединяем их\n",
        "     combined_output = torch.cat((pooled_output, cls_token_emb), dim=1)\n",
        "\n",
        "     logits = self.classifier(combined_output)\n",
        "\n",
        "     loss = None\n",
        "     if labels is not None:\n",
        "        loss_fn = nn.CrossEntropyLoss()\n",
        "        loss = loss_fn(logits, labels)\n",
        "\n",
        "     return {'loss': loss, 'logits': logits}"
      ],
      "metadata": {
        "id": "Zyp2UT8ZKOeQ"
      },
      "execution_count": 64,
      "outputs": []
    },
    {
      "cell_type": "code",
      "source": [
        "model = SentimentClassifierCLS(n_classes=3)"
      ],
      "metadata": {
        "id": "3Gz-5oNgKOjj"
      },
      "execution_count": 65,
      "outputs": []
    },
    {
      "cell_type": "code",
      "source": [
        "trainer = Trainer(\n",
        "    model=model,\n",
        "    args=training_args,\n",
        "    train_dataset=train_data_loader.dataset,\n",
        "    eval_dataset=val_data_loader.dataset,\n",
        "    compute_metrics=compute_metrics,\n",
        ")"
      ],
      "metadata": {
        "id": "K21xQdKJKOqD"
      },
      "execution_count": 66,
      "outputs": []
    },
    {
      "cell_type": "code",
      "source": [
        "trainer.train()"
      ],
      "metadata": {
        "colab": {
          "base_uri": "https://localhost:8080/",
          "height": 174
        },
        "id": "dllUyRAYQxEr",
        "outputId": "f4bdb5ad-8434-4d4d-8f0b-cce448a8e35e"
      },
      "execution_count": 67,
      "outputs": [
        {
          "output_type": "display_data",
          "data": {
            "text/plain": [
              "<IPython.core.display.HTML object>"
            ],
            "text/html": [
              "\n",
              "    <div>\n",
              "      \n",
              "      <progress value='1772' max='1772' style='width:300px; height:20px; vertical-align: middle;'></progress>\n",
              "      [1772/1772 15:30, Epoch 2/2]\n",
              "    </div>\n",
              "    <table border=\"1\" class=\"dataframe\">\n",
              "  <thead>\n",
              " <tr style=\"text-align: left;\">\n",
              "      <th>Epoch</th>\n",
              "      <th>Training Loss</th>\n",
              "      <th>Validation Loss</th>\n",
              "      <th>Accuracy</th>\n",
              "      <th>F1</th>\n",
              "      <th>Precision</th>\n",
              "      <th>Recall</th>\n",
              "    </tr>\n",
              "  </thead>\n",
              "  <tbody>\n",
              "    <tr>\n",
              "      <td>1</td>\n",
              "      <td>0.739000</td>\n",
              "      <td>0.680445</td>\n",
              "      <td>0.698856</td>\n",
              "      <td>0.697015</td>\n",
              "      <td>0.696302</td>\n",
              "      <td>0.698856</td>\n",
              "    </tr>\n",
              "    <tr>\n",
              "      <td>2</td>\n",
              "      <td>0.546100</td>\n",
              "      <td>0.563287</td>\n",
              "      <td>0.772554</td>\n",
              "      <td>0.772564</td>\n",
              "      <td>0.772626</td>\n",
              "      <td>0.772554</td>\n",
              "    </tr>\n",
              "  </tbody>\n",
              "</table><p>"
            ]
          },
          "metadata": {}
        },
        {
          "output_type": "execute_result",
          "data": {
            "text/plain": [
              "TrainOutput(global_step=1772, training_loss=0.704362054542548, metrics={'train_runtime': 930.6892, 'train_samples_per_second': 30.453, 'train_steps_per_second': 1.904, 'total_flos': 0.0, 'train_loss': 0.704362054542548, 'epoch': 2.0})"
            ]
          },
          "metadata": {},
          "execution_count": 67
        }
      ]
    },
    {
      "cell_type": "code",
      "source": [
        "trainer.evaluate()"
      ],
      "metadata": {
        "colab": {
          "base_uri": "https://localhost:8080/",
          "height": 201
        },
        "id": "-1J1V3TqQxNI",
        "outputId": "dc591be8-9302-4f6b-9b02-f096bfb7d6e8"
      },
      "execution_count": 68,
      "outputs": [
        {
          "output_type": "display_data",
          "data": {
            "text/plain": [
              "<IPython.core.display.HTML object>"
            ],
            "text/html": [
              "\n",
              "    <div>\n",
              "      \n",
              "      <progress value='50' max='50' style='width:300px; height:20px; vertical-align: middle;'></progress>\n",
              "      [50/50 00:06]\n",
              "    </div>\n",
              "    "
            ]
          },
          "metadata": {}
        },
        {
          "output_type": "execute_result",
          "data": {
            "text/plain": [
              "{'eval_loss': 0.5632873177528381,\n",
              " 'eval_accuracy': 0.772554002541296,\n",
              " 'eval_f1': 0.7725643371815182,\n",
              " 'eval_precision': 0.7726256192567814,\n",
              " 'eval_recall': 0.772554002541296,\n",
              " 'eval_runtime': 7.1368,\n",
              " 'eval_samples_per_second': 110.274,\n",
              " 'eval_steps_per_second': 7.006,\n",
              " 'epoch': 2.0}"
            ]
          },
          "metadata": {},
          "execution_count": 68
        }
      ]
    },
    {
      "cell_type": "code",
      "source": [
        "trainer.evaluate(eval_dataset=test_data_loader.dataset, metric_key_prefix=\"test\")"
      ],
      "metadata": {
        "colab": {
          "base_uri": "https://localhost:8080/",
          "height": 201
        },
        "id": "yeZXQNidQxVd",
        "outputId": "65876e5c-2a0c-4cc5-9fe8-fc60ce588a57"
      },
      "execution_count": 69,
      "outputs": [
        {
          "output_type": "display_data",
          "data": {
            "text/plain": [
              "<IPython.core.display.HTML object>"
            ],
            "text/html": [
              "\n",
              "    <div>\n",
              "      \n",
              "      <progress value='100' max='50' style='width:300px; height:20px; vertical-align: middle;'></progress>\n",
              "      [50/50 00:14]\n",
              "    </div>\n",
              "    "
            ]
          },
          "metadata": {}
        },
        {
          "output_type": "execute_result",
          "data": {
            "text/plain": [
              "{'test_loss': 0.5283334851264954,\n",
              " 'test_accuracy': 0.7855329949238579,\n",
              " 'test_f1': 0.7844703080025507,\n",
              " 'test_precision': 0.7837608345091716,\n",
              " 'test_recall': 0.7855329949238579,\n",
              " 'test_runtime': 7.216,\n",
              " 'test_samples_per_second': 109.202,\n",
              " 'test_steps_per_second': 6.929,\n",
              " 'epoch': 2.0}"
            ]
          },
          "metadata": {},
          "execution_count": 69
        }
      ]
    },
    {
      "cell_type": "markdown",
      "source": [
        "## 4) агрегируйте cls-токены для нескольких слоев, чтобы сделать предсказание класса"
      ],
      "metadata": {
        "id": "IxreMwtuKbQP"
      }
    },
    {
      "cell_type": "code",
      "source": [
        "class SentimentClassifier4CLS(nn.Module):\n",
        "\n",
        "  def __init__(self, n_classes): # здесь приписываем берту свою голову\n",
        "    super().__init__()\n",
        "    self.bert = BertModel.from_pretrained(PRE_TRAINED_MODEL_NAME)\n",
        "    self.drop = nn.Dropout(p=0.3)\n",
        "    self.classifier = nn.Linear(self.bert.config.hidden_size * 4, n_classes)\n",
        "\n",
        "  def forward(self, input_ids, attention_mask, labels=None):\n",
        "     outputs = self.bert(input_ids=input_ids, attention_mask=attention_mask, return_dict=True, output_hidden_states=True)\n",
        "     pooled_output = outputs[1]\n",
        "\n",
        "     cls_token_emb = [outputs.hidden_states[i][:, 0, :] for i in [-1, -2, -3, -4]]  # последние 4 слоя\n",
        "     combined_cls_emb = torch.cat(cls_token_emb, dim=1)  # соединим\n",
        "\n",
        "     logits = self.classifier(combined_cls_emb)\n",
        "\n",
        "     loss = None\n",
        "     if labels is not None:\n",
        "        loss_fn = nn.CrossEntropyLoss()\n",
        "        loss = loss_fn(logits, labels)\n",
        "\n",
        "     return {'loss': loss, 'logits': logits}"
      ],
      "metadata": {
        "id": "M-oJJZoIKfEG"
      },
      "execution_count": 75,
      "outputs": []
    },
    {
      "cell_type": "code",
      "source": [
        "model = SentimentClassifier4CLS(n_classes=3)"
      ],
      "metadata": {
        "id": "wgyIdTQIKfR7"
      },
      "execution_count": 76,
      "outputs": []
    },
    {
      "cell_type": "code",
      "source": [
        "trainer = Trainer(\n",
        "    model=model,\n",
        "    args=training_args,\n",
        "    train_dataset=train_data_loader.dataset,\n",
        "    eval_dataset=val_data_loader.dataset,\n",
        "    compute_metrics=compute_metrics,\n",
        ")"
      ],
      "metadata": {
        "id": "WwYEOwfyKfg7"
      },
      "execution_count": 77,
      "outputs": []
    },
    {
      "cell_type": "code",
      "source": [
        "trainer.train()"
      ],
      "metadata": {
        "colab": {
          "base_uri": "https://localhost:8080/",
          "height": 174
        },
        "id": "NK7LJKy6Vd-R",
        "outputId": "76d972c6-6b11-40fb-f06b-c1fcf1d4e616"
      },
      "execution_count": 78,
      "outputs": [
        {
          "output_type": "display_data",
          "data": {
            "text/plain": [
              "<IPython.core.display.HTML object>"
            ],
            "text/html": [
              "\n",
              "    <div>\n",
              "      \n",
              "      <progress value='1772' max='1772' style='width:300px; height:20px; vertical-align: middle;'></progress>\n",
              "      [1772/1772 15:18, Epoch 2/2]\n",
              "    </div>\n",
              "    <table border=\"1\" class=\"dataframe\">\n",
              "  <thead>\n",
              " <tr style=\"text-align: left;\">\n",
              "      <th>Epoch</th>\n",
              "      <th>Training Loss</th>\n",
              "      <th>Validation Loss</th>\n",
              "      <th>Accuracy</th>\n",
              "      <th>F1</th>\n",
              "      <th>Precision</th>\n",
              "      <th>Recall</th>\n",
              "    </tr>\n",
              "  </thead>\n",
              "  <tbody>\n",
              "    <tr>\n",
              "      <td>1</td>\n",
              "      <td>0.751000</td>\n",
              "      <td>0.672087</td>\n",
              "      <td>0.689962</td>\n",
              "      <td>0.670020</td>\n",
              "      <td>0.681583</td>\n",
              "      <td>0.689962</td>\n",
              "    </tr>\n",
              "    <tr>\n",
              "      <td>2</td>\n",
              "      <td>0.505200</td>\n",
              "      <td>0.540239</td>\n",
              "      <td>0.805591</td>\n",
              "      <td>0.804827</td>\n",
              "      <td>0.804542</td>\n",
              "      <td>0.805591</td>\n",
              "    </tr>\n",
              "  </tbody>\n",
              "</table><p>"
            ]
          },
          "metadata": {}
        },
        {
          "output_type": "execute_result",
          "data": {
            "text/plain": [
              "TrainOutput(global_step=1772, training_loss=0.6948536183037554, metrics={'train_runtime': 918.7272, 'train_samples_per_second': 30.849, 'train_steps_per_second': 1.929, 'total_flos': 0.0, 'train_loss': 0.6948536183037554, 'epoch': 2.0})"
            ]
          },
          "metadata": {},
          "execution_count": 78
        }
      ]
    },
    {
      "cell_type": "code",
      "source": [
        "trainer.evaluate()"
      ],
      "metadata": {
        "colab": {
          "base_uri": "https://localhost:8080/",
          "height": 201
        },
        "id": "YJ3GvKzgVeGq",
        "outputId": "6a0b9484-e93b-4a8e-f453-e8cf5b052856"
      },
      "execution_count": 79,
      "outputs": [
        {
          "output_type": "display_data",
          "data": {
            "text/plain": [
              "<IPython.core.display.HTML object>"
            ],
            "text/html": [
              "\n",
              "    <div>\n",
              "      \n",
              "      <progress value='50' max='50' style='width:300px; height:20px; vertical-align: middle;'></progress>\n",
              "      [50/50 00:07]\n",
              "    </div>\n",
              "    "
            ]
          },
          "metadata": {}
        },
        {
          "output_type": "execute_result",
          "data": {
            "text/plain": [
              "{'eval_loss': 0.540239155292511,\n",
              " 'eval_accuracy': 0.8055908513341804,\n",
              " 'eval_f1': 0.8048274670052785,\n",
              " 'eval_precision': 0.8045421786609517,\n",
              " 'eval_recall': 0.8055908513341804,\n",
              " 'eval_runtime': 7.1646,\n",
              " 'eval_samples_per_second': 109.846,\n",
              " 'eval_steps_per_second': 6.979,\n",
              " 'epoch': 2.0}"
            ]
          },
          "metadata": {},
          "execution_count": 79
        }
      ]
    },
    {
      "cell_type": "code",
      "source": [
        "trainer.evaluate(eval_dataset=test_data_loader.dataset, metric_key_prefix=\"test\")"
      ],
      "metadata": {
        "colab": {
          "base_uri": "https://localhost:8080/",
          "height": 201
        },
        "id": "lQn3G6VgVmMj",
        "outputId": "e339e7cc-0dca-4b4f-870a-5b4927490d78"
      },
      "execution_count": 80,
      "outputs": [
        {
          "output_type": "display_data",
          "data": {
            "text/plain": [
              "<IPython.core.display.HTML object>"
            ],
            "text/html": [
              "\n",
              "    <div>\n",
              "      \n",
              "      <progress value='100' max='50' style='width:300px; height:20px; vertical-align: middle;'></progress>\n",
              "      [50/50 00:14]\n",
              "    </div>\n",
              "    "
            ]
          },
          "metadata": {}
        },
        {
          "output_type": "execute_result",
          "data": {
            "text/plain": [
              "{'test_loss': 0.5164508819580078,\n",
              " 'test_accuracy': 0.799492385786802,\n",
              " 'test_f1': 0.7980858775326877,\n",
              " 'test_precision': 0.7975899096821045,\n",
              " 'test_recall': 0.799492385786802,\n",
              " 'test_runtime': 7.0769,\n",
              " 'test_samples_per_second': 111.348,\n",
              " 'test_steps_per_second': 7.065,\n",
              " 'epoch': 2.0}"
            ]
          },
          "metadata": {},
          "execution_count": 80
        }
      ]
    },
    {
      "cell_type": "markdown",
      "source": [
        "## 5) выберите на сайте google play три понравившихся вам отзыва, относящиеся к разным классам. Покажите, как на них работает любая из обученных моделей"
      ],
      "metadata": {
        "id": "CbhCwYNGKf6h"
      }
    },
    {
      "cell_type": "markdown",
      "source": [
        "### 0 - негативный, 1 - нейтральный, 2 - позитивный"
      ],
      "metadata": {
        "id": "KBY4paezY2oN"
      }
    },
    {
      "cell_type": "markdown",
      "source": [
        "выбрала 3 отзыва на Genshin Impact с 5, 3 и 1 звёздами"
      ],
      "metadata": {
        "id": "K-jOvK96jK4J"
      }
    },
    {
      "cell_type": "markdown",
      "source": [
        "![5206264979056096616.jpg](data:image/jpeg;base64,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)![5206264979056096619.jpg](data:image/jpeg;base64,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)![5206264979056096618.jpg](data:image/jpeg;base64,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)"
      ],
      "metadata": {
        "id": "5U0fHN1Ge32Y"
      }
    },
    {
      "cell_type": "code",
      "source": [
        "review_5star = 'An awesome experience, the game is breathtaking and beautiful. Every new region is a new experience, the combat is easy to understand, and the story is amazing and also complex. Exploration keeps getting better, the puzzles are creative and challenging. The characters looks amazing and well designed, each having its unique traits. The Music is far from just amazing, its grand and varies with every region released. It feels like the game is made just for the music with storytelling in mind.'\n",
        "review_3star = \"It's a fascinating game with beautiful open world design and amazing character design. The game combat is good in this game, however I would prefer that there should be a customize UI for the setting. I can't stand that the UI setting for the movement button is smaller than my thumb. I hope this will get issued soon.\"\n",
        "review_1star = \"I've been playing Genshin since its release and have enjoyed many aspects of the game. However, as someone who appreciates male characters, I've found the recent direction of the game extremely disappointing. It feels like the content and character releases are heavily focused on catering to waifu fans, leaving those who enjoy male characters with fewer options. It's clear the developers are responding to a specific audience, this shift has made me feel alienated as a long-time player.\""
      ],
      "metadata": {
        "id": "QHh4LVr5TV16"
      },
      "execution_count": 82,
      "outputs": []
    },
    {
      "cell_type": "code",
      "source": [
        "encoded_review1 = tokenizer.encode_plus(\n",
        "  review_5star,\n",
        "  max_length=MAX_LEN,\n",
        "  add_special_tokens=True,\n",
        "  return_token_type_ids=False,\n",
        "  padding='max_length',\n",
        "  return_attention_mask=True,\n",
        "  return_tensors='pt',\n",
        "  truncation=True\n",
        ")"
      ],
      "metadata": {
        "id": "RbBnzX8HTV8D"
      },
      "execution_count": 95,
      "outputs": []
    },
    {
      "cell_type": "code",
      "source": [
        "input_ids = encoded_review1['input_ids']\n",
        "attention_mask = encoded_review1['attention_mask']"
      ],
      "metadata": {
        "id": "ddOkuiyLTWmH"
      },
      "execution_count": 96,
      "outputs": []
    },
    {
      "cell_type": "code",
      "source": [
        "class NewReviews(Dataset): # чтобы сделать датасет из 1 отзыва\n",
        "    def __init__(self, input_ids, attention_mask):\n",
        "        self.input_ids = input_ids\n",
        "        self.attention_mask = attention_mask\n",
        "\n",
        "    def __len__(self):\n",
        "        return 1  # один элемент\n",
        "\n",
        "    def __getitem__(self, idx):\n",
        "        return {\n",
        "            'input_ids': self.input_ids.squeeze(0),\n",
        "            'attention_mask': self.attention_mask.squeeze(0),\n",
        "            'labels': torch.tensor(0) # label for prediction\n",
        "        }"
      ],
      "metadata": {
        "id": "oTdFxy4db5id"
      },
      "execution_count": 101,
      "outputs": []
    },
    {
      "cell_type": "code",
      "source": [
        "test_review1 = NewReviews(input_ids, attention_mask)"
      ],
      "metadata": {
        "id": "TypVj7G0cOjp"
      },
      "execution_count": 102,
      "outputs": []
    },
    {
      "cell_type": "code",
      "source": [
        "# предсказание\n",
        "predictions = trainer.predict(test_review1)\n",
        "logits = predictions.predictions\n",
        "# метка класса\n",
        "preds = logits.argmax(-1)\n",
        "print(f'Predicted class: {preds.item()}')  # всё правильно, отзыв позитивный"
      ],
      "metadata": {
        "colab": {
          "base_uri": "https://localhost:8080/",
          "height": 35
        },
        "id": "cWgJw8mdcsFX",
        "outputId": "ed952652-2657-482d-8d9b-6a57cbcf5d1d"
      },
      "execution_count": 103,
      "outputs": [
        {
          "output_type": "display_data",
          "data": {
            "text/plain": [
              "<IPython.core.display.HTML object>"
            ],
            "text/html": []
          },
          "metadata": {}
        },
        {
          "output_type": "stream",
          "name": "stdout",
          "text": [
            "Predicted class: 2\n"
          ]
        }
      ]
    },
    {
      "cell_type": "code",
      "source": [
        "encoded_review2 = tokenizer.encode_plus(\n",
        "  review_3star,\n",
        "  max_length=MAX_LEN,\n",
        "  add_special_tokens=True,\n",
        "  return_token_type_ids=False,\n",
        "  padding='max_length',\n",
        "  return_attention_mask=True,\n",
        "  return_tensors='pt',\n",
        "  truncation=True\n",
        ")"
      ],
      "metadata": {
        "id": "MNKm9dE1dbBN"
      },
      "execution_count": 104,
      "outputs": []
    },
    {
      "cell_type": "code",
      "source": [
        "input_ids = encoded_review2['input_ids']\n",
        "attention_mask = encoded_review2['attention_mask']"
      ],
      "metadata": {
        "id": "u38YI_o5dbFE"
      },
      "execution_count": 105,
      "outputs": []
    },
    {
      "cell_type": "code",
      "source": [
        "test_review2 = NewReviews(input_ids, attention_mask)"
      ],
      "metadata": {
        "id": "vnl4xDgPdbIo"
      },
      "execution_count": 106,
      "outputs": []
    },
    {
      "cell_type": "code",
      "source": [
        "predictions = trainer.predict(test_review2)\n",
        "logits = predictions.predictions\n",
        "preds = logits.argmax(-1)\n",
        "print(f'Predicted class: {preds.item()}') # неправильно, отзыв нейтральный, хотя я и сама, если бы не знала, что там 3 звезды, могла бы и 4 предсказать))"
      ],
      "metadata": {
        "colab": {
          "base_uri": "https://localhost:8080/",
          "height": 35
        },
        "id": "SpRLlgDXdbTS",
        "outputId": "b9b340dd-a099-4448-87f1-117897a4170b"
      },
      "execution_count": 107,
      "outputs": [
        {
          "output_type": "display_data",
          "data": {
            "text/plain": [
              "<IPython.core.display.HTML object>"
            ],
            "text/html": []
          },
          "metadata": {}
        },
        {
          "output_type": "stream",
          "name": "stdout",
          "text": [
            "Predicted class: 2\n"
          ]
        }
      ]
    },
    {
      "cell_type": "code",
      "source": [
        "encoded_review3 = tokenizer.encode_plus(\n",
        "  review_1star,\n",
        "  max_length=MAX_LEN,\n",
        "  add_special_tokens=True,\n",
        "  return_token_type_ids=False,\n",
        "  padding='max_length',\n",
        "  return_attention_mask=True,\n",
        "  return_tensors='pt',\n",
        "  truncation=True\n",
        ")"
      ],
      "metadata": {
        "id": "rlwo1Gd0dwrY"
      },
      "execution_count": 108,
      "outputs": []
    },
    {
      "cell_type": "code",
      "source": [
        "input_ids = encoded_review3['input_ids']\n",
        "attention_mask = encoded_review3['attention_mask']"
      ],
      "metadata": {
        "id": "UavVQ--Ld2BA"
      },
      "execution_count": 109,
      "outputs": []
    },
    {
      "cell_type": "code",
      "source": [
        "test_review3 = NewReviews(input_ids, attention_mask)"
      ],
      "metadata": {
        "id": "paAoUnf7d2EN"
      },
      "execution_count": 110,
      "outputs": []
    },
    {
      "cell_type": "code",
      "source": [
        "predictions = trainer.predict(test_review3)\n",
        "logits = predictions.predictions\n",
        "preds = logits.argmax(-1)\n",
        "print(f'Predicted class: {preds.item()}') # неправильно, отзыв негативный"
      ],
      "metadata": {
        "colab": {
          "base_uri": "https://localhost:8080/",
          "height": 35
        },
        "id": "yqXxQ_rLd2HR",
        "outputId": "74f95e48-05d1-4aa1-968b-c46e654506fa"
      },
      "execution_count": 111,
      "outputs": [
        {
          "output_type": "display_data",
          "data": {
            "text/plain": [
              "<IPython.core.display.HTML object>"
            ],
            "text/html": []
          },
          "metadata": {}
        },
        {
          "output_type": "stream",
          "name": "stdout",
          "text": [
            "Predicted class: 1\n"
          ]
        }
      ]
    },
    {
      "cell_type": "markdown",
      "source": [
        "## Итоги\n",
        "\n",
        "В принципе, результаты не очень сильно отличались, лучшие показатели по f1 были у готовой модели BertForSequenceClassification ('test_f1': 0.8168580002075791).\n",
        "\n",
        "1) 'test_f1': 0.8083673643592114\\\n",
        "2) 'test_f1': 0.7844703080025507\\\n",
        "3) 'test_f1': 0.8168580002075791\\\n",
        "4) 'test_f1': 0.7980858775326877\\\n",
        "5) Я тестировала отзывы на модели SentimentClassifier4CLS\n",
        "\n",
        "в основе везде была 'bert-base-multilingual-cased'"
      ],
      "metadata": {
        "id": "ZAdbkAmGlUwt"
      }
    }
  ]
}